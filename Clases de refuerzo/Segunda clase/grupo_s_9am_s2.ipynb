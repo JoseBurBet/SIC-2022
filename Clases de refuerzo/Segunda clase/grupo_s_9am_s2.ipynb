{
 "cells": [
  {
   "cell_type": "code",
   "execution_count": 1,
   "id": "b8e41919",
   "metadata": {},
   "outputs": [
    {
     "name": "stdout",
     "output_type": "stream",
     "text": [
      "ingrese un numero: 7\n",
      "ingrese otro numero: 2\n",
      "el numero mayor es:  7\n"
     ]
    }
   ],
   "source": [
    "# hacer un programa que compare 2 numeros\n",
    "\n",
    "n1=int(input(\"ingrese un numero: \"))\n",
    "n2=int(input(\"ingrese otro numero: \"))\n",
    "\n",
    "if n1>n2:\n",
    "    print(\"el numero mayor es: \",n1)\n",
    "elif n2>n1:\n",
    "    print(\"el numero mayor es: \",n2)\n",
    "else:\n",
    "    print(\"los numeros son iguales\")\n"
   ]
  },
  {
   "cell_type": "code",
   "execution_count": 2,
   "id": "39eedb53",
   "metadata": {},
   "outputs": [
    {
     "name": "stdout",
     "output_type": "stream",
     "text": [
      "ingrese su usuario \n",
      "jose\n",
      "ingrese la contraseña \n",
      "jupyter\n",
      "acceso concedido\n"
     ]
    }
   ],
   "source": [
    "#ejemplo 2  acceso a una cuenta\n",
    "\n",
    "#login\n",
    "#______Memoria\n",
    "user=\"jose\"\n",
    "password=\"jupyter\"\n",
    "#_____________\n",
    "\n",
    "us=input(\"ingrese su usuario \\n\")\n",
    "pas=input(\"ingrese la contraseña \\n\")\n",
    "\n",
    "# operador logico AND (y), solo se cumple si se cuemplen las dos condiciones\n",
    "\n",
    "if us==user and pas==password:\n",
    "    print(\"acceso concedido\")\n",
    "elif us==user and pas!=password:\n",
    "    print(\"contraseña incorrecta\")\n",
    "elif us!=user and pas==password:\n",
    "    print(\"usuario incorrecto\")\n",
    "\n",
    "elif us!=user and pas!=password: # else:\n",
    "    print(\"acceso denegado\")     # print(\"acceso denegado\")\n"
   ]
  },
  {
   "cell_type": "markdown",
   "id": "c33a9d3b",
   "metadata": {},
   "source": [
    "# Bucles o ciclos\n",
    "### algo que se repite\n",
    "### puede ser\n",
    "- se repite infino\n",
    "- se repite un numero limitado de veces\n",
    "\n"
   ]
  },
  {
   "cell_type": "markdown",
   "id": "2f3bd70f",
   "metadata": {},
   "source": [
    "## Bucle infinito\n",
    "\n",
    "while -> mientras -> mientras se cumpla la condicion se repite\n",
    "while condicion :\n",
    "\n",
    "usualmente se usa como habilitador : Enable\n",
    "\n",
    "1-> verdadero -> True -> si\n",
    "0-> falso -> False ->no\n",
    "\n",
    "\n",
    "- ejm1 encendido=1\n",
    "\n",
    "while encendido==1\n",
    "\n",
    "- ejm2 \n",
    "\n",
    "while True #bucle infinito, siempre va a estar activo\n"
   ]
  },
  {
   "cell_type": "code",
   "execution_count": null,
   "id": "a7decb67",
   "metadata": {},
   "outputs": [],
   "source": [
    "# contador infinito\n",
    "\n",
    "contador=0\n",
    "\n",
    "while True:\n",
    "    #contador=contador+1\n",
    "    contador+=1\n",
    "    print(contador)"
   ]
  },
  {
   "cell_type": "code",
   "execution_count": 6,
   "id": "e3a166af",
   "metadata": {},
   "outputs": [
    {
     "name": "stdout",
     "output_type": "stream",
     "text": [
      "1\n",
      "2\n",
      "3\n",
      "4\n",
      "5\n",
      "6\n",
      "7\n",
      "8\n",
      "9\n",
      "10\n",
      "11\n",
      "12\n",
      "13\n",
      "14\n",
      "15\n",
      "16\n",
      "17\n",
      "18\n",
      "19\n",
      "20\n"
     ]
    }
   ],
   "source": [
    "#contador limitado o finito\n",
    "contador=0\n",
    "while contador<20:\n",
    "    #contador=contador+1\n",
    "    contador+=1\n",
    "    print(contador)\n",
    "    "
   ]
  },
  {
   "cell_type": "markdown",
   "id": "73b84651",
   "metadata": {},
   "source": [
    "##  for  -> para -> para condicion(caracteristicas):\n",
    "###                                caracteristicas-> (inicio,fin,paso)"
   ]
  },
  {
   "cell_type": "code",
   "execution_count": 9,
   "id": "e64bf215",
   "metadata": {},
   "outputs": [
    {
     "name": "stdout",
     "output_type": "stream",
     "text": [
      "[1, 2, 3, 4, 5, 6, 7, 8, 9, 10, 11, 12, 13, 14, 15, 16, 17, 18, 19, 20]\n",
      "[7, 11, 15, 19, 23, 27, 31]\n"
     ]
    }
   ],
   "source": [
    "# funcion range(inicio,fin,paso) #el fin no incluye el ultimo numero\n",
    "\n",
    "print(list(range(1,21,1)))\n",
    "print(list(range(7,32,4)))"
   ]
  },
  {
   "cell_type": "code",
   "execution_count": 10,
   "id": "3995f505",
   "metadata": {},
   "outputs": [
    {
     "name": "stdout",
     "output_type": "stream",
     "text": [
      "1\n",
      "2\n",
      "3\n",
      "4\n",
      "5\n",
      "6\n",
      "7\n",
      "8\n",
      "9\n",
      "10\n",
      "11\n",
      "12\n",
      "13\n",
      "14\n",
      "15\n",
      "16\n",
      "17\n",
      "18\n",
      "19\n",
      "20\n"
     ]
    }
   ],
   "source": [
    "for contador in range(1,21,1):\n",
    "    print(contador)"
   ]
  },
  {
   "cell_type": "code",
   "execution_count": 20,
   "id": "a34865a5",
   "metadata": {},
   "outputs": [
    {
     "name": "stdout",
     "output_type": "stream",
     "text": [
      "ingrese su usuario \n",
      "jose\n",
      "ingrese la contraseña \n",
      "asdf\n",
      "contraseña incorrecta\n",
      "te quedan 2 intentos\n",
      "ingrese la contraseña \n",
      "python\n",
      "acceso concedido\n",
      "\n",
      " fin del programa\n"
     ]
    }
   ],
   "source": [
    "#ejemplo de control de acceso completo para un banco \n",
    "\n",
    "#__memoria___\n",
    "user=\"jose\"\n",
    "password=\"python\"\n",
    "#___________\n",
    "\n",
    "#set up\n",
    "intentos=3\n",
    "us=\"\"\n",
    "pas=\"\"\n",
    "\n",
    "while us!=user:\n",
    "    us=input(\"ingrese su usuario \\n\")\n",
    "    \n",
    "    if us==user:\n",
    "        \n",
    "        for contador in range(0,intentos,1):\n",
    "            pas=input(\"ingrese la contraseña \\n\")\n",
    "            \n",
    "            if pas!=password:\n",
    "                print(\"contraseña incorrecta\")\n",
    "                print(\"te quedan {} intentos\".format(intentos-1-contador))\n",
    "                \n",
    "            else:\n",
    "                print(\"acceso concedido\")\n",
    "                break #romper -> rompe el ultimo bucle\n",
    "        \n",
    "        print(\"\\n fin del programa\")\n"
   ]
  },
  {
   "cell_type": "code",
   "execution_count": 28,
   "id": "636304f8",
   "metadata": {},
   "outputs": [
    {
     "name": "stdout",
     "output_type": "stream",
     "text": [
      "hola edgar soy el profe jose\n",
      "hola edgar soy el profe jose\n",
      "hola edgar soy el profe jose\n"
     ]
    }
   ],
   "source": [
    "texto1=\"edgar\"\n",
    "texto2=\"jose\"\n",
    "print(\"hola {} soy el profe {}\".format(texto1,texto2))\n",
    "print(\"hola\",texto1,\"soy el profe\",texto2)\n",
    "print(f\"hola {texto1} soy el profe {texto2}\")"
   ]
  },
  {
   "cell_type": "markdown",
   "id": "0cb4a071",
   "metadata": {},
   "source": [
    "# Manejo de datos"
   ]
  },
  {
   "cell_type": "code",
   "execution_count": 31,
   "id": "c10335a1",
   "metadata": {},
   "outputs": [
    {
     "name": "stdout",
     "output_type": "stream",
     "text": [
      "['carne', 'queso', 'papas', 'leche', 'arroz']\n",
      "papas\n"
     ]
    }
   ],
   "source": [
    "# listas\n",
    "\n",
    "lista_mercado=[\"carne\",\"queso\",\"papas\",\"leche\",\"arroz\"]\n",
    "print(lista_mercado)\n",
    "print(lista_mercado[2])"
   ]
  },
  {
   "cell_type": "code",
   "execution_count": 34,
   "id": "6aa60c2d",
   "metadata": {},
   "outputs": [
    {
     "name": "stdout",
     "output_type": "stream",
     "text": [
      "{'profe': 'jose', 'est_1': 'aaron', 'est_2': 'edgar'}\n",
      "jose\n",
      "aaron\n"
     ]
    }
   ],
   "source": [
    "# diccionarios\n",
    "\n",
    "#dicc={\"key\":\"value\",\"key2\":\"value2\"}\n",
    "\n",
    "clase={\"profe\":\"jose\",\n",
    "       \"est_1\":\"aaron\",\n",
    "       \"est_2\":\"edgar\"\n",
    "      }\n",
    "print(clase)\n",
    "print(clase[\"profe\"])\n",
    "print(clase[\"est_1\"])"
   ]
  }
 ],
 "metadata": {
  "kernelspec": {
   "display_name": "Python 3 (ipykernel)",
   "language": "python",
   "name": "python3"
  },
  "language_info": {
   "codemirror_mode": {
    "name": "ipython",
    "version": 3
   },
   "file_extension": ".py",
   "mimetype": "text/x-python",
   "name": "python",
   "nbconvert_exporter": "python",
   "pygments_lexer": "ipython3",
   "version": "3.9.12"
  }
 },
 "nbformat": 4,
 "nbformat_minor": 5
}
