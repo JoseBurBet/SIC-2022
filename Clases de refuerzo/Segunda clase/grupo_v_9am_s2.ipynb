{
 "cells": [
  {
   "cell_type": "markdown",
   "id": "e7d1180e",
   "metadata": {},
   "source": [
    "shortcuts\n",
    "teclas de acceso rapido\n",
    "\n",
    "- ctrl+z -> deshacer\n",
    "- ctrl+x -> cortar\n",
    "- ctrl+c -> copiar\n",
    "- ctrl+v -> pegar\n",
    "\n",
    "\n",
    "si tengo algo seleccionado y oprimo\n",
    "\n",
    "doble click sobre una palabra la selcciona completa\n",
    "\n",
    "- shift+2 -> le pongo comillas\n",
    "- tab -> idento (muevo toda la margen a la derecha)"
   ]
  },
  {
   "cell_type": "markdown",
   "id": "a550ac98",
   "metadata": {},
   "source": [
    "# Condicionales, o toma de desiciones"
   ]
  },
  {
   "cell_type": "code",
   "execution_count": 3,
   "id": "56d78fbe",
   "metadata": {},
   "outputs": [
    {
     "name": "stdout",
     "output_type": "stream",
     "text": [
      "es de dia o es de noche? : \n",
      "dia\n",
      "apague la luz\n"
     ]
    }
   ],
   "source": [
    "# if  -> si?\n",
    "# en el if si se cumple la condicion ejecuta el codigo , sino lo ignora y pasa a la siguiente linea\n",
    "\n",
    "#sintaxis-> la manera correcta de escribir el codigo\n",
    "\n",
    "#todo s epuede resumir en:\n",
    "#si - verdadero - 1 -True    -opcion1\n",
    "#no - falso     - 0 -False   -opcion2\n",
    "\n",
    "respuesta=input(\"es de dia o es de noche? : \\n\") \n",
    "\n",
    "if respuesta==\"noche\":\n",
    "    print(\"encienda la luz\")\n",
    "else: #todas las opciones de descarte que no sean la condicion del if\n",
    "    print(\"apague la luz\") #asumimos que es de dia"
   ]
  },
  {
   "cell_type": "code",
   "execution_count": 4,
   "id": "71e0dc4d",
   "metadata": {},
   "outputs": [
    {
     "name": "stdout",
     "output_type": "stream",
     "text": [
      "es de dia o es de noche? : \n",
      "noche\n",
      "encienda la luz\n"
     ]
    }
   ],
   "source": [
    "respuesta=input(\"es de dia o es de noche? : \\n\") \n",
    "if respuesta==\"noche\":\n",
    "    print(\"encienda la luz\")\n",
    "elif respuesta==\"dia\":\n",
    "    print(\"apague la luz\") #asumimos que es de dia\n",
    "else: #todas las opciones de descarte que no sean la condicion del if\n",
    "    print(\"no ingreso una respuesta correcta\")#control de errores"
   ]
  },
  {
   "cell_type": "markdown",
   "id": "3978d910",
   "metadata": {},
   "source": [
    "# operadores de comparacion: siempre son preguntas!!!\n",
    "\n",
    "### < menor que?\n",
    "### > mayor que?\n",
    "### <= menor o igual que?\n",
    "### >= mayor o igual que?\n",
    "### == son iguales?\n",
    "### != son diferentes?"
   ]
  },
  {
   "cell_type": "code",
   "execution_count": 5,
   "id": "99228057",
   "metadata": {},
   "outputs": [
    {
     "name": "stdout",
     "output_type": "stream",
     "text": [
      "ingrese el primer numero : 7\n",
      "ingrese el segundo numero : 3\n",
      "el numero mayor es:  7.0\n"
     ]
    }
   ],
   "source": [
    "# hagamos un programa que diga cual es el mayor entre 2 numeros\n",
    "\n",
    "#______________________control de error_____________________\n",
    "try: # try ejecuta el codigo hasta que salga un error\n",
    "    numero1=float(input(\"ingrese el primer numero : \"))\n",
    "    numero2=float(input(\"ingrese el segundo numero : \"))\n",
    "    \n",
    "    #___________hago el codigo que pidieron_____________\n",
    "\n",
    "    if numero1>numero2:\n",
    "        print(\"el numero mayor es: \",numero1)\n",
    "    elif numero2>numero1:\n",
    "        print(\"el numero mayor es: \",numero2)\n",
    "    else:\n",
    "        print(\"los numeros son iguales\")\n",
    "\n",
    "\n",
    "except:# cuando el try detecta el error se activa este código y saca este mensaje\n",
    "    print(\"por favor ingrese un numero valido\")\n",
    "#___________________________________________________________\n",
    "\n"
   ]
  },
  {
   "cell_type": "code",
   "execution_count": 6,
   "id": "5b2819be",
   "metadata": {},
   "outputs": [
    {
     "name": "stdout",
     "output_type": "stream",
     "text": [
      "ingrese el usuario: \n",
      "jose\n",
      "ingrese la contraseña: \n",
      "sdfghjm\n",
      "contraseña incorrecta\n"
     ]
    }
   ],
   "source": [
    "# ejemplo -> acceso de usuario con restriccion\n",
    "\n",
    "# login\n",
    "\n",
    "#____memoria___\n",
    "user=\"jose\"\n",
    "password=\"python\"\n",
    "#________________\n",
    "\n",
    "us=input(\"ingrese el usuario: \\n\")\n",
    "pas=input(\"ingrese la contraseña: \\n\")\n",
    "\n",
    "#operador logico and (y) , solo se cumple cuando las 2 condiciones se cumplen\n",
    "\n",
    "if us==user and pas==password:\n",
    "    print(\"login succes -> logueado\")\n",
    "elif us!=user and pas==password:\n",
    "    print(\"usuario incorrecto\")\n",
    "elif us==user and pas!=password:\n",
    "    print(\"contraseña incorrecta\")\n",
    "else:\n",
    "    print(\"datos incorrectos\")"
   ]
  },
  {
   "cell_type": "markdown",
   "id": "7e447d73",
   "metadata": {},
   "source": [
    "# BUCLES O CICLOS\n",
    "## algo que se repite\n",
    "## 2 tipos\n",
    "\n",
    "- se repite infinito\n",
    "- cuando se repite un numero limitado de veces"
   ]
  },
  {
   "cell_type": "markdown",
   "id": "6158078a",
   "metadata": {},
   "source": [
    "### Bucle infinito"
   ]
  },
  {
   "cell_type": "markdown",
   "id": "6a93cde8",
   "metadata": {},
   "source": [
    "while -> mientras -> mientras la condicion sea verdad se repite infinito\n",
    "\n",
    "usualmente se utilizan como ENABLE -> habilitado "
   ]
  },
  {
   "cell_type": "markdown",
   "id": "7d30d13c",
   "metadata": {},
   "source": [
    "while condicion :\n",
    "\n",
    "ejm1__________________________\n",
    "\n",
    "encendido=1    \n",
    "while encendido==1:\n",
    "    \n",
    "ejm2__________________________\n",
    "\n",
    "while True: #siempre va a estar activo\n"
   ]
  },
  {
   "cell_type": "code",
   "execution_count": null,
   "id": "1d95c3b0",
   "metadata": {},
   "outputs": [],
   "source": [
    "#contador infinito\n",
    "\n",
    "contador=0\n",
    "while True:\n",
    "    \n",
    "    #contador=contador+1\n",
    "    contador+=1\n",
    "    print(contador)"
   ]
  },
  {
   "cell_type": "code",
   "execution_count": 7,
   "id": "1a0d2fe4",
   "metadata": {},
   "outputs": [
    {
     "name": "stdout",
     "output_type": "stream",
     "text": [
      "1\n",
      "2\n",
      "3\n",
      "4\n",
      "5\n",
      "6\n",
      "7\n",
      "8\n",
      "9\n",
      "10\n",
      "11\n",
      "12\n",
      "13\n",
      "14\n",
      "15\n",
      "16\n",
      "17\n",
      "18\n",
      "19\n",
      "20\n"
     ]
    }
   ],
   "source": [
    "#contador limitado\n",
    "\n",
    "contador=0\n",
    "while contador<20:\n",
    "    \n",
    "    #contador=contador+1\n",
    "    contador+=1\n",
    "    print(contador)"
   ]
  },
  {
   "cell_type": "markdown",
   "id": "1c122c88",
   "metadata": {},
   "source": [
    "for -> para -> para condicion (caracteristicas)\n",
    "                            caracteristicas -> inicio,fin,paso"
   ]
  },
  {
   "cell_type": "code",
   "execution_count": 8,
   "id": "d152cfdf",
   "metadata": {},
   "outputs": [
    {
     "name": "stdout",
     "output_type": "stream",
     "text": [
      "[1, 2, 3, 4, 5, 6, 7, 8, 9, 10, 11, 12, 13, 14, 15, 16, 17, 18, 19, 20]\n",
      "[0, 2, 4, 6, 8, 10, 12, 14, 16, 18]\n"
     ]
    }
   ],
   "source": [
    "#funcion range(inicio,fin,paso)\n",
    "print(list(range(1,21,1)))\n",
    "print(list(range(0,20,2)))"
   ]
  },
  {
   "cell_type": "code",
   "execution_count": 9,
   "id": "3ecb0872",
   "metadata": {},
   "outputs": [
    {
     "name": "stdout",
     "output_type": "stream",
     "text": [
      "1\n",
      "2\n",
      "3\n",
      "4\n",
      "5\n",
      "6\n",
      "7\n",
      "8\n",
      "9\n",
      "10\n",
      "11\n",
      "12\n",
      "13\n",
      "14\n",
      "15\n",
      "16\n",
      "17\n",
      "18\n",
      "19\n",
      "20\n"
     ]
    }
   ],
   "source": [
    "for contador in range(1,21,1):\n",
    "    print(contador)"
   ]
  },
  {
   "cell_type": "code",
   "execution_count": 2,
   "id": "9ef114f3",
   "metadata": {},
   "outputs": [
    {
     "name": "stdout",
     "output_type": "stream",
     "text": [
      "ingrese el usuario: \n",
      "jose\n",
      "ingrese la contraseña: \n",
      "python\n",
      "logueado\n",
      "\n",
      " fin del programa\n"
     ]
    }
   ],
   "source": [
    "# Ejemplo completo de un control de acceso bien hecho para un banco\n",
    "\n",
    "# login\n",
    "\n",
    "#____memoria___\n",
    "user=\"jose\"\n",
    "password=\"python\"\n",
    "\n",
    "us=\"\"\n",
    "pas=\"\"\n",
    "intentos=3\n",
    "#________________\n",
    "\n",
    "while us!=user:\n",
    "    us=input(\"ingrese el usuario: \\n\")\n",
    "    \n",
    "    if us==user:\n",
    "        for contador in range(0,3,1):\n",
    "            pas=input(\"ingrese la contraseña: \\n\")\n",
    "            \n",
    "            if pas!=password:\n",
    "                print(\"contraseña incorrecta\")\n",
    "                intentos-=1\n",
    "                print(\"te quedan {} intentos\".format(intentos))\n",
    "            else:\n",
    "                print(\"logueado\")\n",
    "                break #interrumpe el bucle\n",
    "                \n",
    "        print(\"\\n fin del programa\")\n",
    "                \n",
    "        \n"
   ]
  },
  {
   "cell_type": "markdown",
   "id": "adecb76d",
   "metadata": {},
   "source": [
    "# Manejo de datos"
   ]
  },
  {
   "cell_type": "code",
   "execution_count": 12,
   "id": "88b1c5d5",
   "metadata": {},
   "outputs": [
    {
     "name": "stdout",
     "output_type": "stream",
     "text": [
      "['leche', 'pan', 'carne', 'arroz']\n",
      "_________\n",
      "carne\n"
     ]
    }
   ],
   "source": [
    "# listas\n",
    "\n",
    "lista_ejemplo=[\"leche\",\"pan\",\"carne\",\"arroz\"]\n",
    "print(lista_ejemplo)\n",
    "print(\"_________\")\n",
    "\n",
    "#acceder a elementos de la lista\n",
    "#accedo a traves del index\n",
    "\n",
    "print(lista_ejemplo[2])\n",
    "\n"
   ]
  },
  {
   "cell_type": "code",
   "execution_count": 15,
   "id": "87c43eae",
   "metadata": {},
   "outputs": [
    {
     "name": "stdout",
     "output_type": "stream",
     "text": [
      "jose\n",
      "ricardo\n"
     ]
    }
   ],
   "source": [
    "# diccionarios\n",
    "\n",
    "# dic{\"key\":\"valor\"}\n",
    "\n",
    "clase_r1={\"profe\":\"jose\",\n",
    "      \"estudiante\":\"ricardo\"\n",
    "      }\n",
    "\n",
    "print(clase_r1[\"profe\"]) #buscador \n",
    "print(clase_r1[\"estudiante\"]) #buscador "
   ]
  },
  {
   "cell_type": "code",
   "execution_count": null,
   "id": "73bb72a8",
   "metadata": {},
   "outputs": [],
   "source": []
  }
 ],
 "metadata": {
  "kernelspec": {
   "display_name": "Python 3 (ipykernel)",
   "language": "python",
   "name": "python3"
  },
  "language_info": {
   "codemirror_mode": {
    "name": "ipython",
    "version": 3
   },
   "file_extension": ".py",
   "mimetype": "text/x-python",
   "name": "python",
   "nbconvert_exporter": "python",
   "pygments_lexer": "ipython3",
   "version": "3.9.12"
  }
 },
 "nbformat": 4,
 "nbformat_minor": 5
}
