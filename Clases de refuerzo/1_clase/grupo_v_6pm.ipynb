{
 "cells": [
  {
   "cell_type": "code",
   "execution_count": 14,
   "id": "4e24818c",
   "metadata": {},
   "outputs": [
    {
     "name": "stdout",
     "output_type": "stream",
     "text": [
      "ingrese un numero: 3\n",
      "se ingreso un :\n",
      "  3\n",
      "<class 'str'>\n"
     ]
    }
   ],
   "source": [
    "# comentarios\n",
    "\n",
    "#Repaso de primeras funciones y nociones basicas de python\n",
    "#BACKEND -> codigo en texto  y visualizacion para programadores (consola)\n",
    "\n",
    "# entrada y salida de datos\n",
    "\n",
    "#funciones ->palabra+parentesis -> input(argumento) ->mensaje de texto\n",
    "\n",
    "#entrada de data\n",
    "\n",
    "entrada=input(\"ingrese un numero: \")#recibe algo que se ingresa por teclado y lo guarda\n",
    "# SIEMPRE!!!! input recibe como tipo string-> texto\n",
    "\n",
    "#salida de datos\n",
    "print(\"se ingreso un :\\n \",entrada)\n",
    "\n",
    "#tipos de datos\n",
    "\n",
    "#tipo int -> tipo entero, numero entero :4,5,8,0,12,\n",
    "#tipo float-> flotante , numeros decimales: 4.12, 5.46, 6.345\n",
    "#tipo str -> string, cadenas de texto , o cadenas de caracteres d j k , casa\n",
    "\n",
    "#como saber que tipo de dato tengo?\n",
    "print(type(entrada))\n"
   ]
  },
  {
   "cell_type": "code",
   "execution_count": 18,
   "id": "b174b1d8",
   "metadata": {},
   "outputs": [
    {
     "name": "stdout",
     "output_type": "stream",
     "text": [
      "ingrese un numero: 3\n",
      "ingrese un numero: 4\n",
      "el resultado es:  34\n",
      "<class 'str'>\n"
     ]
    }
   ],
   "source": [
    "#ejemplo1\n",
    "\n",
    "numero1=input(\"ingrese un numero: \")\n",
    "numero2=input(\"ingrese un numero: \")\n",
    "\n",
    "suma=numero1+numero2\n",
    "print(\"el resultado es: \",suma)\n",
    "print(type(suma))\n",
    "\n",
    "# existen conversores de tipo, para pasar de str a int utilizamos int()"
   ]
  },
  {
   "cell_type": "code",
   "execution_count": 21,
   "id": "2068383d",
   "metadata": {},
   "outputs": [
    {
     "name": "stdout",
     "output_type": "stream",
     "text": [
      "ingrese un numero: 3\n",
      "ingrese un numero: 4\n",
      "el resultado es:  7\n",
      "<class 'int'>\n"
     ]
    }
   ],
   "source": [
    "#ejemplo2\n",
    "\n",
    "#numero1=input(\"ingrese un numero: \")\n",
    "numero1=int(input(\"ingrese un numero: \"))\n",
    "numero2=int(input(\"ingrese un numero: \"))\n",
    "\n",
    "suma=numero1+numero2\n",
    "print(\"el resultado es: \",suma)\n",
    "print(type(suma))"
   ]
  },
  {
   "cell_type": "code",
   "execution_count": 27,
   "id": "868a1304",
   "metadata": {},
   "outputs": [
    {
     "name": "stdout",
     "output_type": "stream",
     "text": [
      "ingrese un numero: 3\n",
      "ingrese un numero: 4\n",
      "el resultado es:  7.0\n",
      "<class 'float'>\n"
     ]
    }
   ],
   "source": [
    "#ejemplo3\n",
    "\n",
    "#numero1=input(\"ingrese un numero: \")\n",
    "numero1=float(input(\"ingrese un numero: \"))\n",
    "numero2=float(input(\"ingrese un numero: \"))\n",
    "\n",
    "suma=numero1+numero2\n",
    "print(\"el resultado es: \",suma)\n",
    "print(type(suma))"
   ]
  },
  {
   "cell_type": "code",
   "execution_count": 30,
   "id": "c3d63555",
   "metadata": {},
   "outputs": [
    {
     "name": "stdout",
     "output_type": "stream",
     "text": [
      "ingrese un numero: 3\n",
      "ingrese un numero: casa\n",
      "hubo un error, confirme si ingreso bien los 2 numeros\n"
     ]
    }
   ],
   "source": [
    "#ejemplo4\n",
    "\n",
    "#CONTROL DE ERRORES\n",
    "\n",
    "#try:intentar: ejecuta el codigo hasta que ocurra un error\n",
    "            #en este ejemplo el error seria meter un string\n",
    "\n",
    "#except: excepto: cuando detecta el error se activa el codigo, si no se ignora\n",
    "\n",
    "#en python SIEMPRE  despues de : hay un identado\n",
    "# un identado  es el espacio de margen a la izquierda\n",
    "# despues de : TODO lo que este identado se ejecuta dentro de esa seccion de codigo\n",
    "\n",
    "\n",
    "try:# try ejecuta el codigo hasta que haya un error\n",
    "    #numero1=input(\"ingrese un numero: \")\n",
    "    numero1=float(input(\"ingrese un numero: \"))\n",
    "    numero2=float(input(\"ingrese un numero: \"))\n",
    "    suma=numero1+numero2\n",
    "    print(\"el resultado es: \",suma)\n",
    "    print(type(suma))\n",
    "\n",
    "except:#cuando se detecta el error se ejecuta lo que hay aqui adentro\n",
    "    print(\"hubo un error, confirme si ingreso bien los 2 numeros\")\n",
    "    \n",
    "    "
   ]
  },
  {
   "cell_type": "code",
   "execution_count": 32,
   "id": "60360344",
   "metadata": {},
   "outputs": [
    {
     "name": "stdout",
     "output_type": "stream",
     "text": [
      "ingrese un numero: 10\n",
      "ingrese un numero: 6\n",
      "el resultado de la suma es:  16.0\n",
      "el resultado de la resta es:  4.0\n",
      "el resultado de la multi es:  60.0\n",
      "el resultado de la div es:  1.6666666666666667\n",
      "el resultado de la potencia es:  1000000.0\n",
      "el resultado de la raiz_cuadradan1_sqrt es:  3.1622776601683795\n",
      "el resultado de la raiz_cuadradan2_sqrt es:  2.449489742783178\n",
      "el resultado de la raiz es:  1.4677992676220695\n",
      "el resultado de la modulo es:  4.0\n",
      "el resultado de la cociente_exacto es:  1.0\n"
     ]
    }
   ],
   "source": [
    "#ejemplo5\n",
    "\n",
    "try:# try ejecuta el codigo hasta que haya un error\n",
    "    #numero1=input(\"ingrese un numero: \")\n",
    "    numero1=float(input(\"ingrese un numero: \"))\n",
    "    numero2=float(input(\"ingrese un numero: \"))\n",
    "    \n",
    "    \n",
    "    suma=numero1+numero2\n",
    "    resta=numero1-numero2\n",
    "    multi=numero1*numero2\n",
    "    div=numero1/numero2\n",
    "    \n",
    "    potencia=numero1**numero2\n",
    "    raiz_cuadradan1_sqrt=numero1**(1/2)\n",
    "    raiz_cuadradan2_sqrt=numero2**(1/2)\n",
    "    raiz=numero1**(1/numero2)\n",
    "    sqrt_sum=(suma)**(1/2)\n",
    "    \n",
    "    modulo=numero1%numero2 #lo que sobra en una division\n",
    "    cociente_exacto=numero1//numero2 # lo que da la division sin decimales\n",
    "    \n",
    "    \n",
    "    \n",
    "    print(\"el resultado de la suma es: \",suma)\n",
    "    print(\"el resultado de la resta es: \",resta)\n",
    "    print(\"el resultado de la multi es: \",multi)\n",
    "    print(\"el resultado de la div es: \",div)\n",
    "    \n",
    "    print(\"el resultado de la potencia es: \",potencia)\n",
    "    print(\"el resultado de la raiz_cuadradan1_sqrt es: \",raiz_cuadradan1_sqrt)\n",
    "    print(\"el resultado de la raiz_cuadradan2_sqrt es: \",raiz_cuadradan2_sqrt)\n",
    "    print(\"el resultado de la raiz es: \",raiz)\n",
    "    \n",
    "    print(\"el resultado de la modulo es: \",modulo)\n",
    "    print(\"el resultado de la cociente_exacto es: \",cociente_exacto)\n",
    "    \n",
    "except:#cuando se detecta el error se ejecuta lo que hay aqui adentro\n",
    "    print(\"hubo un error, confirme si ingreso bien los 2 numeros\")\n",
    "    "
   ]
  },
  {
   "cell_type": "markdown",
   "id": "e50c5d5e",
   "metadata": {},
   "source": [
    "# condicionales o toma de desiciones"
   ]
  },
  {
   "cell_type": "code",
   "execution_count": 34,
   "id": "df662989",
   "metadata": {},
   "outputs": [
    {
     "name": "stdout",
     "output_type": "stream",
     "text": [
      "ingrese un numero: 8\n",
      "ingrese un numero: 2\n",
      "el numero mayor es:  8.0\n"
     ]
    }
   ],
   "source": [
    "# if -> si?\n",
    "\n",
    "#en el if,  si se cumple la condicion se ejecuta el codigo, sino  se ignora y pasa a la siguiente linea\n",
    "\n",
    "\n",
    "# en este codigo me pidieron un programa que halle el numero mayor entre 2 numeros\n",
    "\n",
    "try:# try ejecuta el codigo hasta que haya un error\n",
    "    #numero1=input(\"ingrese un numero: \")\n",
    "    numero1=float(input(\"ingrese un numero: \"))\n",
    "    numero2=float(input(\"ingrese un numero: \"))\n",
    "    \n",
    "except:#cuando se detecta el error se ejecuta lo que hay aqui adentro\n",
    "    print(\"hubo un error, confirme si ingreso bien los 2 numeros\")\n",
    "    \n",
    "# tres opciones logicas\n",
    "\n",
    "if numero1>numero2:\n",
    "    print(\"el numero mayor es: \",numero1)\n",
    "    \n",
    "elif numero1<numero2:\n",
    "    print(\"el numero mayor es: \",numero2)\n",
    "\n",
    "#else:opcion por defecto\n",
    "\n",
    "elif numero1==numero2:\n",
    "    print(\"los numeros son iguales\")\n",
    "\n",
    "\n",
    "    \n",
    "#comparaciones entre datos -> SON PREGUNTAS!!!!!!!!\n",
    "\n",
    "\n",
    "# >   mayor que\n",
    "# <   menor que\n",
    "\n",
    "# >=  mayor o igual que\n",
    "# <=  menor o igual que\n",
    "\n",
    "# ==  igual?\n",
    "\n",
    "# !=  diferentes?\n",
    "    \n",
    "# internamente retorna :\n",
    "\n",
    "# 1 ->si -> True\n",
    "# 0 ->no -> False"
   ]
  },
  {
   "cell_type": "code",
   "execution_count": null,
   "id": "f867ef6d",
   "metadata": {},
   "outputs": [],
   "source": [
    "# ahora quiero un codigo que me diga si los numeros son iguales \n",
    "\n",
    "# NO PUEDES PREGUNTAR SI SON IGUALES  == \n",
    "\n",
    "#usamos operadores logicos\n",
    "\n",
    "#AND \n",
    "#OR\n",
    "#NOT\n",
    "\n",
    "\n",
    "\n",
    "try:# try ejecuta el codigo hasta que haya un error\n",
    "    #numero1=input(\"ingrese un numero: \")\n",
    "    numero1=float(input(\"ingrese un numero: \"))\n",
    "    numero2=float(input(\"ingrese un numero: \"))\n",
    "    \n",
    "except:#cuando se detecta el error se ejecuta lo que hay aqui adentro\n",
    "    print(\"hubo un error, confirme si ingreso bien los 2 numeros\")\n",
    "    \n",
    "# tres opciones logicas MENOS LA CONDICION\n",
    "\n",
    "if numero1>numero2 or numero1<numero2:\n",
    "    print(\"no me interesa\")\n",
    "else:\n",
    "    print(\"los numeros son iguales\")\n",
    "\n",
    "#else:opcion por defecto\n",
    "\n",
    "\n"
   ]
  }
 ],
 "metadata": {
  "kernelspec": {
   "display_name": "Python 3 (ipykernel)",
   "language": "python",
   "name": "python3"
  },
  "language_info": {
   "codemirror_mode": {
    "name": "ipython",
    "version": 3
   },
   "file_extension": ".py",
   "mimetype": "text/x-python",
   "name": "python",
   "nbconvert_exporter": "python",
   "pygments_lexer": "ipython3",
   "version": "3.9.12"
  }
 },
 "nbformat": 4,
 "nbformat_minor": 5
}
