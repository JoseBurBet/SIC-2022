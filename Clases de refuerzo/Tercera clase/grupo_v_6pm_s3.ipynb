{
 "cells": [
  {
   "cell_type": "markdown",
   "id": "4e664ed5",
   "metadata": {},
   "source": [
    "# Opciones utiles para trabajar con listas"
   ]
  },
  {
   "cell_type": "code",
   "execution_count": null,
   "id": "9571c47c",
   "metadata": {},
   "outputs": [],
   "source": [
    "lista_mercado=[\"leche\",\"carne\",\"pan\",\"huevos\",\"aceite\",\"arroz\"]"
   ]
  },
  {
   "cell_type": "markdown",
   "id": "88f36e55",
   "metadata": {},
   "source": [
    "## Añadir datos "
   ]
  },
  {
   "cell_type": "code",
   "execution_count": 2,
   "id": "1c1952cb",
   "metadata": {},
   "outputs": [
    {
     "name": "stdout",
     "output_type": "stream",
     "text": [
      "['leche', 'carne', 'pan', 'huevos', 'aceite', 'arroz', 'fideos']\n",
      "['leche', 'carne', 'pan', 'huevos', 'aceite', 'arroz', 'fideos', ['tomate', 'cebolla', 'zanahoria', 'papas']]\n"
     ]
    }
   ],
   "source": [
    "#metodo append\n",
    "lista_mercado=[\"leche\",\"carne\",\"pan\",\"huevos\",\"aceite\",\"arroz\"]\n",
    "lista_verduras=[\"tomate\",\"cebolla\",\"zanahoria\",\"papas\"]\n",
    "\n",
    "lista_mercado.append(\"fideos\")# .append agrega el elemento completo al final de la lista\n",
    "print(lista_mercado)\n",
    "\n",
    "lista_mercado.append(lista_verduras)\n",
    "print(lista_mercado)"
   ]
  },
  {
   "cell_type": "code",
   "execution_count": 4,
   "id": "4cb3c059",
   "metadata": {},
   "outputs": [
    {
     "name": "stdout",
     "output_type": "stream",
     "text": [
      "['leche', 'carne', 'pan', 'huevos', 'aceite', 'arroz', 'f', 'i', 'd', 'e', 'o', 's']\n",
      "['leche', 'carne', 'pan', 'huevos', 'aceite', 'arroz', 'f', 'i', 'd', 'e', 'o', 's', 'tomate', 'cebolla', 'zanahoria', 'papas']\n"
     ]
    }
   ],
   "source": [
    "#metodo extend\n",
    "lista_mercado=[\"leche\",\"carne\",\"pan\",\"huevos\",\"aceite\",\"arroz\"]\n",
    "lista_verduras=[\"tomate\",\"cebolla\",\"zanahoria\",\"papas\"]\n",
    "\n",
    "lista_mercado.extend(\"fideos\")# .extend agrega uno a uno los elementos al final de la lista\n",
    "print(lista_mercado)\n",
    "\n",
    "lista_mercado.extend(lista_verduras)\n",
    "print(lista_mercado)"
   ]
  },
  {
   "cell_type": "markdown",
   "id": "452c13c9",
   "metadata": {},
   "source": [
    "# Eliminar datos"
   ]
  },
  {
   "cell_type": "code",
   "execution_count": 6,
   "id": "1f39edd8",
   "metadata": {},
   "outputs": [
    {
     "name": "stdout",
     "output_type": "stream",
     "text": [
      "['leche', 'carne', 'huevos', 'aceite', 'arroz']\n"
     ]
    }
   ],
   "source": [
    "lista_mercado=[\"leche\",\"carne\",\"pan\",\"huevos\",\"aceite\",\"arroz\"]\n",
    "\n",
    "# borrar por index\n",
    "del lista_mercado[2]\n",
    "print(lista_mercado)"
   ]
  },
  {
   "cell_type": "code",
   "execution_count": 7,
   "id": "ef0541ad",
   "metadata": {},
   "outputs": [
    {
     "name": "stdout",
     "output_type": "stream",
     "text": [
      "['leche', 'pan', 'huevos', 'aceite', 'arroz']\n"
     ]
    }
   ],
   "source": [
    "#borrar por buscador\n",
    "lista_mercado=[\"leche\",\"carne\",\"pan\",\"huevos\",\"aceite\",\"arroz\"]\n",
    "\n",
    "lista_mercado.remove(\"carne\")\n",
    "print(lista_mercado)"
   ]
  },
  {
   "cell_type": "code",
   "execution_count": 12,
   "id": "0e90eedc",
   "metadata": {},
   "outputs": [
    {
     "name": "stdout",
     "output_type": "stream",
     "text": [
      "[1, 3, 2, 3, 2, 3, 4, 2]\n",
      "[1, 3, 3, 2, 3, 4, 2]\n",
      "[1, 3, 3, 3, 4, 2]\n",
      "[1, 3, 3, 3, 4]\n"
     ]
    }
   ],
   "source": [
    "lista=[1,2,3,2,3,2,3,4,2]\n",
    "lista.remove(2) # elimina el primero que encuentre\n",
    "print(lista)\n",
    "\n",
    "lista.remove(2) # elimina el primero que encuentre\n",
    "print(lista)\n",
    "\n",
    "lista.remove(2) # elimina el primero que encuentre\n",
    "print(lista)\n",
    "lista.remove(2) # elimina el primero que encuentre\n",
    "print(lista)\n"
   ]
  },
  {
   "cell_type": "code",
   "execution_count": 14,
   "id": "1f3d1757",
   "metadata": {},
   "outputs": [
    {
     "name": "stdout",
     "output_type": "stream",
     "text": [
      "['leche', 'carne', 'pan', 'huevos', 'aceite']\n",
      "arroz\n",
      "['leche', 'carne', 'pan', 'aceite']\n",
      "huevos\n"
     ]
    }
   ],
   "source": [
    "# .pop() elimina el ultimo valor y lo retorna\n",
    "\n",
    "lista_mercado=[\"leche\",\"carne\",\"pan\",\"huevos\",\"aceite\",\"arroz\"]\n",
    "eliminado=lista_mercado.pop()\n",
    "\n",
    "print(lista_mercado)\n",
    "print(eliminado)\n",
    "\n",
    "eliminado2=lista_mercado.pop(3)\n",
    "\n",
    "print(lista_mercado)\n",
    "print(eliminado2)"
   ]
  },
  {
   "cell_type": "markdown",
   "id": "2d133814",
   "metadata": {},
   "source": [
    "# multiplicar "
   ]
  },
  {
   "cell_type": "code",
   "execution_count": 15,
   "id": "23e3ab26",
   "metadata": {},
   "outputs": [
    {
     "name": "stdout",
     "output_type": "stream",
     "text": [
      "['leche', 'carne', 'pan', 'huevos', 'aceite', 'arroz', 'leche', 'carne', 'pan', 'huevos', 'aceite', 'arroz', 'leche', 'carne', 'pan', 'huevos', 'aceite', 'arroz']\n"
     ]
    }
   ],
   "source": [
    "lista_mercado=[\"leche\",\"carne\",\"pan\",\"huevos\",\"aceite\",\"arroz\"]\n",
    "inventario=lista_mercado*3\n",
    "print(inventario)"
   ]
  },
  {
   "cell_type": "markdown",
   "id": "0bd8dfd5",
   "metadata": {},
   "source": [
    "# particionar -> slicing "
   ]
  },
  {
   "cell_type": "code",
   "execution_count": 16,
   "id": "d7d870d3",
   "metadata": {},
   "outputs": [
    {
     "name": "stdout",
     "output_type": "stream",
     "text": [
      "[1, 2, 3, 4, 5, 6, 7, 8, 9]\n",
      "[2, 3, 4, 5]\n"
     ]
    }
   ],
   "source": [
    "# partir la lista en rangos definidos\n",
    "\n",
    "lista=[1,2,3,4,5,6,7,8,9]\n",
    "\n",
    "lista_recortada=lista[1:5:1] #[inicio,fin,paso] #nunca toma el ultimo valor\n",
    "print(lista)\n",
    "print(lista_recortada)"
   ]
  },
  {
   "cell_type": "code",
   "execution_count": 21,
   "id": "d0a6e01b",
   "metadata": {},
   "outputs": [
    {
     "name": "stdout",
     "output_type": "stream",
     "text": [
      "[1, 2, 3, 4, 5, 6, 7, 8, 9]\n",
      "[1, 2, 3, 4, 5, 6, 7, 8, 9]\n"
     ]
    }
   ],
   "source": [
    "lista=[1,2,3,4,5,6,7,8,9]\n",
    "\n",
    "lista_recortada=lista[::] #[inicio,fin,paso] #nunca toma el ultimo valor\n",
    "print(lista)\n",
    "print(lista_recortada)"
   ]
  },
  {
   "cell_type": "markdown",
   "id": "86581530",
   "metadata": {},
   "source": [
    "# saber si hay un elemento en la lista"
   ]
  },
  {
   "cell_type": "code",
   "execution_count": 27,
   "id": "68fd65c1",
   "metadata": {},
   "outputs": [
    {
     "name": "stdout",
     "output_type": "stream",
     "text": [
      "['s', 'm', 'l', 'xl', 'xxl', 's', 'm', 'l', 'xl', 'xxl', 's', 'm', 'l', 'xl', 'xxl', 's', 'm', 'l', 'xl', 'xxl']\n",
      "['s', 'l', 'xl', 'xxl', 's', 'm', 'l', 'xl', 'xxl', 's', 'm', 'l', 'xl', 'xxl', 's', 'm', 'l', 'xl', 'xxl']\n",
      "True\n",
      "False\n"
     ]
    }
   ],
   "source": [
    "camisetas=[\"s\",\"m\",\"l\",\"xl\",\"xxl\"]\n",
    "camisetas=camisetas*4\n",
    "print(camisetas)\n",
    "\n",
    "#llega un cliente y compra una talla m\n",
    "\n",
    "camisetas.remove(\"m\")\n",
    "print(camisetas)\n",
    "\n",
    "tiene_m= \"m\" in camisetas #pregunta si hay \"m\" dentro de camisetas\n",
    "print(tiene_m)\n",
    "\n",
    "#llega otro cliente y me pregunta si tengo \"xxxl\"\n",
    "tiene_xxxl= \"xxxl\" in camisetas\n",
    "print(tiene_xxxl)"
   ]
  },
  {
   "cell_type": "code",
   "execution_count": 30,
   "id": "46135b24",
   "metadata": {},
   "outputs": [
    {
     "name": "stdout",
     "output_type": "stream",
     "text": [
      "['s', 'm', 'l', 'xl', 'xxl', 's', 'm', 'l', 'xl', 'xxl', 's', 'm', 'l', 'xl', 'xxl', 's', 'm', 'l', 'xl', 'xxl']\n",
      "____________________________________________________\n",
      "['m', 'l', 'xl', 'xxl', 's', 'm', 'l', 'xl', 'xxl', 's', 'm', 'l', 'xl', 'xxl', 's', 'm', 'l', 'xl', 'xxl'] \n",
      "\n",
      "['m', 'l', 'xl', 'xxl', 'm', 'l', 'xl', 'xxl', 's', 'm', 'l', 'xl', 'xxl', 's', 'm', 'l', 'xl', 'xxl'] \n",
      "\n",
      "['m', 'l', 'xl', 'xxl', 'm', 'l', 'xl', 'xxl', 'm', 'l', 'xl', 'xxl', 's', 'm', 'l', 'xl', 'xxl'] \n",
      "\n",
      "['m', 'l', 'xl', 'xxl', 'm', 'l', 'xl', 'xxl', 'm', 'l', 'xl', 'xxl', 'm', 'l', 'xl', 'xxl'] \n",
      "\n"
     ]
    }
   ],
   "source": [
    "camisetas=[\"s\",\"m\",\"l\",\"xl\",\"xxl\"]\n",
    "camisetas=camisetas*4\n",
    "print(camisetas)\n",
    "print(\"____________________________________________________\")\n",
    "# mi jefe ya no queire vender talla s, me pide sacar todas del inventario\n",
    "\n",
    "tiene_s= \"s\" in camisetas\n",
    "\n",
    "while tiene_s== True:\n",
    "   \n",
    "    tiene_s= \"s\" in camisetas\n",
    "    \n",
    "    if tiene_s== True:\n",
    "        camisetas.remove(\"s\")\n",
    "        print(camisetas,\"\\n\")"
   ]
  },
  {
   "cell_type": "markdown",
   "id": "a99043e1",
   "metadata": {},
   "source": [
    "# otras funciones utiles"
   ]
  },
  {
   "cell_type": "code",
   "execution_count": 35,
   "id": "e03d94ef",
   "metadata": {},
   "outputs": [
    {
     "name": "stdout",
     "output_type": "stream",
     "text": [
      "10\n",
      "9\n",
      "1\n",
      "42\n"
     ]
    }
   ],
   "source": [
    "lista=[1,4,8,2,9,3,2,1,9,3]\n",
    "\n",
    "print(len(lista))# me retorna la cantidad de elementos\n",
    "print(max(lista))#\n",
    "print(min(lista))#\n",
    "print(sum(lista))#\n",
    "\n"
   ]
  },
  {
   "cell_type": "code",
   "execution_count": 37,
   "id": "70f1ed3a",
   "metadata": {},
   "outputs": [
    {
     "name": "stdout",
     "output_type": "stream",
     "text": [
      "6\n",
      "kf\n",
      "ad\n"
     ]
    }
   ],
   "source": [
    "lista=[\"ar\",\"jr\",\"kf\",\"ds\",\"cs\",\"ad\"]\n",
    "\n",
    "print(len(lista))# me retorna la cantidad de elementos\n",
    "print(max(lista))#\n",
    "print(min(lista))#\n",
    "#print(sum(lista))#\n",
    "\n",
    "\n"
   ]
  },
  {
   "cell_type": "markdown",
   "id": "04bd44f7",
   "metadata": {},
   "source": [
    "# Metodo de ordenamiento"
   ]
  },
  {
   "cell_type": "code",
   "execution_count": 39,
   "id": "26d36604",
   "metadata": {},
   "outputs": [
    {
     "name": "stdout",
     "output_type": "stream",
     "text": [
      "[1, 1, 2, 2, 3, 3, 4, 8, 9, 9]\n",
      "['ad', 'ar', 'cs', 'ds', 'jr', 'kf']\n",
      "________________-\n",
      "[9, 9, 8, 4, 3, 3, 2, 2, 1, 1]\n",
      "['kf', 'jr', 'ds', 'cs', 'ar', 'ad']\n"
     ]
    }
   ],
   "source": [
    "lista1=[1,4,8,2,9,3,2,1,9,3]\n",
    "lista2=[\"ar\",\"jr\",\"kf\",\"ds\",\"cs\",\"ad\"]\n",
    "\n",
    "lista1.sort() # ordena de menor a mayor\n",
    "lista2.sort()\n",
    "\n",
    "print(lista1)\n",
    "print(lista2)\n",
    "\n",
    "print(\"________________\")\n",
    "lista1.sort(reverse = True) # ordena de  mayor a menor\n",
    "lista2.sort(reverse = True)\n",
    "\n",
    "print(lista1)\n",
    "print(lista2)"
   ]
  },
  {
   "cell_type": "markdown",
   "id": "d6813cb4",
   "metadata": {},
   "source": [
    "# funciones\n",
    "\n",
    "- como programador defino funciones (metodos) que se van a usar repetidamente\n",
    "- por ejemplo tenemos la funcion print que se definio para usarla repetidamen\n",
    "- a las funciones tambien se les conoce como METODOS()\n",
    "\n",
    "### cuando empleo funciones recuerdo 4 cosas\n",
    "- 1 Defino la funcion\n",
    "- 2 Defino si tiene entradas (ARGUMENTOS)\n",
    "- 3 Defino si tiene salidas (RETORNO)\n",
    "- 4 Invoco o uso la funcion (usarla)\n",
    "\n",
    "### def nombre(argumentos):\n",
    "###        proceso\n",
    "###        return\n"
   ]
  },
  {
   "cell_type": "code",
   "execution_count": 45,
   "id": "b3defc61",
   "metadata": {
    "scrolled": false
   },
   "outputs": [
    {
     "name": "stdout",
     "output_type": "stream",
     "text": [
      "tablas de multiplicar \n",
      "\n",
      "tabla del : 1\n",
      "1 x 1 = 1\n",
      "1 x 2 = 2\n",
      "1 x 3 = 3\n",
      "1 x 4 = 4\n",
      "1 x 5 = 5\n",
      "1 x 6 = 6\n",
      "1 x 7 = 7\n",
      "1 x 8 = 8\n",
      "1 x 9 = 9\n",
      "1 x 10 = 10\n",
      "1 x 11 = 11\n",
      "1 x 12 = 12\n",
      "1 x 13 = 13\n",
      "1 x 14 = 14\n",
      "1 x 15 = 15\n",
      "1 x 16 = 16\n",
      "1 x 17 = 17\n",
      "1 x 18 = 18\n",
      "1 x 19 = 19\n",
      "1 x 20 = 20\n",
      "\n",
      "_____________________________\n",
      "tabla del : 2\n",
      "2 x 1 = 2\n",
      "2 x 2 = 4\n",
      "2 x 3 = 6\n",
      "2 x 4 = 8\n",
      "2 x 5 = 10\n",
      "2 x 6 = 12\n",
      "2 x 7 = 14\n",
      "2 x 8 = 16\n",
      "2 x 9 = 18\n",
      "2 x 10 = 20\n",
      "2 x 11 = 22\n",
      "2 x 12 = 24\n",
      "2 x 13 = 26\n",
      "2 x 14 = 28\n",
      "2 x 15 = 30\n",
      "2 x 16 = 32\n",
      "2 x 17 = 34\n",
      "2 x 18 = 36\n",
      "2 x 19 = 38\n",
      "2 x 20 = 40\n",
      "\n",
      "_____________________________\n",
      "tabla del : 3\n",
      "3 x 1 = 3\n",
      "3 x 2 = 6\n",
      "3 x 3 = 9\n",
      "3 x 4 = 12\n",
      "3 x 5 = 15\n",
      "3 x 6 = 18\n",
      "3 x 7 = 21\n",
      "3 x 8 = 24\n",
      "3 x 9 = 27\n",
      "3 x 10 = 30\n",
      "3 x 11 = 33\n",
      "3 x 12 = 36\n",
      "3 x 13 = 39\n",
      "3 x 14 = 42\n",
      "3 x 15 = 45\n",
      "3 x 16 = 48\n",
      "3 x 17 = 51\n",
      "3 x 18 = 54\n",
      "3 x 19 = 57\n",
      "3 x 20 = 60\n",
      "\n",
      "_____________________________\n",
      "tabla del : 4\n",
      "4 x 1 = 4\n",
      "4 x 2 = 8\n",
      "4 x 3 = 12\n",
      "4 x 4 = 16\n",
      "4 x 5 = 20\n",
      "4 x 6 = 24\n",
      "4 x 7 = 28\n",
      "4 x 8 = 32\n",
      "4 x 9 = 36\n",
      "4 x 10 = 40\n",
      "4 x 11 = 44\n",
      "4 x 12 = 48\n",
      "4 x 13 = 52\n",
      "4 x 14 = 56\n",
      "4 x 15 = 60\n",
      "4 x 16 = 64\n",
      "4 x 17 = 68\n",
      "4 x 18 = 72\n",
      "4 x 19 = 76\n",
      "4 x 20 = 80\n",
      "\n",
      "_____________________________\n",
      "tabla del : 5\n",
      "5 x 1 = 5\n",
      "5 x 2 = 10\n",
      "5 x 3 = 15\n",
      "5 x 4 = 20\n",
      "5 x 5 = 25\n",
      "5 x 6 = 30\n",
      "5 x 7 = 35\n",
      "5 x 8 = 40\n",
      "5 x 9 = 45\n",
      "5 x 10 = 50\n",
      "5 x 11 = 55\n",
      "5 x 12 = 60\n",
      "5 x 13 = 65\n",
      "5 x 14 = 70\n",
      "5 x 15 = 75\n",
      "5 x 16 = 80\n",
      "5 x 17 = 85\n",
      "5 x 18 = 90\n",
      "5 x 19 = 95\n",
      "5 x 20 = 100\n",
      "\n",
      "_____________________________\n",
      "tabla del : 6\n",
      "6 x 1 = 6\n",
      "6 x 2 = 12\n",
      "6 x 3 = 18\n",
      "6 x 4 = 24\n",
      "6 x 5 = 30\n",
      "6 x 6 = 36\n",
      "6 x 7 = 42\n",
      "6 x 8 = 48\n",
      "6 x 9 = 54\n",
      "6 x 10 = 60\n",
      "6 x 11 = 66\n",
      "6 x 12 = 72\n",
      "6 x 13 = 78\n",
      "6 x 14 = 84\n",
      "6 x 15 = 90\n",
      "6 x 16 = 96\n",
      "6 x 17 = 102\n",
      "6 x 18 = 108\n",
      "6 x 19 = 114\n",
      "6 x 20 = 120\n",
      "\n",
      "_____________________________\n",
      "tabla del : 7\n",
      "7 x 1 = 7\n",
      "7 x 2 = 14\n",
      "7 x 3 = 21\n",
      "7 x 4 = 28\n",
      "7 x 5 = 35\n",
      "7 x 6 = 42\n",
      "7 x 7 = 49\n",
      "7 x 8 = 56\n",
      "7 x 9 = 63\n",
      "7 x 10 = 70\n",
      "7 x 11 = 77\n",
      "7 x 12 = 84\n",
      "7 x 13 = 91\n",
      "7 x 14 = 98\n",
      "7 x 15 = 105\n",
      "7 x 16 = 112\n",
      "7 x 17 = 119\n",
      "7 x 18 = 126\n",
      "7 x 19 = 133\n",
      "7 x 20 = 140\n",
      "\n",
      "_____________________________\n",
      "tabla del : 8\n",
      "8 x 1 = 8\n",
      "8 x 2 = 16\n",
      "8 x 3 = 24\n",
      "8 x 4 = 32\n",
      "8 x 5 = 40\n",
      "8 x 6 = 48\n",
      "8 x 7 = 56\n",
      "8 x 8 = 64\n",
      "8 x 9 = 72\n",
      "8 x 10 = 80\n",
      "8 x 11 = 88\n",
      "8 x 12 = 96\n",
      "8 x 13 = 104\n",
      "8 x 14 = 112\n",
      "8 x 15 = 120\n",
      "8 x 16 = 128\n",
      "8 x 17 = 136\n",
      "8 x 18 = 144\n",
      "8 x 19 = 152\n",
      "8 x 20 = 160\n",
      "\n",
      "_____________________________\n",
      "tabla del : 9\n",
      "9 x 1 = 9\n",
      "9 x 2 = 18\n",
      "9 x 3 = 27\n",
      "9 x 4 = 36\n",
      "9 x 5 = 45\n",
      "9 x 6 = 54\n",
      "9 x 7 = 63\n",
      "9 x 8 = 72\n",
      "9 x 9 = 81\n",
      "9 x 10 = 90\n",
      "9 x 11 = 99\n",
      "9 x 12 = 108\n",
      "9 x 13 = 117\n",
      "9 x 14 = 126\n",
      "9 x 15 = 135\n",
      "9 x 16 = 144\n",
      "9 x 17 = 153\n",
      "9 x 18 = 162\n",
      "9 x 19 = 171\n",
      "9 x 20 = 180\n",
      "\n",
      "_____________________________\n",
      "tabla del : 10\n",
      "10 x 1 = 10\n",
      "10 x 2 = 20\n",
      "10 x 3 = 30\n",
      "10 x 4 = 40\n",
      "10 x 5 = 50\n",
      "10 x 6 = 60\n",
      "10 x 7 = 70\n",
      "10 x 8 = 80\n",
      "10 x 9 = 90\n",
      "10 x 10 = 100\n",
      "10 x 11 = 110\n",
      "10 x 12 = 120\n",
      "10 x 13 = 130\n",
      "10 x 14 = 140\n",
      "10 x 15 = 150\n",
      "10 x 16 = 160\n",
      "10 x 17 = 170\n",
      "10 x 18 = 180\n",
      "10 x 19 = 190\n",
      "10 x 20 = 200\n",
      "\n",
      "_____________________________\n",
      "tabla del : 11\n",
      "11 x 1 = 11\n",
      "11 x 2 = 22\n",
      "11 x 3 = 33\n",
      "11 x 4 = 44\n",
      "11 x 5 = 55\n",
      "11 x 6 = 66\n",
      "11 x 7 = 77\n",
      "11 x 8 = 88\n",
      "11 x 9 = 99\n",
      "11 x 10 = 110\n",
      "11 x 11 = 121\n",
      "11 x 12 = 132\n",
      "11 x 13 = 143\n",
      "11 x 14 = 154\n",
      "11 x 15 = 165\n",
      "11 x 16 = 176\n",
      "11 x 17 = 187\n",
      "11 x 18 = 198\n",
      "11 x 19 = 209\n",
      "11 x 20 = 220\n",
      "\n",
      "_____________________________\n",
      "tabla del : 12\n",
      "12 x 1 = 12\n",
      "12 x 2 = 24\n",
      "12 x 3 = 36\n",
      "12 x 4 = 48\n",
      "12 x 5 = 60\n",
      "12 x 6 = 72\n",
      "12 x 7 = 84\n",
      "12 x 8 = 96\n",
      "12 x 9 = 108\n",
      "12 x 10 = 120\n",
      "12 x 11 = 132\n",
      "12 x 12 = 144\n",
      "12 x 13 = 156\n",
      "12 x 14 = 168\n",
      "12 x 15 = 180\n",
      "12 x 16 = 192\n",
      "12 x 17 = 204\n",
      "12 x 18 = 216\n",
      "12 x 19 = 228\n",
      "12 x 20 = 240\n",
      "\n",
      "_____________________________\n",
      "tabla del : 13\n",
      "13 x 1 = 13\n",
      "13 x 2 = 26\n",
      "13 x 3 = 39\n",
      "13 x 4 = 52\n",
      "13 x 5 = 65\n",
      "13 x 6 = 78\n",
      "13 x 7 = 91\n",
      "13 x 8 = 104\n",
      "13 x 9 = 117\n",
      "13 x 10 = 130\n",
      "13 x 11 = 143\n",
      "13 x 12 = 156\n",
      "13 x 13 = 169\n",
      "13 x 14 = 182\n",
      "13 x 15 = 195\n",
      "13 x 16 = 208\n",
      "13 x 17 = 221\n",
      "13 x 18 = 234\n",
      "13 x 19 = 247\n",
      "13 x 20 = 260\n",
      "\n",
      "_____________________________\n",
      "tabla del : 14\n",
      "14 x 1 = 14\n",
      "14 x 2 = 28\n",
      "14 x 3 = 42\n",
      "14 x 4 = 56\n",
      "14 x 5 = 70\n",
      "14 x 6 = 84\n",
      "14 x 7 = 98\n",
      "14 x 8 = 112\n",
      "14 x 9 = 126\n",
      "14 x 10 = 140\n",
      "14 x 11 = 154\n",
      "14 x 12 = 168\n",
      "14 x 13 = 182\n",
      "14 x 14 = 196\n",
      "14 x 15 = 210\n",
      "14 x 16 = 224\n",
      "14 x 17 = 238\n",
      "14 x 18 = 252\n",
      "14 x 19 = 266\n",
      "14 x 20 = 280\n",
      "\n",
      "_____________________________\n",
      "tabla del : 15\n",
      "15 x 1 = 15\n",
      "15 x 2 = 30\n",
      "15 x 3 = 45\n",
      "15 x 4 = 60\n",
      "15 x 5 = 75\n",
      "15 x 6 = 90\n",
      "15 x 7 = 105\n",
      "15 x 8 = 120\n",
      "15 x 9 = 135\n",
      "15 x 10 = 150\n",
      "15 x 11 = 165\n",
      "15 x 12 = 180\n",
      "15 x 13 = 195\n",
      "15 x 14 = 210\n",
      "15 x 15 = 225\n",
      "15 x 16 = 240\n",
      "15 x 17 = 255\n",
      "15 x 18 = 270\n",
      "15 x 19 = 285\n",
      "15 x 20 = 300\n",
      "\n",
      "_____________________________\n",
      "tabla del : 16\n",
      "16 x 1 = 16\n",
      "16 x 2 = 32\n",
      "16 x 3 = 48\n",
      "16 x 4 = 64\n",
      "16 x 5 = 80\n",
      "16 x 6 = 96\n",
      "16 x 7 = 112\n",
      "16 x 8 = 128\n",
      "16 x 9 = 144\n",
      "16 x 10 = 160\n",
      "16 x 11 = 176\n",
      "16 x 12 = 192\n",
      "16 x 13 = 208\n",
      "16 x 14 = 224\n",
      "16 x 15 = 240\n",
      "16 x 16 = 256\n",
      "16 x 17 = 272\n",
      "16 x 18 = 288\n",
      "16 x 19 = 304\n",
      "16 x 20 = 320\n",
      "\n",
      "_____________________________\n",
      "tabla del : 17\n",
      "17 x 1 = 17\n",
      "17 x 2 = 34\n",
      "17 x 3 = 51\n",
      "17 x 4 = 68\n",
      "17 x 5 = 85\n",
      "17 x 6 = 102\n",
      "17 x 7 = 119\n",
      "17 x 8 = 136\n",
      "17 x 9 = 153\n",
      "17 x 10 = 170\n",
      "17 x 11 = 187\n",
      "17 x 12 = 204\n",
      "17 x 13 = 221\n",
      "17 x 14 = 238\n",
      "17 x 15 = 255\n",
      "17 x 16 = 272\n",
      "17 x 17 = 289\n",
      "17 x 18 = 306\n",
      "17 x 19 = 323\n",
      "17 x 20 = 340\n",
      "\n",
      "_____________________________\n",
      "tabla del : 18\n",
      "18 x 1 = 18\n",
      "18 x 2 = 36\n",
      "18 x 3 = 54\n",
      "18 x 4 = 72\n",
      "18 x 5 = 90\n",
      "18 x 6 = 108\n",
      "18 x 7 = 126\n",
      "18 x 8 = 144\n",
      "18 x 9 = 162\n",
      "18 x 10 = 180\n",
      "18 x 11 = 198\n",
      "18 x 12 = 216\n",
      "18 x 13 = 234\n",
      "18 x 14 = 252\n",
      "18 x 15 = 270\n",
      "18 x 16 = 288\n",
      "18 x 17 = 306\n",
      "18 x 18 = 324\n",
      "18 x 19 = 342\n",
      "18 x 20 = 360\n",
      "\n",
      "_____________________________\n",
      "tabla del : 19\n",
      "19 x 1 = 19\n",
      "19 x 2 = 38\n",
      "19 x 3 = 57\n",
      "19 x 4 = 76\n",
      "19 x 5 = 95\n",
      "19 x 6 = 114\n",
      "19 x 7 = 133\n",
      "19 x 8 = 152\n",
      "19 x 9 = 171\n",
      "19 x 10 = 190\n",
      "19 x 11 = 209\n",
      "19 x 12 = 228\n",
      "19 x 13 = 247\n",
      "19 x 14 = 266\n",
      "19 x 15 = 285\n",
      "19 x 16 = 304\n",
      "19 x 17 = 323\n",
      "19 x 18 = 342\n",
      "19 x 19 = 361\n",
      "19 x 20 = 380\n",
      "\n",
      "_____________________________\n",
      "tabla del : 20\n",
      "20 x 1 = 20\n",
      "20 x 2 = 40\n",
      "20 x 3 = 60\n",
      "20 x 4 = 80\n",
      "20 x 5 = 100\n",
      "20 x 6 = 120\n",
      "20 x 7 = 140\n",
      "20 x 8 = 160\n",
      "20 x 9 = 180\n",
      "20 x 10 = 200\n",
      "20 x 11 = 220\n",
      "20 x 12 = 240\n",
      "20 x 13 = 260\n",
      "20 x 14 = 280\n",
      "20 x 15 = 300\n",
      "20 x 16 = 320\n",
      "20 x 17 = 340\n",
      "20 x 18 = 360\n",
      "20 x 19 = 380\n",
      "20 x 20 = 400\n",
      "\n",
      "_____________________________\n"
     ]
    }
   ],
   "source": [
    "def multiplicacion(n1,n2):\n",
    "    mult=n1*n2\n",
    "    return mult\n",
    "\n",
    "cuantas=[1,2,3,4,5,6,7,8,9,10,11,12,13,14,15,16,17,18,19,20]\n",
    "tabla=[1,2,3,4,5,6,7,8,9,10,11,12,13,14,15,16,17,18,19,20]\n",
    "\n",
    "print(\"tablas de multiplicar \\n\")\n",
    "\n",
    "for i in tabla: # recorrer uno a uno los elementos de la lista tabla\n",
    "    print (\"tabla del :\",i)\n",
    "    \n",
    "    for j in cuantas:\n",
    "        #print(\"multiplico por: \",j)\n",
    "        print(\"{} x {} = {}\".format(i,j,multiplicacion(i,j)))\n",
    "    print(\"\\n_____________________________\")"
   ]
  },
  {
   "cell_type": "code",
   "execution_count": null,
   "id": "ec2f292b",
   "metadata": {},
   "outputs": [],
   "source": []
  }
 ],
 "metadata": {
  "kernelspec": {
   "display_name": "Python 3 (ipykernel)",
   "language": "python",
   "name": "python3"
  },
  "language_info": {
   "codemirror_mode": {
    "name": "ipython",
    "version": 3
   },
   "file_extension": ".py",
   "mimetype": "text/x-python",
   "name": "python",
   "nbconvert_exporter": "python",
   "pygments_lexer": "ipython3",
   "version": "3.9.12"
  }
 },
 "nbformat": 4,
 "nbformat_minor": 5
}
