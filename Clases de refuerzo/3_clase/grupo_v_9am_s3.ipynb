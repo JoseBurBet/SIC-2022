{
 "cells": [
  {
   "cell_type": "markdown",
   "id": "411d2294",
   "metadata": {},
   "source": [
    "# opciones utiles para trabajar con listas"
   ]
  },
  {
   "cell_type": "markdown",
   "id": "533651f1",
   "metadata": {},
   "source": [
    "## Añadir datos\n"
   ]
  },
  {
   "cell_type": "code",
   "execution_count": 1,
   "id": "394ab41f",
   "metadata": {},
   "outputs": [
    {
     "name": "stdout",
     "output_type": "stream",
     "text": [
      "['leche', 'pan', 'carne', 'arroz', 'aceite']\n"
     ]
    }
   ],
   "source": [
    "lista_mercado=[\"leche\",\"pan\",\"carne\",\"arroz\"]\n",
    "lista_mercado.append(\"aceite\") # agrega elementos al final de la lista completo\n",
    "print(lista_mercado)"
   ]
  },
  {
   "cell_type": "code",
   "execution_count": 3,
   "id": "c4bd7c2e",
   "metadata": {},
   "outputs": [
    {
     "name": "stdout",
     "output_type": "stream",
     "text": [
      "['leche', 'pan', 'carne', 'arroz']\n",
      "['leche', 'pan', 'carne', 'arroz', 'a', 'c', 'e', 'i', 't', 'e']\n"
     ]
    }
   ],
   "source": [
    "lista_mercado=[\"leche\",\"pan\",\"carne\",\"arroz\"]\n",
    "print(lista_mercado)\n",
    "lista_mercado.extend(\"aceite\") # agrega los elementos uno por uno\n",
    "print(lista_mercado)"
   ]
  },
  {
   "cell_type": "code",
   "execution_count": 14,
   "id": "767282e7",
   "metadata": {},
   "outputs": [
    {
     "name": "stdout",
     "output_type": "stream",
     "text": [
      "['c1', 'c2', 'c3', 'c_bachata']\n",
      "['c1', 'c2', 'c3', ['r1', 'r2', 'r3', 'r4']]\n",
      "print de posicion 3=  ['r1', 'r2', 'r3', 'r4']\n",
      "_____________________________________________________-\n",
      "['c1', 'c2', 'c3', 'r1', 'r2', 'r3', 'r4']\n",
      "print de posicion 3=  r1\n"
     ]
    }
   ],
   "source": [
    "#como se cuando usar append o extend?\n",
    "\n",
    "musica_favorita=[\"c1\",\"c2\",\"c3\"]\n",
    "musica_favorita.append(\"c_bachata\")\n",
    "print(musica_favorita)\n",
    "rocksito=[\"r1\",\"r2\",\"r3\",\"r4\"]\n",
    "\n",
    "# en la playlist dependiendo de la funcion que use hará una cosa u otra\n",
    "\n",
    "#si agrego con append, agrega rock como una lista y me queda\n",
    "#una lista dentro de otra lista\n",
    "musica_favorita=[\"c1\",\"c2\",\"c3\"]\n",
    "musica_favorita.append(rocksito)\n",
    "print(musica_favorita)\n",
    "print(\"print de posicion 3= \", musica_favorita[3])\n",
    "\n",
    "\n",
    "\n",
    "print(\"_____________________________________________________-\")\n",
    "#si agrego con extend, me agrega los elementos uno por uno\n",
    "musica_favorita=[\"c1\",\"c2\",\"c3\"]\n",
    "musica_favorita.extend(rocksito)\n",
    "print(musica_favorita)\n",
    "print(\"print de posicion 3= \", musica_favorita[3])"
   ]
  },
  {
   "cell_type": "code",
   "execution_count": 20,
   "id": "640753c2",
   "metadata": {},
   "outputs": [
    {
     "name": "stdout",
     "output_type": "stream",
     "text": [
      "[3, 4, [5, 6, 7, 8, 9]]\n",
      "_______________\n",
      "[3, 4, 5, 6, 7, 8, 9]\n",
      "8\n"
     ]
    }
   ],
   "source": [
    "lista=[3,4]\n",
    "lista2=[5,6,7,8,9]\n",
    "\n",
    "\n",
    "lista.append(lista2)\n",
    "print(lista)\n",
    "#print(lista[2]+3)\n",
    "print(\"_______________\")\n",
    "\n",
    "lista=[3,4]\n",
    "lista.extend(lista2)\n",
    "print(lista)\n",
    "print(lista[2]+3)\n",
    "\n"
   ]
  },
  {
   "cell_type": "markdown",
   "id": "309cadaa",
   "metadata": {},
   "source": [
    "## eliminar datos de la lista "
   ]
  },
  {
   "cell_type": "code",
   "execution_count": 23,
   "id": "c5f21092",
   "metadata": {},
   "outputs": [
    {
     "name": "stdout",
     "output_type": "stream",
     "text": [
      "['leche', 'pan', 'arroz']\n"
     ]
    }
   ],
   "source": [
    "#borramos por  index\n",
    "lista_mercado=[\"leche\",\"pan\",\"carne\",\"arroz\"]\n",
    "#print(lista_mercado[2])\n",
    "del lista_mercado[2] # eliminar a partir del index\n",
    "print(lista_mercado)"
   ]
  },
  {
   "cell_type": "code",
   "execution_count": 24,
   "id": "ac34e534",
   "metadata": {},
   "outputs": [
    {
     "name": "stdout",
     "output_type": "stream",
     "text": [
      "['leche', 'carne', 'arroz']\n"
     ]
    }
   ],
   "source": [
    "#borramos buscando lo que queremos borrar\n",
    "lista_mercado=[\"leche\",\"pan\",\"carne\",\"arroz\"]\n",
    "lista_mercado.remove(\"pan\")\n",
    "print(lista_mercado)"
   ]
  },
  {
   "cell_type": "code",
   "execution_count": 43,
   "id": "6be2fc09",
   "metadata": {},
   "outputs": [
    {
     "name": "stdout",
     "output_type": "stream",
     "text": [
      "[1, 3, 4, 2, 2, 2, 3, 4, 5, 6, 1, 2]\n",
      "[1, 3, 4, 2, 2, 3, 4, 5, 6, 1, 2]\n",
      "[1, 3, 4, 2, 3, 4, 5, 6, 1, 2]\n",
      "[1, 3, 4, 3, 4, 5, 6, 1, 2]\n"
     ]
    }
   ],
   "source": [
    "lista=[1,2,3,4,2,2,2,3,4,5,6,1,2]\n",
    "lista.remove(2) # borra el primero de varios elementos iguales\n",
    "print(lista)\n",
    "\n",
    "lista.remove(2)\n",
    "print(lista)\n",
    "lista.remove(2)\n",
    "print(lista)\n",
    "lista.remove(2)\n",
    "print(lista)\n"
   ]
  },
  {
   "cell_type": "code",
   "execution_count": 28,
   "id": "437f01e7",
   "metadata": {},
   "outputs": [
    {
     "name": "stdout",
     "output_type": "stream",
     "text": [
      "['leche', 'pan', 'carne']\n",
      "arroz\n"
     ]
    }
   ],
   "source": [
    "lista_mercado=[\"leche\",\"pan\",\"carne\",\"arroz\"]\n",
    "eliminado=lista_mercado.pop()#elimina el ultimo elemento y lo retorno\n",
    "print(lista_mercado)\n",
    "print(eliminado)"
   ]
  },
  {
   "cell_type": "code",
   "execution_count": 29,
   "id": "1da58c36",
   "metadata": {},
   "outputs": [
    {
     "name": "stdout",
     "output_type": "stream",
     "text": [
      "['leche', 'carne', 'arroz']\n",
      "pan\n"
     ]
    }
   ],
   "source": [
    "lista_mercado=[\"leche\",\"pan\",\"carne\",\"arroz\"]\n",
    "eliminado=lista_mercado.pop(1)#si le pongo un argumento le hace el pop a ese index\n",
    "print(lista_mercado)\n",
    "print(eliminado)"
   ]
  },
  {
   "cell_type": "markdown",
   "id": "78a1195a",
   "metadata": {},
   "source": [
    "## multiplicarlas "
   ]
  },
  {
   "cell_type": "code",
   "execution_count": 30,
   "id": "51c7a6ec",
   "metadata": {},
   "outputs": [
    {
     "name": "stdout",
     "output_type": "stream",
     "text": [
      "['leche', 'pan', 'carne', 'arroz', 'leche', 'pan', 'carne', 'arroz', 'leche', 'pan', 'carne', 'arroz']\n"
     ]
    }
   ],
   "source": [
    "lista_mercado=[\"leche\",\"pan\",\"carne\",\"arroz\"]\n",
    "print(lista_mercado*3)"
   ]
  },
  {
   "cell_type": "markdown",
   "id": "2aac7bf0",
   "metadata": {},
   "source": [
    "## particionarlas -> slicing "
   ]
  },
  {
   "cell_type": "code",
   "execution_count": 34,
   "id": "0d97f26b",
   "metadata": {},
   "outputs": [
    {
     "name": "stdout",
     "output_type": "stream",
     "text": [
      "[1, 2, 3, 4, 5, 6, 7, 8, 9, 10]\n",
      "[2, 3, 4, 5]\n"
     ]
    }
   ],
   "source": [
    "# partir la lista en secciones o rangos definidos\n",
    "lista=[1,2,3,4,5,6,7,8,9,10]\n",
    "\n",
    "lista_recortada=lista[1:5] #[inicio,fin,paso] no toma el ultimo valor\n",
    "print(lista)\n",
    "print(lista_recortada)"
   ]
  },
  {
   "cell_type": "code",
   "execution_count": 36,
   "id": "4d0e7aec",
   "metadata": {},
   "outputs": [
    {
     "name": "stdout",
     "output_type": "stream",
     "text": [
      "[1, 2, 3, 4, 5, 6, 7, 8, 9, 10]\n",
      "[1, 4, 7, 10]\n"
     ]
    }
   ],
   "source": [
    "# partir la lista en secciones o rangos definidos\n",
    "lista=[1,2,3,4,5,6,7,8,9,10]\n",
    "\n",
    "lista_recortada=lista[::3] #[inicio,fin,paso] no toma el ultimo valor\n",
    "print(lista)\n",
    "print(lista_recortada)"
   ]
  },
  {
   "cell_type": "markdown",
   "id": "e346773b",
   "metadata": {},
   "source": [
    "## saber si la lista tiene un elemento "
   ]
  },
  {
   "cell_type": "code",
   "execution_count": 40,
   "id": "4bdcb6b1",
   "metadata": {},
   "outputs": [
    {
     "name": "stdout",
     "output_type": "stream",
     "text": [
      "['s', 'm', 'l', 'xl', 'xxl', 's', 'm', 'l', 'xl', 'xxl', 's', 'm', 'l', 'xl', 'xxl']\n",
      "['s', 'l', 'xl', 'xxl', 's', 'm', 'l', 'xl', 'xxl', 's', 'm', 'l', 'xl', 'xxl']\n",
      "True\n"
     ]
    }
   ],
   "source": [
    "sara=[\"s\",\"m\",\"l\",\"xl\",\"xxl\"]\n",
    "sara=sara*3\n",
    "print(sara)\n",
    "#llega un cliente y compra una talla m\n",
    "del sara[1]\n",
    "print(sara)\n",
    "\n",
    "tiene_m= \"m\" in sara # es una pregunta\n",
    "print(tiene_m)"
   ]
  },
  {
   "cell_type": "code",
   "execution_count": 44,
   "id": "8387178c",
   "metadata": {},
   "outputs": [
    {
     "name": "stdout",
     "output_type": "stream",
     "text": [
      "['s', 'm', 'l', 'xl', 'xxl', 's', 'm', 'l', 'xl', 'xxl', 's', 'm', 'l', 'xl', 'xxl']\n",
      "['s', 'm', 'l', 'xl', 's', 'm', 'l', 'xl', 'xxl', 's', 'm', 'l', 'xl', 'xxl']\n",
      "['s', 'm', 'l', 'xl', 's', 'm', 'l', 'xl', 's', 'm', 'l', 'xl', 'xxl']\n",
      "['s', 'm', 'l', 'xl', 's', 'm', 'l', 'xl', 's', 'm', 'l', 'xl']\n"
     ]
    }
   ],
   "source": [
    "sara=[\"s\",\"m\",\"l\",\"xl\",\"xxl\"]\n",
    "sara=sara*3\n",
    "print(sara)\n",
    "\n",
    "\n",
    "#ya no quiero vender mas camisetas xxl, entonces las queiro eliminar del stock\n",
    "\n",
    "tiene_xxl = \"xxl\" in sara\n",
    "\n",
    "while tiene_xxl== True:\n",
    "    tiene_xxl = \"xxl\" in sara\n",
    "    \n",
    "    if tiene_xxl==True:\n",
    "        sara.remove(\"xxl\")\n",
    "        print(sara)"
   ]
  },
  {
   "cell_type": "markdown",
   "id": "4f112150",
   "metadata": {},
   "source": [
    "## otras funciones utiles "
   ]
  },
  {
   "cell_type": "code",
   "execution_count": 55,
   "id": "3e818193",
   "metadata": {},
   "outputs": [
    {
     "name": "stdout",
     "output_type": "stream",
     "text": [
      "10\n",
      "9\n",
      "1\n",
      "44\n"
     ]
    }
   ],
   "source": [
    "lista=[3,6,1,9,3,6,2,5,1,8]\n",
    "\n",
    "print(len(lista)) # la cantidad de elementos\n",
    "print(max(lista)) # valor maximo\n",
    "print(min(lista)) # valor minimo\n",
    "print(sum(lista)) # suma todos los elementos\n"
   ]
  },
  {
   "cell_type": "code",
   "execution_count": 56,
   "id": "1cc5463a",
   "metadata": {},
   "outputs": [
    {
     "name": "stdout",
     "output_type": "stream",
     "text": [
      "4\n",
      "ds\n",
      "da\n"
     ]
    }
   ],
   "source": [
    "lista2=[\"dr\",\"ds\",\"dc\",\"da\"] \n",
    "print(len(lista2)) # la cantidad de elementos\n",
    "print(max(lista2)) # valor maximo\n",
    "print(min(lista2)) # valor minimo\n",
    "#print(sum(lista2)) # no hy suma para string\n",
    "\n",
    "# r =\n",
    "# s =\n",
    "# c = 99\n",
    "# a = 97"
   ]
  },
  {
   "cell_type": "markdown",
   "id": "3729f6ec",
   "metadata": {},
   "source": [
    "## metodo de ordenamiento "
   ]
  },
  {
   "cell_type": "code",
   "execution_count": 70,
   "id": "97ae45b0",
   "metadata": {},
   "outputs": [
    {
     "name": "stdout",
     "output_type": "stream",
     "text": [
      "[1, 1, 2, 3, 3, 5, 6, 6, 8, 9]\n",
      "['da', 'dc', 'dr', 'ds']\n",
      "[9, 8, 6, 6, 5, 3, 3, 2, 1, 1]\n",
      "['ds', 'dr', 'dc', 'da']\n"
     ]
    }
   ],
   "source": [
    "lista=[3,6,1,9,3,6,2,5,1,8]\n",
    "lista2=[\"dr\",\"ds\",\"dc\",\"da\"] \n",
    "\n",
    "lista.sort() # ordena de menor a mayor\n",
    "lista2.sort()\n",
    "\n",
    "print(lista)\n",
    "print(lista2)\n",
    "\n",
    "lista.sort(reverse = True) # ordena de mayor a menor\n",
    "lista2.sort(reverse = True)\n",
    "\n",
    "print(lista)\n",
    "print(lista2)"
   ]
  },
  {
   "cell_type": "markdown",
   "id": "87659038",
   "metadata": {},
   "source": [
    "# funciones"
   ]
  },
  {
   "cell_type": "code",
   "execution_count": 72,
   "id": "6b6852ec",
   "metadata": {},
   "outputs": [
    {
     "name": "stdout",
     "output_type": "stream",
     "text": [
      "5678\n"
     ]
    }
   ],
   "source": [
    "# una funcion es una cosa que tiene un formato para utilizarse muchas veces\n",
    "\n",
    "#print()\n",
    "#input()\n",
    "\n",
    "#defino la funcion\n",
    "def nombre(argumentos):\n",
    "    #codigo\n",
    "    argumentos=argumentos\n",
    "    return argumentos\n",
    "\n",
    "#llamo la funcion\n",
    "\n",
    "resultado=nombre(5678)\n",
    "print(resultado)\n",
    "    "
   ]
  },
  {
   "cell_type": "code",
   "execution_count": 81,
   "id": "8a060446",
   "metadata": {},
   "outputs": [
    {
     "name": "stdout",
     "output_type": "stream",
     "text": [
      "la suma de 3 y 4 es:  7\n",
      "la suma de 3 y 4 es:  7\n",
      "[1, 2, 3, 4, 5, 6, 7, 8, 9, 9, 8, 7, 6, 5, 4, 3, 2, 1]\n",
      "la suma es: 1 + 9 = 10\n",
      "la suma es: 1 + 8 = 9\n",
      "la suma es: 1 + 7 = 8\n",
      "la suma es: 1 + 6 = 7\n",
      "la suma es: 1 + 5 = 6\n",
      "la suma es: 1 + 4 = 5\n",
      "la suma es: 1 + 3 = 4\n",
      "la suma es: 1 + 2 = 3\n",
      "la suma es: 1 + 1 = 2\n",
      "la suma es: 2 + 9 = 11\n",
      "la suma es: 2 + 8 = 10\n",
      "la suma es: 2 + 7 = 9\n",
      "la suma es: 2 + 6 = 8\n",
      "la suma es: 2 + 5 = 7\n",
      "la suma es: 2 + 4 = 6\n",
      "la suma es: 2 + 3 = 5\n",
      "la suma es: 2 + 2 = 4\n",
      "la suma es: 2 + 1 = 3\n",
      "la suma es: 3 + 9 = 12\n",
      "la suma es: 3 + 8 = 11\n",
      "la suma es: 3 + 7 = 10\n",
      "la suma es: 3 + 6 = 9\n",
      "la suma es: 3 + 5 = 8\n",
      "la suma es: 3 + 4 = 7\n",
      "la suma es: 3 + 3 = 6\n",
      "la suma es: 3 + 2 = 5\n",
      "la suma es: 3 + 1 = 4\n",
      "la suma es: 4 + 9 = 13\n",
      "la suma es: 4 + 8 = 12\n",
      "la suma es: 4 + 7 = 11\n",
      "la suma es: 4 + 6 = 10\n",
      "la suma es: 4 + 5 = 9\n",
      "la suma es: 4 + 4 = 8\n",
      "la suma es: 4 + 3 = 7\n",
      "la suma es: 4 + 2 = 6\n",
      "la suma es: 4 + 1 = 5\n",
      "la suma es: 5 + 9 = 14\n",
      "la suma es: 5 + 8 = 13\n",
      "la suma es: 5 + 7 = 12\n",
      "la suma es: 5 + 6 = 11\n",
      "la suma es: 5 + 5 = 10\n",
      "la suma es: 5 + 4 = 9\n",
      "la suma es: 5 + 3 = 8\n",
      "la suma es: 5 + 2 = 7\n",
      "la suma es: 5 + 1 = 6\n",
      "la suma es: 6 + 9 = 15\n",
      "la suma es: 6 + 8 = 14\n",
      "la suma es: 6 + 7 = 13\n",
      "la suma es: 6 + 6 = 12\n",
      "la suma es: 6 + 5 = 11\n",
      "la suma es: 6 + 4 = 10\n",
      "la suma es: 6 + 3 = 9\n",
      "la suma es: 6 + 2 = 8\n",
      "la suma es: 6 + 1 = 7\n",
      "la suma es: 7 + 9 = 16\n",
      "la suma es: 7 + 8 = 15\n",
      "la suma es: 7 + 7 = 14\n",
      "la suma es: 7 + 6 = 13\n",
      "la suma es: 7 + 5 = 12\n",
      "la suma es: 7 + 4 = 11\n",
      "la suma es: 7 + 3 = 10\n",
      "la suma es: 7 + 2 = 9\n",
      "la suma es: 7 + 1 = 8\n",
      "la suma es: 8 + 9 = 17\n",
      "la suma es: 8 + 8 = 16\n",
      "la suma es: 8 + 7 = 15\n",
      "la suma es: 8 + 6 = 14\n",
      "la suma es: 8 + 5 = 13\n",
      "la suma es: 8 + 4 = 12\n",
      "la suma es: 8 + 3 = 11\n",
      "la suma es: 8 + 2 = 10\n",
      "la suma es: 8 + 1 = 9\n",
      "la suma es: 9 + 9 = 18\n",
      "la suma es: 9 + 8 = 17\n",
      "la suma es: 9 + 7 = 16\n",
      "la suma es: 9 + 6 = 15\n",
      "la suma es: 9 + 5 = 14\n",
      "la suma es: 9 + 4 = 13\n",
      "la suma es: 9 + 3 = 12\n",
      "la suma es: 9 + 2 = 11\n",
      "la suma es: 9 + 1 = 10\n"
     ]
    }
   ],
   "source": [
    "def suma(n1,n2):\n",
    "    suma=n1+n2\n",
    "    return suma\n",
    "\n",
    "resultado=suma(3,4)\n",
    "print(\"la suma de 3 y 4 es: \", resultado)\n",
    "\n",
    "print(\"la suma de 3 y 4 es: \", suma(3,4))\n",
    "\n",
    "\n",
    "lista1=[1,2,3,4,5,6,7,8,9]\n",
    "lista2=[9,8,7,6,5,4,3,2,1]\n",
    "print(lista1+lista2) #las junta -> concatena\n",
    "\n",
    "for i in lista1:\n",
    "    #print(\"i vale: \", i)\n",
    "    for j in lista2:\n",
    "        #print(\"j: \",j)\n",
    "        print(\"la suma es: {} + {} = {}\".format(i,j,suma(i,j)))"
   ]
  },
  {
   "cell_type": "code",
   "execution_count": 88,
   "id": "5cd4004e",
   "metadata": {},
   "outputs": [
    {
     "name": "stdout",
     "output_type": "stream",
     "text": [
      "tablas de multiplicar\n",
      "la multiplicacion es: 1 x 1 = 1\n",
      "la multiplicacion es: 1 x 2 = 2\n",
      "la multiplicacion es: 1 x 3 = 3\n",
      "la multiplicacion es: 1 x 4 = 4\n",
      "la multiplicacion es: 1 x 5 = 5\n",
      "la multiplicacion es: 1 x 6 = 6\n",
      "la multiplicacion es: 1 x 7 = 7\n",
      "la multiplicacion es: 1 x 8 = 8\n",
      "la multiplicacion es: 1 x 9 = 9\n",
      "la multiplicacion es: 1 x 10 = 10\n",
      "________________________________________\n",
      "la multiplicacion es: 2 x 1 = 2\n",
      "la multiplicacion es: 2 x 2 = 4\n",
      "la multiplicacion es: 2 x 3 = 6\n",
      "la multiplicacion es: 2 x 4 = 8\n",
      "la multiplicacion es: 2 x 5 = 10\n",
      "la multiplicacion es: 2 x 6 = 12\n",
      "la multiplicacion es: 2 x 7 = 14\n",
      "la multiplicacion es: 2 x 8 = 16\n",
      "la multiplicacion es: 2 x 9 = 18\n",
      "la multiplicacion es: 2 x 10 = 20\n",
      "________________________________________\n",
      "la multiplicacion es: 3 x 1 = 3\n",
      "la multiplicacion es: 3 x 2 = 6\n",
      "la multiplicacion es: 3 x 3 = 9\n",
      "la multiplicacion es: 3 x 4 = 12\n",
      "la multiplicacion es: 3 x 5 = 15\n",
      "la multiplicacion es: 3 x 6 = 18\n",
      "la multiplicacion es: 3 x 7 = 21\n",
      "la multiplicacion es: 3 x 8 = 24\n",
      "la multiplicacion es: 3 x 9 = 27\n",
      "la multiplicacion es: 3 x 10 = 30\n",
      "________________________________________\n",
      "la multiplicacion es: 4 x 1 = 4\n",
      "la multiplicacion es: 4 x 2 = 8\n",
      "la multiplicacion es: 4 x 3 = 12\n",
      "la multiplicacion es: 4 x 4 = 16\n",
      "la multiplicacion es: 4 x 5 = 20\n",
      "la multiplicacion es: 4 x 6 = 24\n",
      "la multiplicacion es: 4 x 7 = 28\n",
      "la multiplicacion es: 4 x 8 = 32\n",
      "la multiplicacion es: 4 x 9 = 36\n",
      "la multiplicacion es: 4 x 10 = 40\n",
      "________________________________________\n",
      "la multiplicacion es: 5 x 1 = 5\n",
      "la multiplicacion es: 5 x 2 = 10\n",
      "la multiplicacion es: 5 x 3 = 15\n",
      "la multiplicacion es: 5 x 4 = 20\n",
      "la multiplicacion es: 5 x 5 = 25\n",
      "la multiplicacion es: 5 x 6 = 30\n",
      "la multiplicacion es: 5 x 7 = 35\n",
      "la multiplicacion es: 5 x 8 = 40\n",
      "la multiplicacion es: 5 x 9 = 45\n",
      "la multiplicacion es: 5 x 10 = 50\n",
      "________________________________________\n",
      "la multiplicacion es: 6 x 1 = 6\n",
      "la multiplicacion es: 6 x 2 = 12\n",
      "la multiplicacion es: 6 x 3 = 18\n",
      "la multiplicacion es: 6 x 4 = 24\n",
      "la multiplicacion es: 6 x 5 = 30\n",
      "la multiplicacion es: 6 x 6 = 36\n",
      "la multiplicacion es: 6 x 7 = 42\n",
      "la multiplicacion es: 6 x 8 = 48\n",
      "la multiplicacion es: 6 x 9 = 54\n",
      "la multiplicacion es: 6 x 10 = 60\n",
      "________________________________________\n",
      "la multiplicacion es: 7 x 1 = 7\n",
      "la multiplicacion es: 7 x 2 = 14\n",
      "la multiplicacion es: 7 x 3 = 21\n",
      "la multiplicacion es: 7 x 4 = 28\n",
      "la multiplicacion es: 7 x 5 = 35\n",
      "la multiplicacion es: 7 x 6 = 42\n",
      "la multiplicacion es: 7 x 7 = 49\n",
      "la multiplicacion es: 7 x 8 = 56\n",
      "la multiplicacion es: 7 x 9 = 63\n",
      "la multiplicacion es: 7 x 10 = 70\n",
      "________________________________________\n",
      "la multiplicacion es: 8 x 1 = 8\n",
      "la multiplicacion es: 8 x 2 = 16\n",
      "la multiplicacion es: 8 x 3 = 24\n",
      "la multiplicacion es: 8 x 4 = 32\n",
      "la multiplicacion es: 8 x 5 = 40\n",
      "la multiplicacion es: 8 x 6 = 48\n",
      "la multiplicacion es: 8 x 7 = 56\n",
      "la multiplicacion es: 8 x 8 = 64\n",
      "la multiplicacion es: 8 x 9 = 72\n",
      "la multiplicacion es: 8 x 10 = 80\n",
      "________________________________________\n",
      "la multiplicacion es: 9 x 1 = 9\n",
      "la multiplicacion es: 9 x 2 = 18\n",
      "la multiplicacion es: 9 x 3 = 27\n",
      "la multiplicacion es: 9 x 4 = 36\n",
      "la multiplicacion es: 9 x 5 = 45\n",
      "la multiplicacion es: 9 x 6 = 54\n",
      "la multiplicacion es: 9 x 7 = 63\n",
      "la multiplicacion es: 9 x 8 = 72\n",
      "la multiplicacion es: 9 x 9 = 81\n",
      "la multiplicacion es: 9 x 10 = 90\n",
      "________________________________________\n"
     ]
    }
   ],
   "source": [
    "def multiplicacion(n1,n2):\n",
    "    mult=n1*n2\n",
    "    return mult\n",
    "lista1=[1,2,3,4,5,6,7,8,9]\n",
    "lista2=[1,2,3,4,5,6,7,8,9,10]\n",
    "print(\"tablas de multiplicar\")\n",
    "for i in lista1:\n",
    "    for j in lista2:\n",
    "        print(\"la multiplicacion es: {} x {} = {}\".format(i,j,multiplicacion(i,j)))\n",
    "    print(\"________________________________________\")"
   ]
  },
  {
   "cell_type": "code",
   "execution_count": null,
   "id": "bfa7df52",
   "metadata": {},
   "outputs": [],
   "source": []
  }
 ],
 "metadata": {
  "kernelspec": {
   "display_name": "Python 3 (ipykernel)",
   "language": "python",
   "name": "python3"
  },
  "language_info": {
   "codemirror_mode": {
    "name": "ipython",
    "version": 3
   },
   "file_extension": ".py",
   "mimetype": "text/x-python",
   "name": "python",
   "nbconvert_exporter": "python",
   "pygments_lexer": "ipython3",
   "version": "3.9.12"
  }
 },
 "nbformat": 4,
 "nbformat_minor": 5
}
