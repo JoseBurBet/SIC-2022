{
 "cells": [
  {
   "cell_type": "markdown",
   "id": "04fe498c",
   "metadata": {},
   "source": [
    "# Opciones utiles para trabajar con listas"
   ]
  },
  {
   "cell_type": "code",
   "execution_count": null,
   "id": "ee207961",
   "metadata": {},
   "outputs": [],
   "source": [
    "lista_compra=[\"pasta\",\"arroz\",\"aceite\",\"mantequilla\",\"atun\"]"
   ]
  },
  {
   "cell_type": "markdown",
   "id": "a36aaf81",
   "metadata": {},
   "source": [
    "# Añadir datos "
   ]
  },
  {
   "cell_type": "code",
   "execution_count": 2,
   "id": "7325f169",
   "metadata": {},
   "outputs": [
    {
     "name": "stdout",
     "output_type": "stream",
     "text": [
      "['pasta', 'arroz', 'aceite', 'mantequilla', 'atun']\n",
      "['pasta', 'arroz', 'aceite', 'mantequilla', 'atun', 'leche']\n"
     ]
    }
   ],
   "source": [
    "#metodo append\n",
    "lista_compra=[\"pasta\",\"arroz\",\"aceite\",\"mantequilla\",\"atun\"]\n",
    "print(lista_compra)\n",
    "lista_compra.append(\"leche\") #append agrega elementos completos al final de la lista\n",
    "print(lista_compra)"
   ]
  },
  {
   "cell_type": "code",
   "execution_count": 3,
   "id": "96920dde",
   "metadata": {},
   "outputs": [
    {
     "name": "stdout",
     "output_type": "stream",
     "text": [
      "['pasta', 'arroz', 'aceite', 'mantequilla', 'atun']\n",
      "['pasta', 'arroz', 'aceite', 'mantequilla', 'atun', 'l', 'e', 'c', 'h', 'e']\n"
     ]
    }
   ],
   "source": [
    "#metodo extend\n",
    "lista_compra=[\"pasta\",\"arroz\",\"aceite\",\"mantequilla\",\"atun\"]\n",
    "print(lista_compra)\n",
    "lista_compra.extend(\"leche\") #extend agrega elementos uno por uno al final de la lista\n",
    "print(lista_compra)"
   ]
  },
  {
   "cell_type": "code",
   "execution_count": 5,
   "id": "f63ab209",
   "metadata": {},
   "outputs": [
    {
     "name": "stdout",
     "output_type": "stream",
     "text": [
      "[['pasta', 'arroz', 'aceite', 'mantequilla', 'atun'], ['tomate', 'cebolla', 'zanahoria'], ['res', 'pollo', 'pescado']]\n",
      "['tomate', 'cebolla', 'zanahoria']\n"
     ]
    }
   ],
   "source": [
    "# cuando usar extend o append\n",
    "\n",
    "carrito=[]\n",
    "lista_compra=[\"pasta\",\"arroz\",\"aceite\",\"mantequilla\",\"atun\"]\n",
    "lista_veduras=[\"tomate\",\"cebolla\",\"zanahoria\"]\n",
    "lista_carne=[\"res\",\"pollo\",\"pescado\"]\n",
    "\n",
    "# uso append cuando quiero mantener las cosas separadas\n",
    "carrito.append(lista_compra)\n",
    "carrito.append(lista_veduras)\n",
    "carrito.append(lista_carne)\n",
    "print(carrito) # es una lista de listas\n",
    "print(carrito[1]) "
   ]
  },
  {
   "cell_type": "code",
   "execution_count": 6,
   "id": "6b1e1cef",
   "metadata": {},
   "outputs": [
    {
     "name": "stdout",
     "output_type": "stream",
     "text": [
      "['pasta', 'arroz', 'aceite', 'mantequilla', 'atun', 'tomate', 'cebolla', 'zanahoria', 'res', 'pollo', 'pescado']\n",
      "arroz\n"
     ]
    }
   ],
   "source": [
    "# cuando usar extend o append\n",
    "\n",
    "carrito=[]\n",
    "lista_compra=[\"pasta\",\"arroz\",\"aceite\",\"mantequilla\",\"atun\"]\n",
    "lista_veduras=[\"tomate\",\"cebolla\",\"zanahoria\"]\n",
    "lista_carne=[\"res\",\"pollo\",\"pescado\"]\n",
    "\n",
    "# uso append cuando quiero mantener las cosas separadas\n",
    "carrito.extend(lista_compra)\n",
    "carrito.extend(lista_veduras)\n",
    "carrito.extend(lista_carne)\n",
    "print(carrito) # es una lista de listas\n",
    "print(carrito[1]) "
   ]
  },
  {
   "cell_type": "markdown",
   "id": "353c5175",
   "metadata": {},
   "source": [
    "# Eliminar datos"
   ]
  },
  {
   "cell_type": "code",
   "execution_count": 8,
   "id": "f74d13d6",
   "metadata": {},
   "outputs": [
    {
     "name": "stdout",
     "output_type": "stream",
     "text": [
      "['pasta', 'arroz', 'aceite', 'mantequilla', 'atun']\n",
      "['pasta', 'aceite', 'mantequilla', 'atun']\n"
     ]
    }
   ],
   "source": [
    "#borrar por index\n",
    "lista_compra=[\"pasta\",\"arroz\",\"aceite\",\"mantequilla\",\"atun\"]\n",
    "print(lista_compra)\n",
    "del lista_compra[1]\n",
    "print(lista_compra)"
   ]
  },
  {
   "cell_type": "code",
   "execution_count": 9,
   "id": "2445eaeb",
   "metadata": {},
   "outputs": [
    {
     "name": "stdout",
     "output_type": "stream",
     "text": [
      "['pasta', 'arroz', 'aceite', 'mantequilla', 'atun']\n",
      "['pasta', 'arroz', 'mantequilla', 'atun']\n"
     ]
    }
   ],
   "source": [
    "# borrar algo especifico por buscador\n",
    "lista_compra=[\"pasta\",\"arroz\",\"aceite\",\"mantequilla\",\"atun\"]\n",
    "print(lista_compra)\n",
    "lista_compra.remove(\"aceite\")\n",
    "print(lista_compra)\n"
   ]
  },
  {
   "cell_type": "code",
   "execution_count": 10,
   "id": "04944b74",
   "metadata": {},
   "outputs": [
    {
     "name": "stdout",
     "output_type": "stream",
     "text": [
      "[1, 7, 2, 8, 3, 2, 6, 2, 8, 2, 0, 3, 5]\n",
      "[1, 7, 8, 3, 2, 6, 2, 8, 2, 0, 3, 5]\n",
      "[1, 7, 8, 3, 6, 2, 8, 2, 0, 3, 5]\n",
      "[1, 7, 8, 3, 6, 8, 2, 0, 3, 5]\n"
     ]
    }
   ],
   "source": [
    "lista=[1,7,2,8,3,2,6,2,8,2,0,3,5]\n",
    "print(lista)\n",
    "\n",
    "lista.remove(2)\n",
    "print(lista)\n",
    "lista.remove(2)\n",
    "print(lista)\n",
    "lista.remove(2)\n",
    "print(lista)"
   ]
  },
  {
   "cell_type": "code",
   "execution_count": 12,
   "id": "3527e205",
   "metadata": {},
   "outputs": [
    {
     "name": "stdout",
     "output_type": "stream",
     "text": [
      "['pasta', 'arroz', 'aceite', 'mantequilla', 'atun']\n",
      "['pasta', 'arroz', 'aceite', 'mantequilla']\n",
      "atun\n"
     ]
    }
   ],
   "source": [
    "# .pop() #elimina el elemento y lo retorna\n",
    "lista_compra=[\"pasta\",\"arroz\",\"aceite\",\"mantequilla\",\"atun\"]\n",
    "print(lista_compra)\n",
    "eliminado=lista_compra.pop() #borra el ultimo elemento y lo guarda\n",
    "print(lista_compra)\n",
    "print(eliminado)"
   ]
  },
  {
   "cell_type": "code",
   "execution_count": 13,
   "id": "fae9cbcb",
   "metadata": {},
   "outputs": [
    {
     "name": "stdout",
     "output_type": "stream",
     "text": [
      "['pasta', 'arroz', 'aceite', 'mantequilla', 'atun']\n",
      "['pasta', 'arroz', 'aceite', 'atun']\n",
      "mantequilla\n"
     ]
    }
   ],
   "source": [
    "# .pop() #elimina el elemento y lo retorna\n",
    "lista_compra=[\"pasta\",\"arroz\",\"aceite\",\"mantequilla\",\"atun\"]\n",
    "print(lista_compra)\n",
    "eliminado=lista_compra.pop(3) #borra el elemento del index y lo guarda\n",
    "print(lista_compra)\n",
    "print(eliminado)"
   ]
  },
  {
   "cell_type": "markdown",
   "id": "5724b7ba",
   "metadata": {},
   "source": [
    "# multiplicarlas"
   ]
  },
  {
   "cell_type": "code",
   "execution_count": 14,
   "id": "b833cb12",
   "metadata": {},
   "outputs": [
    {
     "name": "stdout",
     "output_type": "stream",
     "text": [
      "['s', 'm', 'l', 'xl', 'xxl', 's', 'm', 'l', 'xl', 'xxl', 's', 'm', 'l', 'xl', 'xxl', 's', 'm', 'l', 'xl', 'xxl', 's', 'm', 'l', 'xl', 'xxl']\n"
     ]
    }
   ],
   "source": [
    "camisetas_rojas=[\"s\",\"m\",\"l\",\"xl\",\"xxl\"]\n",
    "stock=camisetas_rojas*5\n",
    "print(stock)"
   ]
  },
  {
   "cell_type": "markdown",
   "id": "d33cc606",
   "metadata": {},
   "source": [
    "# particionar -> slicing"
   ]
  },
  {
   "cell_type": "code",
   "execution_count": 19,
   "id": "5c68273a",
   "metadata": {},
   "outputs": [
    {
     "name": "stdout",
     "output_type": "stream",
     "text": [
      "[1, 7, 2, 8, 3, 2, 6, 2, 8, 2, 0, 3, 5]\n",
      "[8, 2, 2, 2, 3]\n"
     ]
    }
   ],
   "source": [
    "#partir la lista en rangos definidos\n",
    "\n",
    "lista=[1,7,2,8,3,2,6,2,8,2,0,3,5]\n",
    "lista_recortada=lista[3::2] #[inicio:fin:paso] no incluye el fin\n",
    "print(lista)\n",
    "print(lista_recortada)"
   ]
  },
  {
   "cell_type": "code",
   "execution_count": 25,
   "id": "0cf49b4e",
   "metadata": {},
   "outputs": [
    {
     "name": "stdout",
     "output_type": "stream",
     "text": [
      "[2, 4, 6, 8, 10, 12, 14, 16, 18, 20, 22, 24, 26, 28, 30, 32, 34, 36, 38, 40, 42, 44, 46, 48, 50, 52, 54, 56, 58, 60, 62, 64, 66, 68, 70, 72, 74, 76, 78, 80, 82, 84, 86, 88, 90, 92, 94, 96, 98, 100]\n"
     ]
    }
   ],
   "source": [
    "lista=list(range(1,101,1))\n",
    "lista_recortada=lista[1::2]\n",
    "print(lista_recortada)"
   ]
  },
  {
   "cell_type": "markdown",
   "id": "f83f6d13",
   "metadata": {},
   "source": [
    "# saber si la lista tiene un elemento"
   ]
  },
  {
   "cell_type": "code",
   "execution_count": 28,
   "id": "b6bb29b7",
   "metadata": {},
   "outputs": [
    {
     "name": "stdout",
     "output_type": "stream",
     "text": [
      "['s', 'm', 'l', 'xl', 'xxl', 's', 'm', 'l', 'xl', 'xxl', 's', 'm', 'l', 'xl', 'xxl', 's', 'm', 'l', 'xl', 'xxl', 's', 'm', 'l', 'xl', 'xxl']\n",
      "True\n",
      "False\n"
     ]
    }
   ],
   "source": [
    "camisetas_rojas=[\"s\",\"m\",\"l\",\"xl\",\"xxl\"]\n",
    "stock=camisetas_rojas*5\n",
    "print(stock)\n",
    "\n",
    "#llega un cliente y compra una talla s\n",
    "stock.remove(\"s\")\n",
    "\n",
    "tenemos_s= \"s\" in stock # una pregunta\n",
    "print(tenemos_s)\n",
    "\n",
    "\n",
    "#llega otro cliente y quiere una xs\n",
    "\n",
    "tenemos_xs= \"xs\" in stock\n",
    "print(tenemos_xs)"
   ]
  },
  {
   "cell_type": "code",
   "execution_count": 32,
   "id": "a40dd992",
   "metadata": {},
   "outputs": [
    {
     "name": "stdout",
     "output_type": "stream",
     "text": [
      "50\n",
      "['s', 'm', 'xl', 'xxl', 's', 'm', 'xl', 'xxl', 's', 'm', 'xl', 'xxl', 's', 'm', 'xl', 'xxl', 's', 'm', 'xl', 'xxl']\n"
     ]
    }
   ],
   "source": [
    "#ejemplo practico\n",
    "\n",
    "camisetas_rojas=[\"s\",\"m\",\"l\",\"xl\",\"xxl\"]\n",
    "stock=camisetas_rojas*50\n",
    "#print(stock)\n",
    "\n",
    "\n",
    "#llega otro cliente , quiero TODAS las l que tenga\n",
    "contador=0\n",
    "tengo_l= \"l\" in stock\n",
    "\n",
    "while tengo_l==True:\n",
    "    \n",
    "    tengo_l= \"l\" in stock\n",
    "    \n",
    "    if tengo_l==True:\n",
    "        stock.remove(\"l\")\n",
    "        contador+=1\n",
    "print(contador)\n",
    "print(stock[0:20])"
   ]
  },
  {
   "cell_type": "markdown",
   "id": "85272925",
   "metadata": {},
   "source": [
    "# otras funciones utiles"
   ]
  },
  {
   "cell_type": "code",
   "execution_count": 37,
   "id": "b46dc2dd",
   "metadata": {},
   "outputs": [
    {
     "name": "stdout",
     "output_type": "stream",
     "text": [
      "14\n",
      "9\n",
      "1\n",
      "72\n",
      "5.142857142857143\n"
     ]
    }
   ],
   "source": [
    "lista=[2,5,8,3,2,8,2,8,1,8,3,8,5,9]\n",
    "\n",
    "print(len(lista)) #la cantidad de datos que tiene\n",
    "print(max(lista))\n",
    "print(min(lista))\n",
    "print(sum(lista))\n",
    "\n",
    "#para sacar un promedio\n",
    "prom=sum(lista)/len(lista)\n",
    "print(prom)"
   ]
  },
  {
   "cell_type": "code",
   "execution_count": 39,
   "id": "e1e3afd2",
   "metadata": {},
   "outputs": [
    {
     "name": "stdout",
     "output_type": "stream",
     "text": [
      "5\n",
      "zapato\n",
      "ad\n"
     ]
    }
   ],
   "source": [
    "lista=[\"casa\",\"arbol\",\"ad\",\"ap\",\"zapato\"]\n",
    "\n",
    "print(len(lista)) #la cantidad de datos que tiene\n",
    "print(max(lista))\n",
    "print(min(lista))\n",
    "#print(sum(lista))"
   ]
  },
  {
   "cell_type": "markdown",
   "id": "0de3419d",
   "metadata": {},
   "source": [
    "# metodo de ordenamiento"
   ]
  },
  {
   "cell_type": "code",
   "execution_count": 42,
   "id": "a087c5ae",
   "metadata": {},
   "outputs": [
    {
     "name": "stdout",
     "output_type": "stream",
     "text": [
      "[1, 2, 2, 2, 3, 3, 5, 5, 8, 8, 8, 8, 8, 9]\n",
      "['ad', 'ap', 'arbol', 'casa', 'zapato']\n",
      "\n",
      "[9, 8, 8, 8, 8, 8, 5, 5, 3, 3, 2, 2, 2, 1]\n",
      "['zapato', 'casa', 'arbol', 'ap', 'ad']\n"
     ]
    }
   ],
   "source": [
    "lista1=[2,5,8,3,2,8,2,8,1,8,3,8,5,9]\n",
    "lista2=[\"casa\",\"arbol\",\"ad\",\"ap\",\"zapato\"]\n",
    "\n",
    "lista1.sort() #ordena de menor a mayor\n",
    "lista2.sort()\n",
    "print(lista1)\n",
    "print(lista2)\n",
    "print()\n",
    "lista1.sort(reverse=True) #ordena de  mayor a menor\n",
    "lista2.sort(reverse=True)\n",
    "print(lista1)\n",
    "print(lista2)"
   ]
  },
  {
   "cell_type": "markdown",
   "id": "01539277",
   "metadata": {},
   "source": [
    "# funciones\n",
    "\n",
    "- como programador defino funciones (metodos) que se van a usar repetidamente\n",
    "- por ejemplo tenemos la funcion print que se definio para usarla repetidamente\n",
    "- a las funciones tambien se les conoce como METODOS()\n",
    "\n",
    "### cuando empleo funciones recuerdo 4 cosas\n",
    "- 1 Defino la funcion\n",
    "- 2 Defino si tiene entradas (ARGUMENTOS)\n",
    "- 3 Defino si tiene salidas (RETORNO)\n",
    "- 4 Invoco o uso la funcion (usarla)\n",
    "\n",
    "### def nombre(argumentos):\n",
    "###        proceso\n",
    "###        return"
   ]
  },
  {
   "cell_type": "code",
   "execution_count": 43,
   "id": "596eb5a0",
   "metadata": {},
   "outputs": [
    {
     "name": "stdout",
     "output_type": "stream",
     "text": [
      "12\n",
      "40\n"
     ]
    }
   ],
   "source": [
    "\n",
    "def multiplicar(n1,n2):\n",
    "    mult=n1*n2\n",
    "    return mult\n",
    "\n",
    "resultado= multiplicar(3,4)\n",
    "print(resultado)\n",
    "\n",
    "print(multiplicar(5,8))\n",
    "\n"
   ]
  },
  {
   "cell_type": "code",
   "execution_count": 53,
   "id": "6be18cda",
   "metadata": {},
   "outputs": [
    {
     "name": "stdout",
     "output_type": "stream",
     "text": [
      "tablas de multiplicar \n",
      "\n",
      "tabla del  333\n",
      "333 x 1 = 333\n",
      "333 x 2 = 666\n",
      "333 x 3 = 999\n",
      "333 x 4 = 1332\n",
      "333 x 5 = 1665\n",
      "333 x 6 = 1998\n",
      "333 x 7 = 2331\n",
      "333 x 8 = 2664\n",
      "333 x 9 = 2997\n",
      "333 x 10 = 3330\n",
      "\n",
      "______________________________________\n",
      "tabla del  334\n",
      "334 x 1 = 334\n",
      "334 x 2 = 668\n",
      "334 x 3 = 1002\n",
      "334 x 4 = 1336\n",
      "334 x 5 = 1670\n",
      "334 x 6 = 2004\n",
      "334 x 7 = 2338\n",
      "334 x 8 = 2672\n",
      "334 x 9 = 3006\n",
      "334 x 10 = 3340\n",
      "\n",
      "______________________________________\n",
      "tabla del  335\n",
      "335 x 1 = 335\n",
      "335 x 2 = 670\n",
      "335 x 3 = 1005\n",
      "335 x 4 = 1340\n",
      "335 x 5 = 1675\n",
      "335 x 6 = 2010\n",
      "335 x 7 = 2345\n",
      "335 x 8 = 2680\n",
      "335 x 9 = 3015\n",
      "335 x 10 = 3350\n",
      "\n",
      "______________________________________\n",
      "tabla del  336\n",
      "336 x 1 = 336\n",
      "336 x 2 = 672\n",
      "336 x 3 = 1008\n",
      "336 x 4 = 1344\n",
      "336 x 5 = 1680\n",
      "336 x 6 = 2016\n",
      "336 x 7 = 2352\n",
      "336 x 8 = 2688\n",
      "336 x 9 = 3024\n",
      "336 x 10 = 3360\n",
      "\n",
      "______________________________________\n",
      "tabla del  337\n",
      "337 x 1 = 337\n",
      "337 x 2 = 674\n",
      "337 x 3 = 1011\n",
      "337 x 4 = 1348\n",
      "337 x 5 = 1685\n",
      "337 x 6 = 2022\n",
      "337 x 7 = 2359\n",
      "337 x 8 = 2696\n",
      "337 x 9 = 3033\n",
      "337 x 10 = 3370\n",
      "\n",
      "______________________________________\n",
      "tabla del  338\n",
      "338 x 1 = 338\n",
      "338 x 2 = 676\n",
      "338 x 3 = 1014\n",
      "338 x 4 = 1352\n",
      "338 x 5 = 1690\n",
      "338 x 6 = 2028\n",
      "338 x 7 = 2366\n",
      "338 x 8 = 2704\n",
      "338 x 9 = 3042\n",
      "338 x 10 = 3380\n",
      "\n",
      "______________________________________\n",
      "tabla del  339\n",
      "339 x 1 = 339\n",
      "339 x 2 = 678\n",
      "339 x 3 = 1017\n",
      "339 x 4 = 1356\n",
      "339 x 5 = 1695\n",
      "339 x 6 = 2034\n",
      "339 x 7 = 2373\n",
      "339 x 8 = 2712\n",
      "339 x 9 = 3051\n",
      "339 x 10 = 3390\n",
      "\n",
      "______________________________________\n",
      "tabla del  340\n",
      "340 x 1 = 340\n",
      "340 x 2 = 680\n",
      "340 x 3 = 1020\n",
      "340 x 4 = 1360\n",
      "340 x 5 = 1700\n",
      "340 x 6 = 2040\n",
      "340 x 7 = 2380\n",
      "340 x 8 = 2720\n",
      "340 x 9 = 3060\n",
      "340 x 10 = 3400\n",
      "\n",
      "______________________________________\n",
      "tabla del  341\n",
      "341 x 1 = 341\n",
      "341 x 2 = 682\n",
      "341 x 3 = 1023\n",
      "341 x 4 = 1364\n",
      "341 x 5 = 1705\n",
      "341 x 6 = 2046\n",
      "341 x 7 = 2387\n",
      "341 x 8 = 2728\n",
      "341 x 9 = 3069\n",
      "341 x 10 = 3410\n",
      "\n",
      "______________________________________\n",
      "tabla del  342\n",
      "342 x 1 = 342\n",
      "342 x 2 = 684\n",
      "342 x 3 = 1026\n",
      "342 x 4 = 1368\n",
      "342 x 5 = 1710\n",
      "342 x 6 = 2052\n",
      "342 x 7 = 2394\n",
      "342 x 8 = 2736\n",
      "342 x 9 = 3078\n",
      "342 x 10 = 3420\n",
      "\n",
      "______________________________________\n",
      "tabla del  343\n",
      "343 x 1 = 343\n",
      "343 x 2 = 686\n",
      "343 x 3 = 1029\n",
      "343 x 4 = 1372\n",
      "343 x 5 = 1715\n",
      "343 x 6 = 2058\n",
      "343 x 7 = 2401\n",
      "343 x 8 = 2744\n",
      "343 x 9 = 3087\n",
      "343 x 10 = 3430\n",
      "\n",
      "______________________________________\n",
      "tabla del  344\n",
      "344 x 1 = 344\n",
      "344 x 2 = 688\n",
      "344 x 3 = 1032\n",
      "344 x 4 = 1376\n",
      "344 x 5 = 1720\n",
      "344 x 6 = 2064\n",
      "344 x 7 = 2408\n",
      "344 x 8 = 2752\n",
      "344 x 9 = 3096\n",
      "344 x 10 = 3440\n",
      "\n",
      "______________________________________\n",
      "tabla del  345\n",
      "345 x 1 = 345\n",
      "345 x 2 = 690\n",
      "345 x 3 = 1035\n",
      "345 x 4 = 1380\n",
      "345 x 5 = 1725\n",
      "345 x 6 = 2070\n",
      "345 x 7 = 2415\n",
      "345 x 8 = 2760\n",
      "345 x 9 = 3105\n",
      "345 x 10 = 3450\n",
      "\n",
      "______________________________________\n",
      "tabla del  346\n",
      "346 x 1 = 346\n",
      "346 x 2 = 692\n",
      "346 x 3 = 1038\n",
      "346 x 4 = 1384\n",
      "346 x 5 = 1730\n",
      "346 x 6 = 2076\n",
      "346 x 7 = 2422\n",
      "346 x 8 = 2768\n",
      "346 x 9 = 3114\n",
      "346 x 10 = 3460\n",
      "\n",
      "______________________________________\n",
      "tabla del  347\n",
      "347 x 1 = 347\n",
      "347 x 2 = 694\n",
      "347 x 3 = 1041\n",
      "347 x 4 = 1388\n",
      "347 x 5 = 1735\n",
      "347 x 6 = 2082\n",
      "347 x 7 = 2429\n",
      "347 x 8 = 2776\n",
      "347 x 9 = 3123\n",
      "347 x 10 = 3470\n",
      "\n",
      "______________________________________\n",
      "tabla del  348\n",
      "348 x 1 = 348\n",
      "348 x 2 = 696\n",
      "348 x 3 = 1044\n",
      "348 x 4 = 1392\n",
      "348 x 5 = 1740\n",
      "348 x 6 = 2088\n",
      "348 x 7 = 2436\n",
      "348 x 8 = 2784\n",
      "348 x 9 = 3132\n",
      "348 x 10 = 3480\n",
      "\n",
      "______________________________________\n",
      "tabla del  349\n",
      "349 x 1 = 349\n",
      "349 x 2 = 698\n",
      "349 x 3 = 1047\n",
      "349 x 4 = 1396\n",
      "349 x 5 = 1745\n",
      "349 x 6 = 2094\n",
      "349 x 7 = 2443\n",
      "349 x 8 = 2792\n",
      "349 x 9 = 3141\n",
      "349 x 10 = 3490\n",
      "\n",
      "______________________________________\n",
      "tabla del  350\n",
      "350 x 1 = 350\n",
      "350 x 2 = 700\n",
      "350 x 3 = 1050\n",
      "350 x 4 = 1400\n",
      "350 x 5 = 1750\n",
      "350 x 6 = 2100\n",
      "350 x 7 = 2450\n",
      "350 x 8 = 2800\n",
      "350 x 9 = 3150\n",
      "350 x 10 = 3500\n",
      "\n",
      "______________________________________\n",
      "tabla del  351\n",
      "351 x 1 = 351\n",
      "351 x 2 = 702\n",
      "351 x 3 = 1053\n",
      "351 x 4 = 1404\n",
      "351 x 5 = 1755\n",
      "351 x 6 = 2106\n",
      "351 x 7 = 2457\n",
      "351 x 8 = 2808\n",
      "351 x 9 = 3159\n",
      "351 x 10 = 3510\n",
      "\n",
      "______________________________________\n",
      "tabla del  352\n",
      "352 x 1 = 352\n",
      "352 x 2 = 704\n",
      "352 x 3 = 1056\n",
      "352 x 4 = 1408\n",
      "352 x 5 = 1760\n",
      "352 x 6 = 2112\n",
      "352 x 7 = 2464\n",
      "352 x 8 = 2816\n",
      "352 x 9 = 3168\n",
      "352 x 10 = 3520\n",
      "\n",
      "______________________________________\n",
      "tabla del  353\n",
      "353 x 1 = 353\n",
      "353 x 2 = 706\n",
      "353 x 3 = 1059\n",
      "353 x 4 = 1412\n",
      "353 x 5 = 1765\n",
      "353 x 6 = 2118\n",
      "353 x 7 = 2471\n",
      "353 x 8 = 2824\n",
      "353 x 9 = 3177\n",
      "353 x 10 = 3530\n",
      "\n",
      "______________________________________\n",
      "tabla del  354\n",
      "354 x 1 = 354\n",
      "354 x 2 = 708\n",
      "354 x 3 = 1062\n",
      "354 x 4 = 1416\n",
      "354 x 5 = 1770\n",
      "354 x 6 = 2124\n",
      "354 x 7 = 2478\n",
      "354 x 8 = 2832\n",
      "354 x 9 = 3186\n",
      "354 x 10 = 3540\n",
      "\n",
      "______________________________________\n",
      "tabla del  355\n",
      "355 x 1 = 355\n",
      "355 x 2 = 710\n",
      "355 x 3 = 1065\n",
      "355 x 4 = 1420\n",
      "355 x 5 = 1775\n",
      "355 x 6 = 2130\n",
      "355 x 7 = 2485\n",
      "355 x 8 = 2840\n",
      "355 x 9 = 3195\n",
      "355 x 10 = 3550\n",
      "\n",
      "______________________________________\n",
      "tabla del  356\n",
      "356 x 1 = 356\n",
      "356 x 2 = 712\n",
      "356 x 3 = 1068\n",
      "356 x 4 = 1424\n",
      "356 x 5 = 1780\n",
      "356 x 6 = 2136\n",
      "356 x 7 = 2492\n",
      "356 x 8 = 2848\n",
      "356 x 9 = 3204\n",
      "356 x 10 = 3560\n",
      "\n",
      "______________________________________\n",
      "tabla del  357\n",
      "357 x 1 = 357\n",
      "357 x 2 = 714\n",
      "357 x 3 = 1071\n",
      "357 x 4 = 1428\n",
      "357 x 5 = 1785\n",
      "357 x 6 = 2142\n",
      "357 x 7 = 2499\n",
      "357 x 8 = 2856\n",
      "357 x 9 = 3213\n",
      "357 x 10 = 3570\n",
      "\n",
      "______________________________________\n",
      "hicimos 250 operaciones\n"
     ]
    }
   ],
   "source": [
    "def multiplicar(n1,n2):\n",
    "    mult=n1*n2\n",
    "    return mult\n",
    "\n",
    "#333 -> 357  * 1-10\n",
    "\n",
    "#multiplos=[1,2,3,4,5,6,7,8,9,10]\n",
    "multiplos=list(range(1,11,1))\n",
    "tablas=list(range(333,358,1))\n",
    "\n",
    "print(\"tablas de multiplicar \\n\")\n",
    "\n",
    "#bucle anidado , un bucle dentro de otro bucle\n",
    "for i in tablas:\n",
    "    print(\"tabla del \",i)\n",
    "    \n",
    "    for j in multiplos:\n",
    "        print(f\"{i} x {j} = {multiplicar(i,j)}\")\n",
    "    print(\"\\n______________________________________\")\n",
    "    \n",
    "\n",
    "print(f\"hicimos {len(multiplos)*len(tablas)} operaciones\")    "
   ]
  },
  {
   "cell_type": "code",
   "execution_count": 49,
   "id": "80723dd6",
   "metadata": {},
   "outputs": [
    {
     "name": "stdout",
     "output_type": "stream",
     "text": [
      "casa\n",
      "arbol\n",
      "ad\n",
      "ap\n",
      "zapato\n"
     ]
    }
   ],
   "source": [
    "lista2=[\"casa\",\"arbol\",\"ad\",\"ap\",\"zapato\"]\n",
    "for i in lista2:\n",
    "    print(i)"
   ]
  }
 ],
 "metadata": {
  "kernelspec": {
   "display_name": "Python 3 (ipykernel)",
   "language": "python",
   "name": "python3"
  },
  "language_info": {
   "codemirror_mode": {
    "name": "ipython",
    "version": 3
   },
   "file_extension": ".py",
   "mimetype": "text/x-python",
   "name": "python",
   "nbconvert_exporter": "python",
   "pygments_lexer": "ipython3",
   "version": "3.9.12"
  }
 },
 "nbformat": 4,
 "nbformat_minor": 5
}
