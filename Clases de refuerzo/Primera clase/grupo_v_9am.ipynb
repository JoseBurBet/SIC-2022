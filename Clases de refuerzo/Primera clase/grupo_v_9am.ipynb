{
 "cells": [
  {
   "cell_type": "code",
   "execution_count": 5,
   "id": "46af4124",
   "metadata": {},
   "outputs": [
    {
     "name": "stdout",
     "output_type": "stream",
     "text": [
      "ingrese un numero3\n",
      "el numero ingresado fue: \n",
      " 3\n",
      "el numero ingresado fue: \n",
      " \n",
      "<class 'str'>\n"
     ]
    }
   ],
   "source": [
    "#Repaso de las priemras funciones en python\n",
    "#Backend -> codigo en texto y visualizacion para programadores (consola)\n",
    "\n",
    "#entrada y salida de datos\n",
    "\n",
    "\n",
    "\n",
    "#funciones palabra+parentesis -> input() -> como argumento se puede poner texto\n",
    "\n",
    "#ingresar datos\n",
    "entrada=input(\"ingrese un numero\")#registra lo que se ingresa por teclado\n",
    "#input siempre registra los datos como tipo string (str)\n",
    "\n",
    "\n",
    "#salida datos\n",
    "print(\"el numero ingresado fue: \\n\",entrada) # \\n -> hace un salto de linea\n",
    "print(\"el numero ingresado fue: \\n \")\n",
    "\n",
    "\n",
    "\n",
    "\n",
    "#TIPOS DE DATOS \n",
    "#tipo int -> SON NUMEROS enteros : 3,4,7,9\n",
    "#tipo float -> numeros decimales : 1.2 , 3.4 ,5.0\n",
    "#tipo char -> caracteres solitos : a ,? , = , g    \n",
    "#tipo str ->  cadenas de caracteres: casa  -> en python char y str son lo mismo\n",
    " \n",
    "# como saber que tipo de dato es mi dato?    \n",
    "print(type(entrada))\n"
   ]
  },
  {
   "cell_type": "code",
   "execution_count": 9,
   "id": "d079154a",
   "metadata": {},
   "outputs": [
    {
     "name": "stdout",
     "output_type": "stream",
     "text": [
      "ingrese el primer numero : 3\n",
      "ingrese el segundo numero : 4\n",
      "34\n"
     ]
    }
   ],
   "source": [
    "#ejemplo 2 #mal\n",
    "numero1=input(\"ingrese el primer numero : \")\n",
    "numero2=input(\"ingrese el segundo numero : \")\n",
    "\n",
    "suma=numero1+numero2\n",
    "print(suma)\n",
    "\n",
    "#existen conversores de formato para pasar de un tipo a otro\n",
    "#con la funcion int() digo que lo que esta dentro del parentesis es un #"
   ]
  },
  {
   "cell_type": "code",
   "execution_count": 21,
   "id": "989c5797",
   "metadata": {},
   "outputs": [
    {
     "name": "stdout",
     "output_type": "stream",
     "text": [
      "ingrese el primer numero : casa\n"
     ]
    },
    {
     "ename": "ValueError",
     "evalue": "could not convert string to float: 'casa'",
     "output_type": "error",
     "traceback": [
      "\u001b[1;31m---------------------------------------------------------------------------\u001b[0m",
      "\u001b[1;31mValueError\u001b[0m                                Traceback (most recent call last)",
      "Input \u001b[1;32mIn [21]\u001b[0m, in \u001b[0;36m<cell line: 3>\u001b[1;34m()\u001b[0m\n\u001b[0;32m      1\u001b[0m \u001b[38;5;66;03m#ejemplo 2-1 #bien\u001b[39;00m\n\u001b[0;32m      2\u001b[0m \u001b[38;5;66;03m#numero1=input(\"ingrese el primer numero : \")\u001b[39;00m\n\u001b[1;32m----> 3\u001b[0m numero1\u001b[38;5;241m=\u001b[39m\u001b[38;5;28;43mfloat\u001b[39;49m\u001b[43m(\u001b[49m\u001b[38;5;28;43minput\u001b[39;49m\u001b[43m(\u001b[49m\u001b[38;5;124;43m\"\u001b[39;49m\u001b[38;5;124;43mingrese el primer numero : \u001b[39;49m\u001b[38;5;124;43m\"\u001b[39;49m\u001b[43m)\u001b[49m\u001b[43m)\u001b[49m\n\u001b[0;32m      4\u001b[0m numero2\u001b[38;5;241m=\u001b[39m\u001b[38;5;28mfloat\u001b[39m(\u001b[38;5;28minput\u001b[39m(\u001b[38;5;124m\"\u001b[39m\u001b[38;5;124mingrese el segundo numero : \u001b[39m\u001b[38;5;124m\"\u001b[39m))\n\u001b[0;32m      6\u001b[0m suma\u001b[38;5;241m=\u001b[39mnumero1\u001b[38;5;241m+\u001b[39mnumero2\n",
      "\u001b[1;31mValueError\u001b[0m: could not convert string to float: 'casa'"
     ]
    }
   ],
   "source": [
    "#ejemplo 2-1 #bien\n",
    "#numero1=input(\"ingrese el primer numero : \")\n",
    "numero1=float(input(\"ingrese el primer numero : \"))\n",
    "numero2=float(input(\"ingrese el segundo numero : \"))\n",
    "\n",
    "suma=numero1+numero2\n",
    "print(suma)\n",
    "print(type(suma))"
   ]
  },
  {
   "cell_type": "code",
   "execution_count": 24,
   "id": "16f10cf7",
   "metadata": {},
   "outputs": [
    {
     "name": "stdout",
     "output_type": "stream",
     "text": [
      "ingrese el primer numero : 3,14\n",
      "por favor ingrese un numero valido\n",
      "el codigo continua a pesar de que hubo error\n"
     ]
    }
   ],
   "source": [
    "#ejemplo control de errores\n",
    "\n",
    "#try: #->intentar :ejecuta el codigo hasta que salga un error, \n",
    "        #en este ejemplo el error seria no ingresar un numero sino letras\n",
    "\n",
    "#except: #-> excepto : Cuando detecta el error se activa este codigo,\n",
    "                    #sino se ignora\n",
    "\n",
    "# en python siempre despues de : hay un identado\n",
    "# un identado es el espacio de margen que dejo a la izquierda\n",
    "# despues de un : TODO lo que este identado se ejecuta dentro de esa \n",
    "# seccion de codigo\n",
    "\n",
    "try: # try ejecuta el codigo hasta que salga un error\n",
    "    numero1=float(input(\"ingrese el primer numero : \"))\n",
    "    numero2=float(input(\"ingrese el segundo numero : \"))\n",
    "    suma=numero1+numero2\n",
    "    print(suma)\n",
    "    print(type(suma))\n",
    "    \n",
    "except:# cuando el try detecta el error se activa este código y saca este mensaje\n",
    "    print(\"por favor ingrese un numero valido\")\n",
    "    \n",
    "print(\"el codigo continua a pesar de que hubo error\")"
   ]
  },
  {
   "cell_type": "code",
   "execution_count": 29,
   "id": "1e4f22ff",
   "metadata": {},
   "outputs": [
    {
     "name": "stdout",
     "output_type": "stream",
     "text": [
      "ingrese el primer numero : 10\n",
      "ingrese el segundo numero : 3\n",
      "la suma es:  13.0\n",
      "la resta es:  7.0\n",
      "la mult es:  30.0\n",
      "la division es:  3.3333333333333335\n",
      "la potencia es:  1000.0\n",
      "la raiz_cuadradan1 es:  3.1622776601683795\n",
      "la raiz_cuadradan2 es:  1.7320508075688772\n",
      "la raiz es:  2.154434690031884\n",
      "la modulo es:  1.0\n",
      "la cociente_exacto es:  3.0\n"
     ]
    }
   ],
   "source": [
    "#calculadora completa sencilla\n",
    "\n",
    "try: # try ejecuta el codigo hasta que salga un error\n",
    "    numero1=float(input(\"ingrese el primer numero : \"))\n",
    "    numero2=float(input(\"ingrese el segundo numero : \"))\n",
    "    \n",
    "    \n",
    "    suma=numero1+numero2\n",
    "    resta=numero1-numero2\n",
    "    mult=numero1*numero2\n",
    "    division=numero1/numero2 # me da numeros decimales\n",
    "    \n",
    "    potencia=numero1**numero2 \n",
    "    raiz_cuadradan1=numero1**(1/2)\n",
    "    raiz_cuadradan2=numero2**(1/2)\n",
    "    raiz=numero1**(1/numero2)\n",
    "    \n",
    "    modulo=numero1%numero2 #me da lo que sobra de la division, solo puede dar 1 o 0\n",
    "    cociente_exacto=numero1//numero2# me da numeros enteros (exactos)\n",
    "    \n",
    "    \n",
    "    \n",
    "    print(\"la suma es: \",suma)\n",
    "    print(\"la resta es: \",resta)\n",
    "    print(\"la mult es: \",mult)\n",
    "    print(\"la division es: \",division)\n",
    "    \n",
    "    print(\"la potencia es: \",potencia)\n",
    "    print(\"la raiz_cuadradan1 es: \",raiz_cuadradan1)\n",
    "    print(\"la raiz_cuadradan2 es: \",raiz_cuadradan2)\n",
    "    print(\"la raiz es: \",raiz)\n",
    "    \n",
    "    print(\"la modulo es: \",modulo)\n",
    "    print(\"la cociente_exacto es: \",cociente_exacto)\n",
    "    \n",
    "    \n",
    "except:# cuando el try detecta el error se activa este código y saca este mensaje\n",
    "    print(\"por favor ingrese un numero valido\")"
   ]
  },
  {
   "cell_type": "code",
   "execution_count": null,
   "id": "33df64d5",
   "metadata": {},
   "outputs": [],
   "source": []
  }
 ],
 "metadata": {
  "kernelspec": {
   "display_name": "Python 3 (ipykernel)",
   "language": "python",
   "name": "python3"
  },
  "language_info": {
   "codemirror_mode": {
    "name": "ipython",
    "version": 3
   },
   "file_extension": ".py",
   "mimetype": "text/x-python",
   "name": "python",
   "nbconvert_exporter": "python",
   "pygments_lexer": "ipython3",
   "version": "3.9.12"
  }
 },
 "nbformat": 4,
 "nbformat_minor": 5
}
