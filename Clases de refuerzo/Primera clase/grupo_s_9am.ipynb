{
 "cells": [
  {
   "cell_type": "code",
   "execution_count": null,
   "id": "b124a7f8",
   "metadata": {},
   "outputs": [],
   "source": [
    "# comentarios\n",
    "\n",
    "#Repaso  de la primeras funciones en python y algoritmia basica\n",
    "#BACKEND -> codigo en texto  y visualizacion para programadores(consola)\n",
    "\n",
    "#entradas y salidas\n",
    "\n",
    "#funciones -> palabra+parentesis -> input(argumento) -> texto para el usuario\n",
    "\n",
    "#Entrada da datos\n",
    "\n",
    "entrada=input(\"ingrese un numero: \")#captura informacion del teclado\n",
    "#SIEMPRE!!!!!!! PYTHON detecta los input como string\n",
    "\n",
    "\n",
    "#salida de datos\n",
    "\n",
    "print(\"lo que se ingreso fue: \",entrada)\n",
    "\n",
    "#tipos de datos\n",
    "\n",
    "#tipo int -> entero -> numero entero : 4,6,1,12,5,8,5,3,6\n",
    "#tipo float -> flotante -> decimales -> 3.14 ,4.6, 6.3\n",
    "#tipo str -> string -> cadenas de texto : c, 6 ,?, - ,asdfgfh33456 ,casa ,2345\n",
    "                        #los string siempre se ponen entre \"\"\n",
    "    \n",
    "#para saber que tipo de dato es algo utilizamos type()\n",
    "\n",
    "print(type(entrada))\n"
   ]
  },
  {
   "cell_type": "code",
   "execution_count": 3,
   "id": "b64ed361",
   "metadata": {},
   "outputs": [
    {
     "name": "stdout",
     "output_type": "stream",
     "text": [
      "ingrese un numero: jo\n",
      "ingrese un numero: se\n",
      "el resultado de la suma es:  jose\n",
      "<class 'str'>\n"
     ]
    }
   ],
   "source": [
    "#ejemplo 1\n",
    "\n",
    "numero1=input(\"ingrese un numero: \")\n",
    "numero2=input(\"ingrese un numero: \")\n",
    "\n",
    "suma=numero1+numero2\n",
    "print(\"el resultado de la suma es: \",suma)\n",
    "\n",
    "print(type(suma))"
   ]
  },
  {
   "cell_type": "code",
   "execution_count": 6,
   "id": "a9518546",
   "metadata": {},
   "outputs": [
    {
     "name": "stdout",
     "output_type": "stream",
     "text": [
      "ingrese un numero: 3\n",
      "ingrese un numero: 4\n",
      "el resultado de la suma es:  7\n",
      "<class 'int'>\n"
     ]
    }
   ],
   "source": [
    "#ejemplo 2\n",
    "\n",
    "#conversores de tipo\n",
    "#int() -> convierte lo que haya adentro del() en numero entero\n",
    "#float()-> convierte lo que haya adentro del() en numero decimal\n",
    "#str()-> convierte lo que haya adentro del() en string\n",
    "\n",
    "\n",
    "\n",
    "numero1=int(input(\"ingrese un numero: \"))\n",
    "numero2=int(input(\"ingrese un numero: \"))\n",
    "\n",
    "suma=numero1+numero2\n",
    "print(\"el resultado de la suma es: \",suma)\n",
    "print(type(suma))"
   ]
  },
  {
   "cell_type": "code",
   "execution_count": 9,
   "id": "8d24dadb",
   "metadata": {},
   "outputs": [
    {
     "name": "stdout",
     "output_type": "stream",
     "text": [
      "ingrese un numero: 3\n",
      "ingrese un numero: 7\n",
      "el resultado de la suma es:  10.0\n",
      "<class 'float'>\n"
     ]
    }
   ],
   "source": [
    "#ejemplo 3\n",
    "numero1=float(input(\"ingrese un numero: \"))\n",
    "numero2=float(input(\"ingrese un numero: \"))\n",
    "\n",
    "suma=numero1+numero2\n",
    "print(\"el resultado de la suma es: \",suma)\n",
    "print(type(suma))"
   ]
  },
  {
   "cell_type": "code",
   "execution_count": 14,
   "id": "7086a56e",
   "metadata": {},
   "outputs": [
    {
     "name": "stdout",
     "output_type": "stream",
     "text": [
      "ingrese un numero: 3,3456\n",
      "hubo un error, verifique si ingreso bien los datos\n"
     ]
    }
   ],
   "source": [
    "#ejemplo 4\n",
    "\n",
    "#CONTROL DE ERRORES\n",
    "\n",
    "# try: intentar -> ejecuta el codigo hasta que ocurra un error\n",
    "                    #en este ejemplo el error seria ingresar letras\n",
    "\n",
    "# except: excepcion ->cuando detecta el error ejecuta el codigo, si no hay error lo ignora\n",
    "\n",
    "#en python SIEMPRE!!!! despues de  : hay un IDENTADO\n",
    "\n",
    "# un identado es el espacio de margen a la izquierda\n",
    "# despues de : todo  lo que este identado   se ejecuta dentro de esa seccion del codigo\n",
    "\n",
    "try:    \n",
    "    numero1=float(input(\"ingrese un numero: \"))\n",
    "    numero2=float(input(\"ingrese un numero: \"))\n",
    "    suma=numero1+numero2\n",
    "    print(\"el resultado de la suma es: \",suma)\n",
    "    print(type(suma))\n",
    "\n",
    "except:\n",
    "    print(\"hubo un error, verifique si ingreso bien los datos\")"
   ]
  },
  {
   "cell_type": "code",
   "execution_count": 16,
   "id": "f618daf4",
   "metadata": {},
   "outputs": [
    {
     "name": "stdout",
     "output_type": "stream",
     "text": [
      "ingrese un numero: 10\n",
      "ingrese un numero: 3\n",
      "el resultado de la suma es:  13.0\n",
      "el resultado de la resta es:  7.0\n",
      "el resultado de la mult es:  30.0\n",
      "el resultado de la div es:  3.3333333333333335\n",
      "el resultado de la potencia es:  1000.0\n",
      "el resultado de la raiz es:  2.154434690031884\n",
      "el resultado de la modulo es:  1.0\n",
      "el resultado de la division_exacta es:  3.0\n"
     ]
    }
   ],
   "source": [
    "#ejemplo 5\n",
    "\n",
    "try:    \n",
    "    numero1=float(input(\"ingrese un numero: \"))\n",
    "    numero2=float(input(\"ingrese un numero: \"))\n",
    "    \n",
    "    \n",
    "    \n",
    "    suma=numero1+numero2\n",
    "    resta=numero1-numero2\n",
    "    mult=numero1*numero2\n",
    "    div=numero1/numero2\n",
    "    \n",
    "    potencia=numero1**numero2\n",
    "    raiz=numero1**(1/numero2)\n",
    "    \n",
    "    modulo=numero1%numero2#es lo que sobra de la division, solo puede ser 1 o 0\n",
    "    division_exacta=numero1//numero2\n",
    "    \n",
    "    print(\"el resultado de la suma es: \",suma)\n",
    "    print(\"el resultado de la resta es: \",resta)\n",
    "    print(\"el resultado de la mult es: \",mult)\n",
    "    print(\"el resultado de la div es: \",div)\n",
    "    \n",
    "    print(\"el resultado de la potencia es: \",potencia)\n",
    "    print(\"el resultado de la raiz es: \",raiz)\n",
    "    print(\"el resultado de la modulo es: \",modulo)\n",
    "    print(\"el resultado de la division_exacta es: \",division_exacta)\n",
    "\n",
    "except:\n",
    "    print(\"hubo un error, verifique si ingreso bien los datos\")\n"
   ]
  },
  {
   "cell_type": "markdown",
   "id": "f32d2e37",
   "metadata": {},
   "source": [
    "# CONDICIONALES"
   ]
  },
  {
   "cell_type": "code",
   "execution_count": 20,
   "id": "fb073275",
   "metadata": {},
   "outputs": [
    {
     "name": "stdout",
     "output_type": "stream",
     "text": [
      "la luz esta encendida? \n",
      " si o no : \n",
      " no\n",
      "la luz esta apagada, entonces la prendo\n"
     ]
    }
   ],
   "source": [
    "# if -> si?\n",
    "\n",
    "# en el if si se cumple la condicion se ejecuta el codigo, sino pasa a lo siguiente\n",
    "\n",
    "entrada=input(\"la luz esta encendida? \\n si o no : \\n \")\n",
    "\n",
    "if entrada==\"si\":\n",
    "    print(\"la luz esta encendida, entonces la apago\")\n",
    "else:\n",
    "    print(\"la luz esta apagada, entonces la prendo\")\n",
    "    \n",
    "#comparaciones entre datos -> SON PREGUNTAS!!!!!!!!!\n",
    "\n",
    "# > es mayor?\n",
    "# < es menor?\n",
    "# >= es mayor o igual?\n",
    "# <= es menor o igual?\n",
    "# == son iguales?\n",
    "# != son diferentes?\n",
    "    \n",
    "    \n",
    "    "
   ]
  },
  {
   "cell_type": "code",
   "execution_count": null,
   "id": "4ae41e77",
   "metadata": {},
   "outputs": [],
   "source": []
  }
 ],
 "metadata": {
  "kernelspec": {
   "display_name": "Python 3 (ipykernel)",
   "language": "python",
   "name": "python3"
  },
  "language_info": {
   "codemirror_mode": {
    "name": "ipython",
    "version": 3
   },
   "file_extension": ".py",
   "mimetype": "text/x-python",
   "name": "python",
   "nbconvert_exporter": "python",
   "pygments_lexer": "ipython3",
   "version": "3.9.12"
  }
 },
 "nbformat": 4,
 "nbformat_minor": 5
}
