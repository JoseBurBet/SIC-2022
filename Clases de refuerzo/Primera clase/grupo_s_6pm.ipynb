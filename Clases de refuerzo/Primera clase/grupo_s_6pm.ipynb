{
 "cells": [
  {
   "cell_type": "code",
   "execution_count": null,
   "id": "8eb4ed53",
   "metadata": {},
   "outputs": [],
   "source": [
    "# comentarios\n",
    "\n",
    "#repaso de primeras funciones y conceptos basicos de python\n",
    "#BACKEND -> codigo en texto -> y visualizacion para programadores (consola)\n",
    "\n",
    "#entrada y salida de datos\n",
    "\n",
    "#funciones -> palabra+parentesis -> input(argumentos) -> texto\n",
    "\n",
    "#entrada de data\n",
    "\n",
    "entrada=input(\"ingrese un numero: \") #-> captura los datos que se ingresan por teclado\n",
    "# SIEMPRE!!!!!! input recibe como tipo str -> cadena de texto \n",
    "\n",
    "#salida de data\n",
    "print(\"lo que el usuario ingreso fue: \\n \",entrada)\n",
    "\n",
    "#tipos de datos\n",
    "\n",
    "# int -> entero -> numero entero : 2,4,6,9,132,78,3,45\n",
    "# float -> flotante ->numero decimal : 3.14 , 4.56 ,4.57\n",
    "# str -> string -> cadena de texto : d,c,t,u,a,4,5,3 , #,?,-,!,|,° ,asd345, casa\n",
    "\n",
    "#como saber que tipo de dato tengo? \n",
    "print(type(entrada))\n"
   ]
  },
  {
   "cell_type": "code",
   "execution_count": null,
   "id": "98a3c4ae",
   "metadata": {},
   "outputs": [],
   "source": [
    "#ejemplo 1\n",
    "\n",
    "numero1=input(\"ingrese un numero: \")\n",
    "numero2=input(\"ingrese un numero: \")\n",
    "\n",
    "suma=numero1+numero2\n",
    "\n",
    "print(\"el resultado de la suma es: \",suma)\n",
    "print(type(suma))\n",
    "\n",
    "\n",
    "#conversores de tipo\n",
    "# int() -> lo convierte a tipo entero\n",
    "# float() -> lo convierte a tipo decimal\n",
    "# str() -> lo convierte a tipo texto\n"
   ]
  },
  {
   "cell_type": "code",
   "execution_count": null,
   "id": "b68e937f",
   "metadata": {},
   "outputs": [],
   "source": [
    "#ejemplo 2\n",
    "\n",
    "\n",
    "numero1=int(input(\"ingrese un numero: \"))\n",
    "numero2=int(input(\"ingrese un numero: \"))\n",
    "\n",
    "suma=numero1+numero2\n",
    "\n",
    "print(\"el resultado de la suma es: \",suma)\n",
    "print(type(suma))\n"
   ]
  },
  {
   "cell_type": "code",
   "execution_count": null,
   "id": "e8e07e60",
   "metadata": {},
   "outputs": [],
   "source": [
    "#ejemplo 3\n",
    "\n",
    "numero1=float(input(\"ingrese un numero: \"))\n",
    "numero2=float(input(\"ingrese un numero: \"))\n",
    "\n",
    "suma=numero1+numero2\n",
    "\n",
    "print(\"el resultado de la suma es: \",suma)\n",
    "print(type(suma))"
   ]
  },
  {
   "cell_type": "code",
   "execution_count": null,
   "id": "7fe5f081",
   "metadata": {},
   "outputs": [],
   "source": [
    "#ejemplo 4\n",
    "\n",
    "#control de errores \n",
    "\n",
    "# try: intentar -> ejecuta el codigo hasta que ocurra un error\n",
    "                #en este ejemplo el error seria no ingresar el numero\n",
    "\n",
    "# except: excepcion -> cuando detecta un error en vez de terminar el programa\n",
    "                # ejecuta el codigo correspondiente, si no hay error LO IGNORA\n",
    "\n",
    "\n",
    "# en python SIEMPRE!!! despues de : hay un IDENTADO\n",
    "# un identado es el espacio de margen que se deja a la izquierda\n",
    "#despues de : todo lo que este identado se ejecuta dentro de esa seccion del codigo\n",
    "\n",
    "try:   \n",
    "    numero1=float(input(\"ingrese un numero: \"))\n",
    "    numero2=float(input(\"ingrese un numero: \"))\n",
    "\n",
    "    suma=numero1+numero2\n",
    "\n",
    "    print(\"el resultado de la suma es: \",suma)\n",
    "    print(type(suma))\n",
    "    \n",
    "except:\n",
    "    print(\"hubo un error, revise si ingreso bien los datos\")"
   ]
  },
  {
   "cell_type": "code",
   "execution_count": null,
   "id": "b4925e2c",
   "metadata": {},
   "outputs": [],
   "source": [
    "try:   \n",
    "    numero1=float(input(\"ingrese un numero: \"))\n",
    "    numero2=float(input(\"ingrese un numero: \"))   \n",
    "    \n",
    "    suma=numero1+numero2\n",
    "    resta=numero1-numero2\n",
    "    mult=numero1*numero2\n",
    "    div=numero1/numero2\n",
    "\n",
    "    potencia=numero1**numero2\n",
    "    raiz=numero1**(1/numero2)\n",
    "    \n",
    "    modulo=numero1%numero2 #lo que sobra de la division\n",
    "    div_exac=numero1//numero2 # la division sin decimales\n",
    "    \n",
    "\n",
    "    print(\"el resultado de la suma es: \",suma)\n",
    "    print(\"el resultado de la resta es: \",resta)\n",
    "    print(\"el resultado de la mult es: \",mult)\n",
    "    print(\"el resultado de la div es: \",div)\n",
    "  \n",
    "    print(\"el resultado de la potencia es: \",potencia)\n",
    "    print(\"el resultado de la raiz es: \",raiz)\n",
    "    \n",
    "    print(\"el resultado de la modulo es: \",modulo)\n",
    "    print(\"el resultado de la div_exac es: \",div_exac)\n",
    "    \n",
    "    \n",
    "except:\n",
    "    print(\"hubo un error, revise si ingreso bien los datos\")"
   ]
  },
  {
   "cell_type": "markdown",
   "id": "1359ea88",
   "metadata": {},
   "source": [
    "# CONDICIONALES O DESICIONES"
   ]
  },
  {
   "cell_type": "code",
   "execution_count": null,
   "id": "c18bb332",
   "metadata": {},
   "outputs": [],
   "source": [
    "# if -> si?\n",
    "\n",
    "#en el if si se cumple la condicion se ejecuta el codigo, sino se ignora\n",
    "\n",
    "respuesta=input(\"el codigo anterior funciono? \\n si o no ? \\n\")\n",
    "\n",
    "if respuesta==\"si\":\n",
    "    print(\"ingreso los datos bien\")\n",
    "else:\n",
    "    print(\"los datos estaban mal escritos\")"
   ]
  },
  {
   "cell_type": "code",
   "execution_count": 2,
   "id": "88e26909",
   "metadata": {},
   "outputs": [
    {
     "name": "stdout",
     "output_type": "stream",
     "text": [
      "el codigo anterior funciono? \n",
      " si o no ? \n",
      "sdfghjklñlkjhgfds\n",
      "por favor responda si o no\n"
     ]
    }
   ],
   "source": [
    "# if -> si?\n",
    "\n",
    "#en el if si se cumple la condicion se ejecuta el codigo, sino se ignora\n",
    "\n",
    "respuesta=input(\"el codigo anterior funciono? \\n si o no ? \\n\")\n",
    "\n",
    "if respuesta==\"si\":\n",
    "    print(\"ingreso los datos bien\")\n",
    "    \n",
    "elif respuesta==\"no\":\n",
    "    print(\"los datos estaban mal escritos\")\n",
    "\n",
    "else:\n",
    "    print(\"por favor responda si o no\")"
   ]
  },
  {
   "cell_type": "code",
   "execution_count": null,
   "id": "8c3c86a2",
   "metadata": {},
   "outputs": [],
   "source": [
    "#comparaciones entre datos -> SON PREGUNTAS!!!!!!!!\n",
    "\n",
    "# < -> es menor que?\n",
    "# > -> es mayor que?\n",
    "# >= -> es mayor o igual que?\n",
    "# <= -> es menor o igual que?\n",
    "# == -> son iguales?\n",
    "# != -> son diferentes?"
   ]
  },
  {
   "cell_type": "code",
   "execution_count": 5,
   "id": "a04cedd4",
   "metadata": {},
   "outputs": [
    {
     "name": "stdout",
     "output_type": "stream",
     "text": [
      "ingrese un numero: 3\n",
      "ingrese un numero: 3\n",
      "los numeros son iguales\n"
     ]
    }
   ],
   "source": [
    "try:   \n",
    "    numero1=float(input(\"ingrese un numero: \"))\n",
    "    numero2=float(input(\"ingrese un numero: \"))\n",
    "except:\n",
    "    print(\"por favor ingrese bien los numeros\")\n",
    "    \n",
    "# diseñar un codigo que diga cual es el mayor de los 2\n",
    "\n",
    "if numero1>numero2:\n",
    "    print(\"el mayor es: \", numero1)\n",
    "elif numero2>numero1:\n",
    "    print(\"el mayor es: \", numero2)\n",
    "else:\n",
    "    print(\"los numeros son iguales\")"
   ]
  },
  {
   "cell_type": "code",
   "execution_count": null,
   "id": "f6613bf9",
   "metadata": {},
   "outputs": [],
   "source": []
  },
  {
   "cell_type": "code",
   "execution_count": null,
   "id": "157e4a7a",
   "metadata": {},
   "outputs": [],
   "source": []
  }
 ],
 "metadata": {
  "kernelspec": {
   "display_name": "Python 3 (ipykernel)",
   "language": "python",
   "name": "python3"
  },
  "language_info": {
   "codemirror_mode": {
    "name": "ipython",
    "version": 3
   },
   "file_extension": ".py",
   "mimetype": "text/x-python",
   "name": "python",
   "nbconvert_exporter": "python",
   "pygments_lexer": "ipython3",
   "version": "3.9.12"
  }
 },
 "nbformat": 4,
 "nbformat_minor": 5
}
