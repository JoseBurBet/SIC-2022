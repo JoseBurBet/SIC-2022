{
 "cells": [
  {
   "cell_type": "code",
   "execution_count": 1,
   "id": "16a94cf6",
   "metadata": {},
   "outputs": [
    {
     "name": "stdout",
     "output_type": "stream",
     "text": [
      "ingrese el usuario \n",
      "jose\n",
      "ingrese una contraseña \n",
      "python\n",
      "acceso concedido\n"
     ]
    }
   ],
   "source": [
    "#ejemplo 1 acceso a la cuenta\n",
    "\n",
    "#login\n",
    "\n",
    "#_____Memoria\n",
    "user=\"jose\"\n",
    "password=\"python\"\n",
    "#____________\n",
    "\n",
    "us=input(\"ingrese el usuario \\n\")\n",
    "pas=input(\"ingrese una contraseña \\n\")\n",
    "\n",
    "#operador logico and (y),  solo se ejecuta si se cumplen las dos condiciones\n",
    "\n",
    "if us==user and pas==password:\n",
    "    print(\"acceso concedido\")\n",
    "elif us==user and pas!=password:\n",
    "    print(\"la contraseña es incorrecta\")\n",
    "elif us!=user and pas==password:\n",
    "    print(\"el usuario es incorrecto\")\n",
    "elif us!=user and pas!=password: # es lo mismo else:\n",
    "    print(\"datos erroneos\")\n"
   ]
  },
  {
   "cell_type": "markdown",
   "id": "5b1a9d7a",
   "metadata": {},
   "source": [
    "#  Bucles o ciclos\n",
    "## algo que se repite\n",
    "## puede ser\n",
    "\n",
    "- se repite infinito\n",
    "- se repite un numero limitado ded veces\n",
    "\n",
    "# Bucle infinito\n",
    "\n",
    "while -> mientras -> mientras se cumpla la condicion el bucle se repite\n",
    "\n",
    "usualmente se utilizan como enable  -> habilitador\n",
    "\n",
    "1-> verdadero -> True -> si\n",
    "0 -> falso   -> False -> no\n",
    "\n",
    "- ejm 1 encendido=1\n",
    "while encendido==1:\n",
    "\n",
    "- ejm2 \n",
    "while True #  bucle infinito, siempre va a estar activo"
   ]
  },
  {
   "cell_type": "code",
   "execution_count": null,
   "id": "c019d29f",
   "metadata": {},
   "outputs": [],
   "source": [
    "# contador infinito\n",
    "contador=0\n",
    "\n",
    "while True:\n",
    "    #contador = contador+1\n",
    "    contador+=1\n",
    "    print(contador)"
   ]
  },
  {
   "cell_type": "code",
   "execution_count": 3,
   "id": "e4d3f633",
   "metadata": {},
   "outputs": [
    {
     "name": "stdout",
     "output_type": "stream",
     "text": [
      "0\n",
      "1\n",
      "2\n",
      "3\n",
      "4\n",
      "5\n",
      "6\n",
      "7\n",
      "8\n",
      "9\n",
      "10\n",
      "11\n",
      "12\n",
      "13\n",
      "14\n",
      "15\n",
      "16\n",
      "17\n",
      "18\n",
      "19\n"
     ]
    }
   ],
   "source": [
    "#contador finito o limitado\n",
    "\n",
    "contador=0\n",
    "\n",
    "while contador<20:\n",
    "    #contador = contador+1\n",
    "    \n",
    "    print(contador)\n",
    "    contador+=1\n"
   ]
  },
  {
   "cell_type": "code",
   "execution_count": 4,
   "id": "d3351625",
   "metadata": {},
   "outputs": [
    {
     "name": "stdout",
     "output_type": "stream",
     "text": [
      "1\n",
      "2\n",
      "3\n",
      "4\n",
      "5\n",
      "6\n",
      "7\n",
      "8\n",
      "9\n",
      "10\n",
      "11\n",
      "12\n",
      "13\n",
      "14\n",
      "15\n",
      "16\n",
      "17\n",
      "18\n",
      "19\n",
      "20\n"
     ]
    }
   ],
   "source": [
    "#contador finito o limitado\n",
    "\n",
    "contador=0\n",
    "\n",
    "while contador<20:\n",
    "    #contador = contador+1\n",
    "    contador+=1   ## OJO!!! EL ORDEN IMPORTA\n",
    "    print(contador)\n",
    "    "
   ]
  },
  {
   "cell_type": "markdown",
   "id": "b9de0bfd",
   "metadata": {},
   "source": [
    "#  for -> para -> para contador condicion\n",
    "##                            condicion(inicio, fin,paso)"
   ]
  },
  {
   "cell_type": "code",
   "execution_count": 6,
   "id": "6517cfb8",
   "metadata": {},
   "outputs": [
    {
     "name": "stdout",
     "output_type": "stream",
     "text": [
      "[1, 2, 3, 4, 5, 6, 7, 8, 9, 10, 11, 12, 13, 14, 15, 16, 17, 18, 19, 20]\n",
      "[7, 13, 19, 25, 31, 37, 43, 49]\n"
     ]
    }
   ],
   "source": [
    "# funcion range(inicio,fin,paso) # el fin  no incluye el ultimo numero\n",
    "\n",
    "print(list(range(1,21,1)))\n",
    "print(list(range(7,53,6)))"
   ]
  },
  {
   "cell_type": "code",
   "execution_count": 7,
   "id": "8135477b",
   "metadata": {},
   "outputs": [
    {
     "name": "stdout",
     "output_type": "stream",
     "text": [
      "1\n",
      "2\n",
      "3\n",
      "4\n",
      "5\n",
      "6\n",
      "7\n",
      "8\n",
      "9\n",
      "10\n",
      "11\n",
      "12\n",
      "13\n",
      "14\n",
      "15\n",
      "16\n",
      "17\n",
      "18\n",
      "19\n",
      "20\n"
     ]
    }
   ],
   "source": [
    "for contador in range(1,21,1):\n",
    "    print(contador)"
   ]
  },
  {
   "cell_type": "code",
   "execution_count": 13,
   "id": "65d9e485",
   "metadata": {},
   "outputs": [
    {
     "name": "stdout",
     "output_type": "stream",
     "text": [
      "ingrese el usuario \n",
      "jose\n",
      "ingrese una contraseña \n",
      "wert\n",
      "contraseña incorrecta\n",
      "te quedan 2 intentos\n",
      "ingrese una contraseña \n",
      "wertyu\n",
      "contraseña incorrecta\n",
      "te quedan 1 intentos\n",
      "ingrese una contraseña \n",
      "python\n",
      "acceso concedido\n",
      "fin del programa\n"
     ]
    }
   ],
   "source": [
    "# ejemplo de control de acceso completo para un banco \n",
    "\n",
    "# ___Memoria\n",
    "user=\"jose\"\n",
    "password=\"python\"\n",
    "#___________\n",
    "\n",
    "#Set up\n",
    "intentos=3\n",
    "us=\"\"\n",
    "pas=\"\"\n",
    "\n",
    "while us!=user:\n",
    "    us=input(\"ingrese el usuario \\n\")\n",
    "    \n",
    "    if us==user:\n",
    "        \n",
    "        for contador in range (0,intentos,1):\n",
    "            pas=input(\"ingrese una contraseña \\n\")\n",
    "            \n",
    "            if pas!=password:\n",
    "                print(\"contraseña incorrecta\")\n",
    "                print(\"te quedan {} intentos\".format(intentos-1-contador))\n",
    "            \n",
    "            else:\n",
    "                print(\"acceso concedido\")\n",
    "                break # romper -> interrumpe el ultimo bucle \n",
    "\n",
    "        print(\"fin del programa\")\n",
    "        \n"
   ]
  },
  {
   "cell_type": "code",
   "execution_count": 19,
   "id": "16ab3505",
   "metadata": {},
   "outputs": [
    {
     "name": "stdout",
     "output_type": "stream",
     "text": [
      "hola soy el profe jose y nuestro tutor es luis\n",
      "hola soy el profe jose y nuestro tutor es luis\n",
      "hola soy el profe jose y nuestro tutor es luis\n",
      "hola soy el profe jose y nuestro tutor es luis\n"
     ]
    }
   ],
   "source": [
    "# maneras de imprimir\n",
    "\n",
    "texto1=\"jose\"\n",
    "texto2=\"luis\"\n",
    "\n",
    "\n",
    "print(\"hola soy el profe\",texto1,\"y nuestro tutor es\",texto2)\n",
    "print(\"hola soy el profe \"+texto1+\" y nuestro tutor es \"+texto2)\n",
    "print(\"hola soy el profe {} y nuestro tutor es {}\".format(texto1,texto2))\n",
    "print(f\"hola soy el profe {texto1} y nuestro tutor es {texto2}\")\n"
   ]
  },
  {
   "cell_type": "markdown",
   "id": "37b3c506",
   "metadata": {},
   "source": [
    "# Manejo de datos"
   ]
  },
  {
   "cell_type": "code",
   "execution_count": 21,
   "id": "def94f2d",
   "metadata": {},
   "outputs": [
    {
     "name": "stdout",
     "output_type": "stream",
     "text": [
      "['carne', 'leche', 'pan', 'arroz', 'huevos']\n",
      "arroz\n"
     ]
    }
   ],
   "source": [
    "#listas \n",
    "lista_mercado=[\"carne\",\"leche\",\"pan\",\"arroz\",\"huevos\"]\n",
    "print(lista_mercado)\n",
    "print(lista_mercado[3])"
   ]
  },
  {
   "cell_type": "code",
   "execution_count": 24,
   "id": "6927bef2",
   "metadata": {},
   "outputs": [
    {
     "name": "stdout",
     "output_type": "stream",
     "text": [
      "{'profe': 'jose', 'tutor': 'luis', 'est1': 'edward', 'est2': 'franklin', 'est3': 'itzis', 'est4': 'liliana'}\n",
      "luis\n",
      "jose\n"
     ]
    }
   ],
   "source": [
    "#Diccionarios\n",
    "#dic={\"key\":\"value\",\"key\":\"value\",\"key\":\"value\"}\n",
    "\n",
    "clase={\"profe\":\"jose\",\n",
    "       \"tutor\":\"luis\",\n",
    "       \"est1\":\"edward\",\n",
    "       \"est2\":\"franklin\",\n",
    "       \"est3\":\"itzis\",\n",
    "       \"est4\":\"liliana\"\n",
    "      }\n",
    "\n",
    "print(clase)\n",
    "print(clase[\"tutor\"])\n",
    "print(clase[\"profe\"])"
   ]
  }
 ],
 "metadata": {
  "kernelspec": {
   "display_name": "Python 3 (ipykernel)",
   "language": "python",
   "name": "python3"
  },
  "language_info": {
   "codemirror_mode": {
    "name": "ipython",
    "version": 3
   },
   "file_extension": ".py",
   "mimetype": "text/x-python",
   "name": "python",
   "nbconvert_exporter": "python",
   "pygments_lexer": "ipython3",
   "version": "3.9.12"
  }
 },
 "nbformat": 4,
 "nbformat_minor": 5
}
