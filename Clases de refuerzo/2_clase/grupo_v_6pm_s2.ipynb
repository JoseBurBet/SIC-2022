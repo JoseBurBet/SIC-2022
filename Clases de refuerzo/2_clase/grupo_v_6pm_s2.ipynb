{
 "cells": [
  {
   "cell_type": "code",
   "execution_count": 1,
   "id": "45116baa",
   "metadata": {},
   "outputs": [
    {
     "name": "stdout",
     "output_type": "stream",
     "text": [
      "ingrese el usuario: \n",
      "jose\n",
      "ingrese la contraseña: \n",
      "python\n",
      "Acceso concedido\n"
     ]
    }
   ],
   "source": [
    "#ejemplo1 acceso de una cuenta\n",
    "\n",
    "\n",
    "#login\n",
    "#____memoria___\n",
    "\n",
    "user=\"jose\"\n",
    "password=\"python\"\n",
    "#______________\n",
    "\n",
    "\n",
    "us=input(\"ingrese el usuario: \\n\")\n",
    "pas=input(\"ingrese la contraseña: \\n\")\n",
    "\n",
    "# operador logico and (y) ,solo se cumple cuando se cumplen las 2 condiciones\n",
    "\n",
    "if us==user and pas==password:\n",
    "    print(\"Acceso concedido\")\n",
    "elif us==user and pas!=password:\n",
    "    print(\"la contraseña es incorrecta\")\n",
    "elif us!=user and pas==password:\n",
    "    print(\"el usuario es incorrecto\")\n",
    "elif us!=user and pas!=password: # else: hacen lo mismo\n",
    "    print(\"datos incorrectos\")"
   ]
  },
  {
   "cell_type": "markdown",
   "id": "a7a57e2e",
   "metadata": {},
   "source": [
    "#  Bucles o ciclos\n",
    "## algo que se repite\n",
    "## puede ser:\n",
    "- se repite infinito\n",
    "- se repite un numero limitado de veces"
   ]
  },
  {
   "cell_type": "markdown",
   "id": "9b6821c4",
   "metadata": {},
   "source": [
    "# Bucle infinito \n"
   ]
  },
  {
   "cell_type": "markdown",
   "id": "b6113f24",
   "metadata": {},
   "source": [
    "while -> mientras : mientras la condicion sea verdad el bucle se repite infinitamente\n",
    "\n",
    "usualmente se utiliza como habilitador -> Enable\n",
    "\n",
    "while condicion:\n",
    "\n",
    "- ejm 1\n",
    "encendido = 1\n",
    "\n",
    "while encendido==1:\n",
    "    \n",
    "- ejm 2\n",
    "\n",
    "while True :\n",
    "    #siempre va a estar activo\n"
   ]
  },
  {
   "cell_type": "code",
   "execution_count": null,
   "id": "815d8fcb",
   "metadata": {},
   "outputs": [],
   "source": [
    "#contador infinito\n",
    "\n",
    "contador=0\n",
    "\n",
    "while True:\n",
    "    #contador = contador+1\n",
    "    contador+=1 # dos maneras de escribirlo pero que hacen lo mismo\n",
    "    print(contador)"
   ]
  },
  {
   "cell_type": "code",
   "execution_count": 2,
   "id": "de8596cf",
   "metadata": {
    "scrolled": true
   },
   "outputs": [
    {
     "name": "stdout",
     "output_type": "stream",
     "text": [
      "1\n",
      "2\n",
      "3\n",
      "4\n",
      "5\n",
      "6\n",
      "7\n",
      "8\n",
      "9\n",
      "10\n",
      "11\n",
      "12\n",
      "13\n",
      "14\n",
      "15\n",
      "16\n",
      "17\n",
      "18\n",
      "19\n",
      "20\n"
     ]
    }
   ],
   "source": [
    "#contador limitado o finito\n",
    "\n",
    "contador=0\n",
    "\n",
    "while contador<20:\n",
    "    #contador = contador+1\n",
    "    contador+=1 # dos maneras de escribirlo pero que hacen lo mismo\n",
    "    print(contador)"
   ]
  },
  {
   "cell_type": "markdown",
   "id": "99f943c6",
   "metadata": {},
   "source": [
    " for -> para -> para  condicion(caracteristicas)\n",
    "                                caracteristicas (inicio,fin, paso )"
   ]
  },
  {
   "cell_type": "code",
   "execution_count": 5,
   "id": "5b9e3415",
   "metadata": {},
   "outputs": [
    {
     "name": "stdout",
     "output_type": "stream",
     "text": [
      "[1, 2, 3, 4, 5, 6, 7, 8, 9, 10, 11, 12, 13, 14, 15, 16, 17, 18, 19, 20]\n",
      "[5, 10, 15, 20, 25, 30, 35, 40, 45, 50]\n"
     ]
    }
   ],
   "source": [
    "#funcion range(inicio, fin,paso) # no incluye el fin\n",
    "\n",
    "print(list(range(1,21,1)))\n",
    "print(list(range(5,51,5)))"
   ]
  },
  {
   "cell_type": "code",
   "execution_count": 6,
   "id": "16af2994",
   "metadata": {},
   "outputs": [
    {
     "name": "stdout",
     "output_type": "stream",
     "text": [
      "1\n",
      "2\n",
      "3\n",
      "4\n",
      "5\n",
      "6\n",
      "7\n",
      "8\n",
      "9\n",
      "10\n",
      "11\n",
      "12\n",
      "13\n",
      "14\n",
      "15\n",
      "16\n",
      "17\n",
      "18\n",
      "19\n",
      "20\n"
     ]
    }
   ],
   "source": [
    "for contador in range(1,21,1):\n",
    "    print(contador)"
   ]
  },
  {
   "cell_type": "code",
   "execution_count": 12,
   "id": "482dbc6e",
   "metadata": {},
   "outputs": [
    {
     "name": "stdout",
     "output_type": "stream",
     "text": [
      "ingrese el usuario: \n",
      "jose\n",
      "ingrese la contraseña: \n",
      "wert\n",
      "contraseña incorrecta\n",
      "te quedan 2 intentos\n",
      "ingrese la contraseña: \n",
      "werty\n",
      "contraseña incorrecta\n",
      "te quedan 1 intentos\n",
      "ingrese la contraseña: \n",
      "34567\n",
      "contraseña incorrecta\n",
      "te quedan 0 intentos\n",
      "\n",
      " fin del programa\n"
     ]
    }
   ],
   "source": [
    "# ejemplo completo de un control de acceso para un banco\n",
    "\n",
    "#login\n",
    "\n",
    "#_____memoria______\n",
    "\n",
    "user=\"jose\"\n",
    "password=\"python\"\n",
    "\n",
    "us=\"\"\n",
    "pas=\"\"\n",
    "intentos=3\n",
    "#_________________\n",
    "\n",
    "while us!=user:\n",
    "    us=input(\"ingrese el usuario: \\n\")\n",
    "    \n",
    "    if us==user:\n",
    "        \n",
    "        for contador in range(0,intentos,1):\n",
    "            pas=input(\"ingrese la contraseña: \\n\")\n",
    "            \n",
    "            if pas!=password:\n",
    "                print(\"contraseña incorrecta\")\n",
    "                print(\"te quedan {} intentos\".format(intentos-contador-1))\n",
    "                \n",
    "            else:\n",
    "                print(\"acceso concedido\")\n",
    "                break # rompe el bucle \n",
    "        \n",
    "        print(\"\\n fin del programa\")\n",
    "    \n"
   ]
  },
  {
   "cell_type": "markdown",
   "id": "ccd0f630",
   "metadata": {},
   "source": [
    "# Manejo de datos"
   ]
  },
  {
   "cell_type": "code",
   "execution_count": 14,
   "id": "f4540d63",
   "metadata": {},
   "outputs": [
    {
     "name": "stdout",
     "output_type": "stream",
     "text": [
      "['carne', 'leche', 'pan', 'papas']\n",
      "pan\n"
     ]
    }
   ],
   "source": [
    "# listas\n",
    "\n",
    "lista_ejemplo=[\"carne\",\"leche\",\"pan\",\"papas\"]\n",
    "print(lista_ejemplo)\n",
    "print(lista_ejemplo[2])\n"
   ]
  },
  {
   "cell_type": "code",
   "execution_count": 16,
   "id": "cd5ec055",
   "metadata": {},
   "outputs": [
    {
     "name": "stdout",
     "output_type": "stream",
     "text": [
      "{'profe': 'jose', 'estudiante_1': 'luis', 'estudiante_2': 'Allison', 'estudiante_3': 'gabriel'}\n",
      "Allison\n"
     ]
    }
   ],
   "source": [
    "# diccionario\n",
    "\n",
    "#dic={\"key\":\"valor\"}\n",
    "\n",
    "clase={\"profe\":\"jose\",\n",
    "      \"estudiante_1\":\"luis\",\n",
    "       \"estudiante_2\":\"Allison\",\n",
    "       \"estudiante_3\":\"gabriel\"      \n",
    "      }\n",
    "\n",
    "print(clase)\n",
    "print(clase[\"estudiante_2\"])\n"
   ]
  }
 ],
 "metadata": {
  "kernelspec": {
   "display_name": "Python 3 (ipykernel)",
   "language": "python",
   "name": "python3"
  },
  "language_info": {
   "codemirror_mode": {
    "name": "ipython",
    "version": 3
   },
   "file_extension": ".py",
   "mimetype": "text/x-python",
   "name": "python",
   "nbconvert_exporter": "python",
   "pygments_lexer": "ipython3",
   "version": "3.9.12"
  }
 },
 "nbformat": 4,
 "nbformat_minor": 5
}
