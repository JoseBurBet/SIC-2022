{
 "cells": [
  {
   "cell_type": "code",
   "execution_count": 7,
   "id": "ef5ff652",
   "metadata": {},
   "outputs": [
    {
     "name": "stdout",
     "output_type": "stream",
     "text": [
      "['cancion1', 'cancion2', 'cancion3', 'cancion4', 'cancion5', 'cancion6']\n",
      "________________________________\n",
      "['cancion1', 'cancion2', 'cancion3', 'cancion4', 'cancion5', 'cancion6', 'ejm_append']\n",
      "________________________________\n",
      "['cancion1', 'cancion2', 'cancion3', 'cancion4', 'cancion5', 'cancion6', 'ejm_append', 'cancion7', 'cancion8']\n",
      "_________________________\n",
      "['cancion1', 'cancion2', 'cancion3', 'cancion4', 'cancion5', 'cancion6', 'ejm_append', 'cancion7', 'cancion8', 'c', 'a', 'n', 'c', 'i', 'o', 'n', '8']\n"
     ]
    }
   ],
   "source": [
    "#añadir datos\n",
    "rock=[\"cancion1\",\"cancion2\",\"cancion3\"]\n",
    "bachata=[\"cancion4\",\"cancion5\",\"cancion6\"]\n",
    "jazz=[\"cancion7\",\"cancion8\"]\n",
    "\n",
    "playlist=rock+bachata\n",
    "\n",
    "print(playlist)\n",
    "print(\"________________________________\")\n",
    "\n",
    "playlist.append(\"ejm_append\") #append agrega un nuevo item al final de la lista / \n",
    "                            #si la lista no exite, append la crea\n",
    "print(playlist)\n",
    "print(\"________________________________\")\n",
    "\n",
    "#playlist.append(jazz) #pasa de ser lista a ser matriz porque append agrega la lista jazz como un lista dentro de \n",
    "#otra lista\n",
    "#print(playlist)\n",
    "#print(\"________________________________\")\n",
    "\n",
    "playlist.extend(jazz) # extend me agrega los elementos uno por uno\n",
    "print(playlist)\n",
    "print(\"_________________________\")\n",
    "\n",
    "playlist.extend(\"cancion8\")# cuando agrego una sola cosa con extend, la agrega item por item \n",
    "print(playlist)\n",
    "\n",
    "\n",
    "\n"
   ]
  },
  {
   "cell_type": "code",
   "execution_count": 20,
   "id": "bce2beac",
   "metadata": {
    "scrolled": true
   },
   "outputs": [
    {
     "name": "stdout",
     "output_type": "stream",
     "text": [
      "cancion2\n",
      "cancion3\n",
      "['cancion1', 'cancion3', 'cancion4', 'cancion5']\n",
      "cancion5\n",
      "['cancion1', 'cancion3', 'cancion4']\n",
      "_________________________\n",
      "cancion1\n",
      "['cancion3', 'cancion4']\n",
      "_________________________\n",
      "['cancion3']\n",
      "_________________________\n",
      "['cancion3', 8, 5, 6, 8, 7, 4, 8, 6, 8, 5, 6, 8, 7, 4, 8, 6, 8, 5, 6, 8, 7, 4, 8, 6]\n",
      "_________________________\n",
      "['cancion3', 5, 6, 8, 7, 4, 8, 6, 8, 5, 6, 8, 7, 4, 8, 6, 8, 5, 6, 8, 7, 4, 8, 6]\n",
      "_________________________\n"
     ]
    }
   ],
   "source": [
    "#Eliminar datos de la lista\n",
    "rock=[\"cancion1\",\"cancion2\",\"cancion3\",\"cancion4\",\"cancion5\"]\n",
    "print(rock[1])\n",
    "del rock[1] # del -> delete -> elimina segun el index\n",
    "print(rock[1])\n",
    "print(rock)\n",
    "# .pop()  -> pop, revisa cual es el ultimo valor, lo retorna y lo elimina\n",
    "ultimo_item=rock.pop() # ctrl-z toma el ultimo elemento\n",
    "print(ultimo_item)\n",
    "print(rock)\n",
    "print(\"_________________________\")\n",
    "ultimo_item=rock.pop(0) # el argumento nos dice a que posicion hacer el pop\n",
    "print(ultimo_item)\n",
    "print(rock)\n",
    "print(\"_________________________\")\n",
    "rock.remove(\"cancion4\") # Elimina haciendo una busqueda por nombre o elemento\n",
    "print(rock)\n",
    "print(\"_________________________\")\n",
    "aux_list=[8,5,6,8,7,4,8,6]\n",
    "rock.extend(aux_list*3) # podemos utilizar mutipplicadores para repetir un proceso varias veces\n",
    "print(rock)\n",
    "print(\"_________________________\")\n",
    "rock.remove(8) # si existen elementos repetidos solo borra el primero\n",
    "print(rock)\n",
    "print(\"_________________________\")"
   ]
  },
  {
   "cell_type": "code",
   "execution_count": 22,
   "id": "5d323c61",
   "metadata": {},
   "outputs": [
    {
     "name": "stdout",
     "output_type": "stream",
     "text": [
      "[0, 1, 2, 3, 4, 5, 6, 7, 8, 9]\n",
      "[5, 6, 8, 7]\n",
      "_________________________\n",
      "[8, 8, 8]\n",
      "_________________________\n"
     ]
    }
   ],
   "source": [
    "# slicing -> particionar,es recortar una lista en rangos definidos\n",
    "print(list(range(0,10,1))) # range(inicio,final,paso)\n",
    "\n",
    "\n",
    "aux_list=[8,5,6,8,7,4,8,6]\n",
    "lst_recortada=aux_list[1:5]# [inicio:final:paso]\n",
    "print(lst_recortada)\n",
    "print(\"_________________________\")\n",
    "\n",
    "lst_recortada=aux_list[::3]# [inicio:final:paso] # nomenclatura diferente\n",
    "print(lst_recortada)\n",
    "print(\"_________________________\")\n"
   ]
  },
  {
   "cell_type": "code",
   "execution_count": 31,
   "id": "8019b659",
   "metadata": {},
   "outputs": [
    {
     "name": "stdout",
     "output_type": "stream",
     "text": [
      "True False\n",
      "[8, 5, 6, 8, 7, 4, 8, 6]\n",
      "[5, 6, 8, 7, 4, 8, 6]\n",
      "[5, 6, 7, 4, 8, 6]\n",
      "[5, 6, 7, 4, 6]\n"
     ]
    }
   ],
   "source": [
    "# saber si la lista tiene un elemento\n",
    "\n",
    "# for i in lstMercado:\n",
    "aux_list=[8,5,6,8,7,4,8,6]\n",
    "\n",
    "pregunta1= 8 in aux_list #tengo en stock / bodega / existencias del producto\n",
    "pregunta2= 1 in aux_list\n",
    "\n",
    "print(pregunta1,pregunta2)\n",
    "\n",
    "print(aux_list)\n",
    "\n",
    "while (pregunta1 == True):\n",
    "    pregunta1= 8 in aux_list\n",
    "    if (pregunta1 == True):\n",
    "        aux_list.remove(8)\n",
    "        print(aux_list)\n"
   ]
  },
  {
   "cell_type": "code",
   "execution_count": 32,
   "id": "bf34d3c3",
   "metadata": {},
   "outputs": [
    {
     "name": "stdout",
     "output_type": "stream",
     "text": [
      "['jose', 28, 0, 170.0, 234, 'luis', 25, 0, 175.0, 435, 'jorge', 21, 1, 181.0, 123, 'laurent', 17, 1, 160.0, 789]\n",
      "4\n",
      "la edad promedio es : 22\n"
     ]
    }
   ],
   "source": [
    "person1=[\"jose\",28,0,170.00,234]\n",
    "person2=[\"luis\",25,0,175.00,435]\n",
    "person3=[\"jorge\",21,1,181.00,123]\n",
    "person4=[\"laurent\",17,1,160.00,789]\n",
    "asistentes=person1+person2+person3+person4\n",
    "print(asistentes)\n",
    "n_person=(len(asistentes)//5) #// division exacta -> int\n",
    "age_average=0\n",
    "age_sum=0\n",
    "for age in asistentes[1::5]:\n",
    "    age_sum+=age\n",
    "age_average= age_sum // n_person \n",
    "print(n_person) \n",
    "print(\"la edad promedio es : {}\".format(age_average))"
   ]
  },
  {
   "cell_type": "code",
   "execution_count": 48,
   "id": "1ecc1f60",
   "metadata": {},
   "outputs": [
    {
     "name": "stdout",
     "output_type": "stream",
     "text": [
      "9\n",
      "9\n",
      "1\n",
      "45\n",
      "4\n",
      "ds\n",
      "da\n",
      "['da', 'dc', 'dr', 'ds']\n"
     ]
    }
   ],
   "source": [
    "#Otras funciones utiles\n",
    "\n",
    "a_list=[1,2,3,4,5,6,7,8,9]\n",
    "print(len(a_list)) #me retorna la longitud -> la cantidad de elementos\n",
    "print(max(a_list)) # retorna el maximo\n",
    "print(min(a_list)) # retorna el min\n",
    "print(sum(a_list)) # retorna la suma\n",
    "\n",
    "b_list=[\"dr\",\"ds\",\"dc\",\"da\"] #toma los valores del codigo ASCII\n",
    "# compara los valores de izq a derecha\n",
    "print(len(b_list)) #me retorna la longitud -> la cantidad de elementos\n",
    "print(max(b_list)) # retorna el maximo\n",
    "print(min(b_list)) # retorna el min\n",
    "\n",
    "b_list.sort() # sort ordena de menor a mayor\n",
    "print(b_list)\n",
    "#100-d\n",
    "#97-a\n",
    "#114-r\n"
   ]
  },
  {
   "cell_type": "code",
   "execution_count": 56,
   "id": "5d8adc69",
   "metadata": {},
   "outputs": [
    {
     "name": "stdout",
     "output_type": "stream",
     "text": [
      "5\n",
      "2\n",
      "[1, 2, 3, 1, 'test', 1, 1, 2, 3, 1, 3]\n",
      "[]\n"
     ]
    }
   ],
   "source": [
    "#mas funciones utiles\n",
    "l=[1,2,3,1,1,1,2,3,1,3]\n",
    "print(l.count(1)) # count cuenta cuantas veces esta el elemento\n",
    "print(l.count(2))\n",
    "l.insert(4,\"test\") # inserta en insert(coordena,valor)\n",
    "print(l)\n",
    "l.clear() # borra todo\n",
    "print(l)"
   ]
  },
  {
   "cell_type": "code",
   "execution_count": 40,
   "id": "b24fcca1",
   "metadata": {},
   "outputs": [
    {
     "name": "stdout",
     "output_type": "stream",
     "text": [
      "[1, 2, 3, 4, 5, 6, 7, 8, 9]\n",
      "[9, 8, 7, 6, 5, 4, 3, 2, 1]\n",
      "_______________________\n",
      "['a', 'c', 'd', 'e', 'j']\n",
      "['j', 'e', 'd', 'c', 'a']\n"
     ]
    }
   ],
   "source": [
    "# sort -> ordenar\n",
    "a_list=[5,6,2,8,1,3,4,9,7] \n",
    "b_list=[\"c\",\"j\",\"a\",\"d\",\"e\"]\n",
    "a_list.sort() # ascendente\n",
    "print(a_list)\n",
    "a_list.sort(reverse = True) #descendente\n",
    "print(a_list)\n",
    "print(\"_______________________\")\n",
    "b_list.sort() # ascendente\n",
    "print(b_list)\n",
    "b_list.sort(reverse = True) #descendente\n",
    "print(b_list)"
   ]
  },
  {
   "cell_type": "code",
   "execution_count": 1,
   "id": "90baac17",
   "metadata": {},
   "outputs": [
    {
     "name": "stdout",
     "output_type": "stream",
     "text": [
      "[1, 2, 3, 4, 5, 6]\n",
      "(1, 2, 3, 4, 5, 6)\n"
     ]
    }
   ],
   "source": [
    "# recordatorio\n",
    "tup=(5,3,2,6,1,4)\n",
    "#si yo tengo una tupla, y la queiro editar OBLIGATORIAMENTE debo convertirla \n",
    "aux_list=list(tup)\n",
    "aux_list.sort()\n",
    "print(aux_list)\n",
    "tup2=tuple(aux_list)\n",
    "print(tup2)\n",
    "\n"
   ]
  },
  {
   "cell_type": "code",
   "execution_count": 53,
   "id": "b1d4f7fc",
   "metadata": {},
   "outputs": [
    {
     "name": "stdout",
     "output_type": "stream",
     "text": [
      "jose\n"
     ]
    },
    {
     "data": {
      "text/plain": [
       "dict_items([('nombre', 'jose'), ('edad', '28'), ('codigo', '3')])"
      ]
     },
     "execution_count": 53,
     "metadata": {},
     "output_type": "execute_result"
    }
   ],
   "source": [
    "#Diccionarios\n",
    "profe1={\"nombre\":\"jose\",\"edad\":\"28\",\"codigo\":\"3\"}\n",
    "print(profe1[\"nombre\"])\n",
    "np1=profe1.get(\"nombre\") #obtiene el valor correspondiente a la clave\n",
    "profe1.items() #obtiene todo el diccionario"
   ]
  }
 ],
 "metadata": {
  "kernelspec": {
   "display_name": "Python 3 (ipykernel)",
   "language": "python",
   "name": "python3"
  },
  "language_info": {
   "codemirror_mode": {
    "name": "ipython",
    "version": 3
   },
   "file_extension": ".py",
   "mimetype": "text/x-python",
   "name": "python",
   "nbconvert_exporter": "python",
   "pygments_lexer": "ipython3",
   "version": "3.9.12"
  }
 },
 "nbformat": 4,
 "nbformat_minor": 5
}
