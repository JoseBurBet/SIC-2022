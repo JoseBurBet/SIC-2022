{
 "cells": [
  {
   "cell_type": "code",
   "execution_count": 3,
   "id": "7d4a72e5",
   "metadata": {},
   "outputs": [
    {
     "name": "stdout",
     "output_type": "stream",
     "text": [
      "['cancion1', 'cancion2', 'cancion3', 'cancion4', 'cancion5', 'cancion6']\n",
      "_________________________\n",
      "['cancion1', 'cancion2', 'cancion3', 'cancion4', 'cancion5', 'cancion6', 'ejem_append']\n",
      "_________________________\n",
      "['cancion1', 'cancion2', 'cancion3', 'cancion4', 'cancion5', 'cancion6', 'ejem_append', 'cancion7', 'cancion8']\n",
      "_________________________\n",
      "['cancion1', 'cancion2', 'cancion3', 'cancion4', 'cancion5', 'cancion6', 'ejem_append', 'cancion7', 'cancion8', 'c', 'a', 'n', 'c', 'i', 'o', 'n', '8']\n"
     ]
    }
   ],
   "source": [
    "rock=[\"cancion1\",\"cancion2\",\"cancion3\"]\n",
    "bachata=[\"cancion4\",\"cancion5\",\"cancion6\"]\n",
    "pop=[\"cancion7\",\"cancion8\"]\n",
    "\n",
    "playlist=rock+bachata\n",
    "print(playlist)\n",
    "print(\"_________________________\")\n",
    "playlist.append(\"ejem_append\") #append agrega un nuevo item al final de la lista, agrega el elemento completo\n",
    "#playlist.append(pop)\n",
    "print(playlist)\n",
    "print(\"_________________________\")\n",
    "\n",
    "playlist.extend(pop)\n",
    "print(playlist)\n",
    "print(\"_________________________\")\n",
    "\n",
    "playlist.extend(\"cancion8\")# cuando agrego una sola cosa con extend, la agrega separando sus elementos\n",
    "print(playlist)\n",
    "\n",
    "#Resumen:\n",
    "#si quiero agregar un solo elemento a la lista lo agrego con append\n",
    "#si quiero agregar otra lista a mi lista lo hago con extend (porque asi me une varios elementos)"
   ]
  },
  {
   "cell_type": "code",
   "execution_count": 4,
   "id": "7f470f1e",
   "metadata": {},
   "outputs": [
    {
     "name": "stdout",
     "output_type": "stream",
     "text": [
      "['cancion1', 'cancion3']\n"
     ]
    }
   ],
   "source": [
    "rock=[\"cancion1\",\"cancion2\",\"cancion3\"]\n",
    "del rock[1]#delete-> borrar desde la coordenada \n",
    "print(rock)"
   ]
  },
  {
   "cell_type": "code",
   "execution_count": 6,
   "id": "14246c3d",
   "metadata": {},
   "outputs": [
    {
     "name": "stdout",
     "output_type": "stream",
     "text": [
      "cancion3\n",
      "['cancion1', 'cancion2']\n"
     ]
    }
   ],
   "source": [
    "rock=[\"cancion1\",\"cancion2\",\"cancion3\"]\n",
    "#.pop() -> toma el ultimo valor, lo elimina y lo retorna\n",
    "ultima_cancion=rock.pop() #deshacer -> ctrl+z -> para listas\n",
    "print(ultima_cancion)\n",
    "print(rock)"
   ]
  },
  {
   "cell_type": "code",
   "execution_count": 11,
   "id": "d80ebeb1",
   "metadata": {},
   "outputs": [
    {
     "name": "stdout",
     "output_type": "stream",
     "text": [
      "['cancion1', 'cancion3', 'cancion2']\n"
     ]
    }
   ],
   "source": [
    "rock=[\"cancion1\",\"cancion2\",\"cancion3\", \"cancion2\"]\n",
    "#.remove() -> remover un elemento especifico,OJO! solo elimina el primero de varios items repetidos\n",
    "rock.remove(\"cancion2\") #\n",
    "print(rock)"
   ]
  },
  {
   "cell_type": "code",
   "execution_count": 18,
   "id": "122e5ea0",
   "metadata": {},
   "outputs": [
    {
     "name": "stdout",
     "output_type": "stream",
     "text": [
      "[0, 1, 2, 3, 4, 5, 6, 7, 8, 9]\n",
      "[2, 3, 4, 5]\n",
      "[1, 6]\n"
     ]
    }
   ],
   "source": [
    "#slicing -> es recortar una lista en rangos definidos\n",
    "print(list(range(0,10,1)))\n",
    "\n",
    "a_list=[1,2,3,4,5,6,7,8,9]\n",
    "lst_recortada=a_list[1:5]\n",
    "print(lst_recortada)\n",
    "\n",
    "lst_recortada2=a_list[::5]# nomenclatura diferente por ejemplo a_list[0:9:5]\n",
    "print(lst_recortada2)"
   ]
  },
  {
   "cell_type": "code",
   "execution_count": 30,
   "id": "26b4a479",
   "metadata": {},
   "outputs": [
    {
     "name": "stdout",
     "output_type": "stream",
     "text": [
      "True False\n",
      "1 2 3 4 5 6 7 8 9 \n",
      "[2, 3, 4, 5, 6, 7, 8, 9, 12]\n"
     ]
    }
   ],
   "source": [
    "#saber si la lista contiene un elemento\n",
    "a_list=[1,2,3,4,5,6,7,8,9]\n",
    "pregunta1 = 8 in a_list\n",
    "pregunta2 = 12  in a_list\n",
    "print(pregunta1,pregunta2)\n",
    "\n",
    "for n in a_list:\n",
    "    print(n, end=\" \")\n",
    "\n",
    "if (pregunta2 == False ):\n",
    "    a_list.append(12)\n",
    "\n",
    "if (pregunta1 == True ):\n",
    "    a_list.remove(1)\n",
    "    \n",
    "print()\n",
    "print(a_list) "
   ]
  },
  {
   "cell_type": "code",
   "execution_count": 40,
   "id": "93658f2f",
   "metadata": {},
   "outputs": [
    {
     "name": "stdout",
     "output_type": "stream",
     "text": [
      "4\n",
      "la edad promedio es : 23\n"
     ]
    }
   ],
   "source": [
    "person1=[\"jose\",28,0,170.00,234]\n",
    "person2=[\"luis\",25,0,175.00,435]\n",
    "person3=[\"yudivith\",18,1,165.00,123]\n",
    "person4=[\"sara\",21,1,165.00,789]\n",
    "\n",
    "asistentes=person1+person2+person3+person4\n",
    "\n",
    "n_person=(len(asistentes)//5)\n",
    "age_average=0\n",
    "age_sum=0\n",
    "for age in asistentes[1::5]:\n",
    "    age_sum+=age\n",
    "age_average= age_sum // n_person  \n",
    "print(n_person)    \n",
    "print(\"la edad promedio es : {}\".format(age_average))"
   ]
  },
  {
   "cell_type": "code",
   "execution_count": null,
   "id": "93d31b99",
   "metadata": {},
   "outputs": [],
   "source": [
    "a_list=[1,2,3,4,5,6,7,8,9]\n",
    "print(len(a_list)) #me retorna la longitud -> la cantidad de elementos\n",
    "print(max(a_list))\n",
    "print(min(a_list))\n",
    "print(sum(a_list))\n",
    "\n",
    "\n",
    "hay_cosas_en_a=any(a_list) # pregunta si hay elementos en la lista\n",
    "print(hay_cosas_en_a)\n",
    "b_list=[0,''] # creo una lista vacia, porque se necesitara mas adelante\n",
    "print(b_list)\n",
    "any(b_list)\n",
    "\n",
    "\n",
    "#for n in b_list:\n",
    "#    b_list.append(\"sgXXX\") # se que est lo necesitaria mas adelante\n",
    "    #print(n, end=\" \")\n",
    "    \n",
    "c.append(7) # cuando la lsita no existe, append la crea"
   ]
  },
  {
   "cell_type": "code",
   "execution_count": 56,
   "id": "ad882203",
   "metadata": {},
   "outputs": [
    {
     "name": "stdout",
     "output_type": "stream",
     "text": [
      "[1, 2, 3, 4, 5, 6, 7, 8, 9]\n"
     ]
    }
   ],
   "source": [
    "a_list=[1,2,3,4,6,7,8,9]\n",
    "a_list.insert(4,5) # inserta en insert(coordena,valor)\n",
    "print(a_list)"
   ]
  },
  {
   "cell_type": "code",
   "execution_count": 58,
   "id": "d50a969c",
   "metadata": {},
   "outputs": [
    {
     "name": "stdout",
     "output_type": "stream",
     "text": [
      "[1, 2, 3, 4, 5, 6, 7, 8, 9]\n",
      "[9, 8, 7, 6, 5, 4, 3, 2, 1]\n"
     ]
    }
   ],
   "source": [
    "#sort organiza\n",
    "a_list=[5,6,2,8,1,3,4,9,7] \n",
    "a_list.sort() # ascendente\n",
    "print(a_list)\n",
    "a_list.sort(reverse = True) #descendente\n",
    "print(a_list)\n"
   ]
  },
  {
   "cell_type": "code",
   "execution_count": 59,
   "id": "638b5b24",
   "metadata": {
    "scrolled": true
   },
   "outputs": [
    {
     "name": "stdout",
     "output_type": "stream",
     "text": [
      "[1, 2, 3, 4, 5, 6]\n"
     ]
    }
   ],
   "source": [
    "tup=(5,3,2,6,1,4)\n",
    "#si yo tengo una tupla, y la queiro editar OBLIGATORIAMENTE debo convertirla a lista\n",
    "aux_list=list(tup)\n",
    "aux_list.sort()\n",
    "print(aux_list)"
   ]
  },
  {
   "cell_type": "code",
   "execution_count": 67,
   "id": "fa1fa04b",
   "metadata": {},
   "outputs": [
    {
     "name": "stdout",
     "output_type": "stream",
     "text": [
      "5\n",
      "2\n",
      "[]\n"
     ]
    }
   ],
   "source": [
    "l=[1,2,3,1,1,1,2,3,1,3]\n",
    "print(l.count(1)) # count cuenta cuantas veces esta el elemento\n",
    "print(l.count(2))\n",
    "l.clear() # borra todo\n",
    "print(l)"
   ]
  },
  {
   "cell_type": "code",
   "execution_count": 75,
   "id": "69ef7046",
   "metadata": {},
   "outputs": [
    {
     "name": "stdout",
     "output_type": "stream",
     "text": [
      "jose\n"
     ]
    },
    {
     "data": {
      "text/plain": [
       "dict_items([('nombre', 'jose'), ('edad', '28'), ('codigo', '3')])"
      ]
     },
     "execution_count": 75,
     "metadata": {},
     "output_type": "execute_result"
    }
   ],
   "source": [
    "profe1={\"nombre\":\"jose\",\"edad\":\"28\",\"codigo\":\"3\"}\n",
    "print(profe1[\"nombre\"])\n",
    "np1=profe1.get(\"nombre\") #obtiene el valor correspondiente a la clave\n",
    "profe1.items() #obtiene todo el diccionario\n"
   ]
  },
  {
   "cell_type": "code",
   "execution_count": null,
   "id": "922ebc2f",
   "metadata": {},
   "outputs": [],
   "source": []
  }
 ],
 "metadata": {
  "kernelspec": {
   "display_name": "Python 3 (ipykernel)",
   "language": "python",
   "name": "python3"
  },
  "language_info": {
   "codemirror_mode": {
    "name": "ipython",
    "version": 3
   },
   "file_extension": ".py",
   "mimetype": "text/x-python",
   "name": "python",
   "nbconvert_exporter": "python",
   "pygments_lexer": "ipython3",
   "version": "3.9.12"
  }
 },
 "nbformat": 4,
 "nbformat_minor": 5
}
