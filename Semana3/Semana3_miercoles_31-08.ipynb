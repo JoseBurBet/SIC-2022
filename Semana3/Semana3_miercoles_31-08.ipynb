{
 "cells": [
  {
   "cell_type": "code",
   "execution_count": 1,
   "id": "a651dcbe",
   "metadata": {},
   "outputs": [
    {
     "name": "stdout",
     "output_type": "stream",
     "text": [
      "7\n",
      "3.1415\n"
     ]
    }
   ],
   "source": [
    "#como programador defino funciones que se van a usar repetidamente\n",
    "#por ejemplo tenemos la funcion print que se definio para usarla repetidamente!\n",
    "#a las funciones tambien se les conoce como METODOS()\n",
    "\n",
    "\n",
    "#cuando empleo funciones recuerdo 4 cosas\n",
    "\n",
    "#1 Defino la funcion\n",
    "#2 Defino si tiene entradas (ARGUMENTOS)\n",
    "#3 Defino si tiene salidas (RETORNO)\n",
    "#4 Invoco o uso la funcion\n",
    "\n",
    "#####################################################################3\n",
    "#Primer ejemplo de funciones\n",
    "\n",
    "\n",
    "########## Defino mis funciones #############\n",
    "\n",
    "def suma(numero1,numero2): # def nombre(argumentos):\n",
    "    \n",
    "    global p  # defino una variable global\n",
    "    p=3.1415\n",
    "    #instrucciones\n",
    "    suma=numero1+numero2\n",
    "    #print(suma)\n",
    "    \n",
    "    return suma # envia el reultado\n",
    "\n",
    "\n",
    "############ MAIN #################### aqui hago el llamado mis funciones\n",
    "\n",
    "##calculadora funcional##\n",
    "\n",
    "#suma(3,4)\n",
    "print(suma(3,4))\n",
    "#print(numero1)\n",
    "print(p)\n"
   ]
  },
  {
   "cell_type": "code",
   "execution_count": null,
   "id": "4ec7069c",
   "metadata": {},
   "outputs": [],
   "source": [
    "#como programador defino funciones que se van a usar repetidamente\n",
    "#por ejemplo tenemos la funcion print que se definio para usarla repetidamente!\n",
    "#a las funciones tambien se les conoce como METODOS()\n",
    "\n",
    "\n",
    "#cuando empleo funciones recuerdo 4 cosas\n",
    "\n",
    "#1 Defino la funcion\n",
    "#2 Defino si tiene entradas (ARGUMENTOS)\n",
    "#3 Defino si tiene salidas (RETORNO)\n",
    "#4 Invoco o uso la funcion\n",
    "\n",
    "#####################################################################3\n",
    "#Primer ejemplo de funciones\n",
    "\n",
    "\n",
    "########## Defino mis funciones #############\n",
    "\n",
    "def suma(numero1,numero2): # def nombre(argumentos):\n",
    "    \n",
    "    #instrucciones\n",
    "    suma=numero1+numero2\n",
    "       \n",
    "    return suma # envia el reultado\n",
    "\n",
    "\n",
    "############ MAIN #################### aqui hago el llamado mis funciones\n",
    "\n",
    "##calculadora funcional##\n",
    "\n",
    "print(suma(3,4))\n",
    "\n",
    "\n",
    "\n",
    "\n"
   ]
  },
  {
   "cell_type": "code",
   "execution_count": 5,
   "id": "b0d0305d",
   "metadata": {},
   "outputs": [
    {
     "name": "stdout",
     "output_type": "stream",
     "text": [
      "pi es : 3.1416\n"
     ]
    }
   ],
   "source": [
    "pi=3.141592654\n",
    "print(\"pi es : {0:.4f}\".format(pi))"
   ]
  },
  {
   "cell_type": "code",
   "execution_count": null,
   "id": "0d3c101f",
   "metadata": {},
   "outputs": [],
   "source": [
    "#Programacion orientada a objetos POO\n",
    "\n",
    "# CLASES : es un algo que encierra unc onjunto de objetos -sirve para catalogar\n",
    "# OBJETOS : un objeto es un elemento (UNA INSTANCIA) que pertenece a una clase -> el elemento dentro del conjunto\n",
    "# ATRIBUTOS :los elementos que pueden diferenciar un objeto de otro\n",
    "# METODOS: funciones \n",
    "\n",
    "#diferencia entre  objeto e instancia:\n",
    "#son \"lo mismo\" un objeto es una instancia de una clase\n",
    "\n",
    "\n",
    "#constructores: inicializa/crea/hace que exista  el objeto de la clase y le asigna los atributos\n",
    "#               correspondientes a su clase\n",
    "#SELF: autoparametros  -> puntero -> el codigo entiende sobre quien estan hablando \n",
    "#                        toma los valores del objeto especifico que estoy trabajando\n",
    "\n",
    "#JERARQUIA O HERENCIA -> hay un orden, y hay cosas que se pueden heredar ->hay abuelos, papas, hijos,etc\n",
    "\n",
    "\n",
    "class profesores:\n",
    "    nombre\n",
    "    edad\n",
    "    codigo\n",
    "    \n",
    "    def get_codigo \n",
    "    \n",
    "    \n",
    "class profesores_grupo_3Y4(profesores):\n",
    "    \n",
    "    \n",
    "    \n",
    "    get_codigo\n",
    "    \n",
    "    contructor\n",
    "    inicialice el objeto \n",
    "    al objeto asignele el valor de nombre\n",
    "    self.nombre=\"jose\"\n",
    "    \n",
    "    profe1.nombre=\"jose\"\n",
    "    profe2\n",
    "    \n",
    "    \n",
    "profe1={\"nombre\":\"jose\",\"edad\":\"28\",\"codigo\":\"3\"}\n",
    "profe2={\"nombre\":\"rafa\",\"edad\":\"30\",\"codigo\":\"7\"}\n",
    "#profe={\"nombre\":\"\",\"edad\":\"\",\"codigo\":\"\"}\n",
    "\n",
    "profe1[nombre]\n",
    "\n",
    "#en este caso la clase seria profesores\n",
    "#en este caso el objeto seria cada profesor jose, rafa\n",
    "#en este caso los atributos serian los elementos personales que nos diferencian , nombre, edas.etc"
   ]
  }
 ],
 "metadata": {
  "kernelspec": {
   "display_name": "Python 3 (ipykernel)",
   "language": "python",
   "name": "python3"
  },
  "language_info": {
   "codemirror_mode": {
    "name": "ipython",
    "version": 3
   },
   "file_extension": ".py",
   "mimetype": "text/x-python",
   "name": "python",
   "nbconvert_exporter": "python",
   "pygments_lexer": "ipython3",
   "version": "3.9.12"
  }
 },
 "nbformat": 4,
 "nbformat_minor": 5
}
