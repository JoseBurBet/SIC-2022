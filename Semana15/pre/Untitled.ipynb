{
 "cells": [
  {
   "cell_type": "code",
   "execution_count": 8,
   "id": "6ab2eb9a",
   "metadata": {},
   "outputs": [
    {
     "name": "stdout",
     "output_type": "stream",
     "text": [
      "saludos\n",
      "saludos\n"
     ]
    }
   ],
   "source": [
    "intents=[\"saludos\",\"despedidas\"]\n",
    "intents2=[[\"hola\",\"hellow\"],[\"chao\",\"bye\"]]\n",
    "\n",
    "\n",
    "dic={\"key0\":\"saludos\"}\n",
    "\n",
    "print(intents[0])\n",
    "print(dic[\"key0\"])"
   ]
  },
  {
   "cell_type": "code",
   "execution_count": 12,
   "id": "b93685a3",
   "metadata": {},
   "outputs": [
    {
     "name": "stdout",
     "output_type": "stream",
     "text": [
      "[0, 0, 0, 0, 0]\n"
     ]
    }
   ],
   "source": [
    "classes=[\"saludos\",\"despedidas\",\"agradecimientos\",\"norespuesta\"]\n",
    "output_empty=[0]*len(classes)\n",
    "print(output_empty)\n",
    "\n",
    "entrada=saludos\n",
    "[\"saludos\",\"despedidas\",\"agradecimientos\",\"norespuesta\"]\n",
    "[1,0,0,0]"
   ]
  },
  {
   "cell_type": "code",
   "execution_count": null,
   "id": "0f755e75",
   "metadata": {},
   "outputs": [],
   "source": [
    "[[[1, 0, 0, 0, 0, 0, 0, 0, 0, 0, 0, 0, 0, 0, 0], [1, 0, 0, 0]]"
   ]
  },
  {
   "cell_type": "code",
   "execution_count": 16,
   "id": "4627a7e6",
   "metadata": {},
   "outputs": [
    {
     "data": {
      "text/plain": [
       "'agradecimientos'"
      ]
     },
     "execution_count": 16,
     "metadata": {},
     "output_type": "execute_result"
    }
   ],
   "source": [
    "doc_10=(['fue', 'de', 'ayuda'], 'agradecimientos')\n",
    "doc[0] -> tokens, o palabras\n",
    "doc[1] -> tag -> clase\n"
   ]
  }
 ],
 "metadata": {
  "kernelspec": {
   "display_name": "Python 3 (ipykernel)",
   "language": "python",
   "name": "python3"
  },
  "language_info": {
   "codemirror_mode": {
    "name": "ipython",
    "version": 3
   },
   "file_extension": ".py",
   "mimetype": "text/x-python",
   "name": "python",
   "nbconvert_exporter": "python",
   "pygments_lexer": "ipython3",
   "version": "3.9.12"
  }
 },
 "nbformat": 4,
 "nbformat_minor": 5
}
