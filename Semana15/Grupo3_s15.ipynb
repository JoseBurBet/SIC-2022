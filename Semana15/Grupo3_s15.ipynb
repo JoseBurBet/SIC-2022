{
 "cells": [
  {
   "cell_type": "markdown",
   "id": "24dfa2b6",
   "metadata": {},
   "source": [
    "# Primeras nociones de deep-learning y redes neuronales \n",
    "## Ejemplo chatbot"
   ]
  },
  {
   "cell_type": "markdown",
   "id": "356bd059",
   "metadata": {},
   "source": [
    "import sys\n",
    "!{sys.executable} -m pip list #para saber que tengo instalado"
   ]
  },
  {
   "cell_type": "markdown",
   "id": "ab544c10",
   "metadata": {},
   "source": [
    "import pickle  #https://docs.python.org/es/3/library/pickle.html  # guardar modelos (o objetos) como secuencia de bytes"
   ]
  },
  {
   "cell_type": "markdown",
   "id": "b8a9b61c",
   "metadata": {},
   "source": [
    "import sys\n",
    "!{sys.executable} -m pip install tensorflow\n",
    "\n",
    "- que es en palabras sencillas\n",
    " https://www.incentro.com/es-ES/blog/que-es-tensorflow\n",
    " \n",
    "- link de la libreria\n",
    " https://www.tensorflow.org/?gclid=Cj0KCQiA4OybBhCzARIsAIcfn9nLmib7_Bs2vXmVsx1nI5y3gF07NhydNa0Tfgf6rxdBTf1zZJiA08kaAt7XEALw_wcB\n",
    "\n"
   ]
  },
  {
   "cell_type": "markdown",
   "id": "7e5c4e9a",
   "metadata": {},
   "source": [
    "import sys\n",
    "!{sys.executable} -m pip install keras\n",
    "\n",
    "- tensorflow vs keras, que son?\n",
    "https://nodd3r.com/blog/keras-vs-tensorflow-vs-pytorch-diferencias-clave-entre-frameworks-de-deep-learning\n",
    "\n",
    "-   que es una api\n",
    "https://www.sydle.com/es/blog/api-6214f68876950e47761c40e7/\n",
    "\n",
    "-  link libreria\n",
    "https://keras.io/examples/   ESTO LES SIRVE PARA LOS PROYECTOS !!!!!!!!!\n"
   ]
  },
  {
   "cell_type": "markdown",
   "id": "dd3b0f51",
   "metadata": {},
   "source": [
    "import sys\n",
    "!{sys.executable} -m pip install nltk\n",
    "\n",
    "- que es en palabras sencillas \n",
    "https://code.tutsplus.com/es/tutorials/introducing-the-natural-language-toolkit-nltk--cms-28620\n",
    "\n",
    "- link de la libreria\n",
    "https://www.nltk.org"
   ]
  },
  {
   "cell_type": "code",
   "execution_count": null,
   "id": "2e5ad5e6",
   "metadata": {},
   "outputs": [],
   "source": [
    "import nltk\n",
    "\n",
    "nltk.download('punkt')\n",
    "nltk.download('wordnet')\n",
    "nltk.download('universal_tagset')\n",
    "nltk.download('spanish_grammars')\n",
    "nltk.download('tagsets')\n",
    "nltk.download('stopwords') # faltaaaaa\n",
    "nltk.download('omw-1.4') #faltaaaa\n",
    "#nltk.download()"
   ]
  },
  {
   "cell_type": "code",
   "execution_count": 3,
   "id": "0abeb6fb",
   "metadata": {},
   "outputs": [],
   "source": [
    "import json\n",
    "\n",
    "def guardar_json(datos):\n",
    "    archivo=open(\"intents.json\",\"w\")\n",
    "    json.dump(datos,archivo,indent=4)\n",
    "\n",
    "#intents: grupos de conversaciones tipicas para nuestro objetivo\n",
    "# patterns: posibles interacciones con el usuario\n",
    "\n",
    "\n",
    "biblioteca={\"intents\":\n",
    "            [\n",
    "                {\"tag\":\"saludos\",\n",
    "                 \"patterns\":[\"hola\",\n",
    "                             \"buenos dias\",\n",
    "                             \"buenas tardes\",\n",
    "                             \"buenas noches\",\n",
    "                             \"como estas\",\n",
    "                             \"hay alguien ahi?\",\n",
    "                             \"hey\",\n",
    "                             \"saludos\",\n",
    "                             \"que tal\"                      \n",
    "                             ],\n",
    "                 \"responses\":[\"hola soy SIC-BOT , en que puedo ayudarte\"\n",
    "                             ],\n",
    "                 \"context\":[\"\"]\n",
    "                 },\n",
    "                \n",
    "                {\"tag\":\"despedidas\",\n",
    "                 \"patterns\":[\"chao\",\n",
    "                             \"adios\",\n",
    "                             \"hasta luego\",\n",
    "                             \"nos vemos\",\n",
    "                             \"bye\",\n",
    "                             \"hasta pronto\",\n",
    "                             \"hasta la proxima\"\n",
    "                             ],\n",
    "                 \"responses\":[\"hasta luego, tenga un buen dia\"\n",
    "                             ],\n",
    "                 \"context\":[\"\"]\n",
    "                 },\n",
    "                {\"tag\":\"agradecimientos\",\n",
    "                 \"patterns\":[\"gracias\",\n",
    "                             \"muchas gracias\",\n",
    "                             \"mil gracias\",\n",
    "                             \"muy amable\",\n",
    "                             \"se lo agradezco\",\n",
    "                             \"fue de ayuda\",\n",
    "                             \"gracias por la ayuda\",\n",
    "                             \"muy agradecido\",\n",
    "                             \"gracias por su tiempo\",\n",
    "                             \"ty\"\n",
    "                            ],\n",
    "                 \"responses\":[\"de nada\",\n",
    "                              \"feliz por ayudarlo\",\n",
    "                              \"gracias a usted\",\n",
    "                              \"estamos para servirle\",\n",
    "                              \"fue un placer\"\n",
    "                             ],\n",
    "                 \"context\":[\"\"]\n",
    "                },\n",
    "                {\"tag\":\"no_hay_respuesta\",\n",
    "                 \"patterns\":[],\n",
    "                 \"responses\":[\"no se detecto una respuesta\"\n",
    "                             ],\n",
    "                 \"context\":[\"\"]                    \n",
    "                }\n",
    "            ] \n",
    "        }\n",
    "guardar_json(biblioteca)"
   ]
  },
  {
   "cell_type": "code",
   "execution_count": 10,
   "id": "6a56a78c",
   "metadata": {},
   "outputs": [
    {
     "data": {
      "text/plain": [
       "{'intents': [{'tag': 'saludos',\n",
       "   'patterns': ['hola',\n",
       "    'buenos dias',\n",
       "    'buenas tardes',\n",
       "    'buenas noches',\n",
       "    'como estas',\n",
       "    'hay alguien ahi?',\n",
       "    'hey',\n",
       "    'saludos',\n",
       "    'que tal'],\n",
       "   'responses': ['hola soy SIC-BOT , en que puedo ayudarte'],\n",
       "   'context': ['']},\n",
       "  {'tag': 'despedidas',\n",
       "   'patterns': ['chao',\n",
       "    'adios',\n",
       "    'hasta luego',\n",
       "    'nos vemos',\n",
       "    'bye',\n",
       "    'hasta pronto',\n",
       "    'hasta la proxima'],\n",
       "   'responses': ['hasta luego, tenga un buen dia'],\n",
       "   'context': ['']},\n",
       "  {'tag': 'agradecimientos',\n",
       "   'patterns': ['gracias',\n",
       "    'muchas gracias',\n",
       "    'mil gracias',\n",
       "    'muy amable',\n",
       "    'se lo agradezco',\n",
       "    'fue de ayuda',\n",
       "    'gracias por la ayuda',\n",
       "    'muy agradecido',\n",
       "    'gracias por su tiempo',\n",
       "    'ty'],\n",
       "   'responses': ['de nada',\n",
       "    'feliz por ayudarlo',\n",
       "    'gracias a usted',\n",
       "    'estamos para servirle',\n",
       "    'fue un placer'],\n",
       "   'context': ['']},\n",
       "  {'tag': 'no_hay_respuesta',\n",
       "   'patterns': [],\n",
       "   'responses': ['no se detecto una respuesta'],\n",
       "   'context': ['']}]}"
      ]
     },
     "execution_count": 10,
     "metadata": {},
     "output_type": "execute_result"
    }
   ],
   "source": [
    "import json\n",
    "import pickle\n",
    "import numpy as np\n",
    "\n",
    "import nltk\n",
    "from nltk.stem import WordNetLemmatizer\n",
    "from tensorflow.keras import Sequential\n",
    "from tensorflow.keras.layers import Conv2D, Flatten, Dense,Dropout\n",
    "from tensorflow.keras.optimizers import SGD\n",
    "\n",
    "\n",
    "lemmatizer=WordNetLemmatizer()#La lematización es el proceso de agrupar las diferentes formas flexionadas de una \n",
    "                                #palabra para que puedan ser analizadas como un único elemento\n",
    "    \n",
    "# ejemplo de lematizacion: https://es.wikipedia.org/wiki/Lematización\n",
    "# lema -> palabra completa  : categoria\n",
    "# casa -> casas             : plurales\n",
    "# dije -> diré,dijeramos    :tiempos verbales\n",
    "\n",
    "words=[]\n",
    "classes=[]\n",
    "documents=[]\n",
    "ignore_words=[\"?\",\"¿\",\"!\",\"¡\"]\n",
    "data_file= open(\"intents.json\").read() #aqui cargo el archivo en formato json\n",
    "intents = json.loads(data_file) # aqui convierto el archivo json a diccionario\n",
    "intents"
   ]
  },
  {
   "cell_type": "code",
   "execution_count": null,
   "id": "81476bca",
   "metadata": {},
   "outputs": [],
   "source": []
  }
 ],
 "metadata": {
  "kernelspec": {
   "display_name": "Python 3 (ipykernel)",
   "language": "python",
   "name": "python3"
  },
  "language_info": {
   "codemirror_mode": {
    "name": "ipython",
    "version": 3
   },
   "file_extension": ".py",
   "mimetype": "text/x-python",
   "name": "python",
   "nbconvert_exporter": "python",
   "pygments_lexer": "ipython3",
   "version": "3.9.12"
  }
 },
 "nbformat": 4,
 "nbformat_minor": 5
}
