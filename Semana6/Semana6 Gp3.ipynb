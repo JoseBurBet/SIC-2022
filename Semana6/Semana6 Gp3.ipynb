{
 "cells": [
  {
   "cell_type": "markdown",
   "id": "0b9dbdb6",
   "metadata": {},
   "source": [
    "# LIBRERIA PANDAS\n",
    "# SERIES"
   ]
  },
  {
   "cell_type": "code",
   "execution_count": 1,
   "id": "9287f49d",
   "metadata": {},
   "outputs": [
    {
     "data": {
      "text/plain": [
       "'1.4.2'"
      ]
     },
     "execution_count": 1,
     "metadata": {},
     "output_type": "execute_result"
    }
   ],
   "source": [
    "import pandas as pd\n",
    "pd.__version__"
   ]
  },
  {
   "cell_type": "code",
   "execution_count": 2,
   "id": "e766116c",
   "metadata": {},
   "outputs": [
    {
     "name": "stdout",
     "output_type": "stream",
     "text": [
      "0    5\n",
      "1    6\n",
      "2    7\n",
      "3    8\n",
      "dtype: int64\n"
     ]
    }
   ],
   "source": [
    "import pandas as pd\n",
    "s=pd.Series([5,6,7,8]) # por defecto el index es 0,1,2...\n",
    "print(s)"
   ]
  },
  {
   "cell_type": "code",
   "execution_count": 3,
   "id": "2b8d460a",
   "metadata": {},
   "outputs": [
    {
     "name": "stdout",
     "output_type": "stream",
     "text": [
      "casa    5\n",
      "asfd    6\n",
      "2       7\n",
      "jdh     8\n",
      "dtype: int64\n"
     ]
    }
   ],
   "source": [
    "import pandas as pd\n",
    "s=pd.Series([5,6,7,8],index=[\"casa\",\"asfd\",2,\"jdh\"])\n",
    "print(s)"
   ]
  },
  {
   "cell_type": "code",
   "execution_count": 4,
   "id": "ad50d9da",
   "metadata": {
    "scrolled": true
   },
   "outputs": [
    {
     "name": "stdout",
     "output_type": "stream",
     "text": [
      "0           iron man\n",
      "1    capitan america\n",
      "2               thor\n",
      "3     winter soldier\n",
      "4             ultron\n",
      "5            ant-man\n",
      "6           siperman\n",
      "dtype: object\n"
     ]
    }
   ],
   "source": [
    "#creo una serie apartir de una lista\n",
    "import pandas as pd\n",
    "marvel=[\"iron man\",\"capitan america\",\"thor\",\"winter soldier\",\"ultron\",\"ant-man\",\"siperman\"] # por defecto el index es 0,1,2...\n",
    "s=pd.Series(marvel)\n",
    "print(s)"
   ]
  },
  {
   "cell_type": "code",
   "execution_count": 6,
   "id": "57b99826",
   "metadata": {},
   "outputs": [
    {
     "name": "stdout",
     "output_type": "stream",
     "text": [
      "iron man           2010\n",
      "capitan america    2011\n",
      "thor               2013\n",
      "winter soldier     2014\n",
      "ultron             2015\n",
      "ant-man            2016\n",
      "siperman           2017\n",
      "dtype: int64\n"
     ]
    }
   ],
   "source": [
    "#creo una serie a partir de un diccionario\n",
    "import pandas as pd\n",
    "marvel_year={\"iron man\":2010,\"capitan america\":2011,\"thor\":2013,\"winter soldier\":2014,\"ultron\":2015,\"ant-man\":2016,\"siperman\":2017} # por defecto el index es 0,1,2...\n",
    "s=pd.Series(marvel_year)\n",
    "print(s)"
   ]
  },
  {
   "cell_type": "code",
   "execution_count": 8,
   "id": "4ed08cbf",
   "metadata": {},
   "outputs": [
    {
     "name": "stdout",
     "output_type": "stream",
     "text": [
      "[10 11 12 13 14 15]\n",
      "0    10\n",
      "1    11\n",
      "2    12\n",
      "3    13\n",
      "4    14\n",
      "5    15\n",
      "dtype: int32\n"
     ]
    }
   ],
   "source": [
    "import pandas as pd\n",
    "import numpy as np\n",
    "\n",
    "n= np.arange(10,16)\n",
    "print(n)\n",
    "s=pd.Series(n)\n",
    "print(s)\n",
    "\n"
   ]
  },
  {
   "cell_type": "code",
   "execution_count": 12,
   "id": "fec120a1",
   "metadata": {},
   "outputs": [
    {
     "name": "stdout",
     "output_type": "stream",
     "text": [
      "DatetimeIndex(['2021-01-01', '2021-01-02', '2021-01-03', '2021-01-04',\n",
      "               '2021-01-05', '2021-01-06', '2021-01-07'],\n",
      "              dtype='datetime64[ns]', freq='D')\n",
      "<class 'pandas.core.indexes.datetimes.DatetimeIndex'>\n",
      "2021-01-01    5\n",
      "2021-01-02    6\n",
      "2021-01-03    7\n",
      "2021-01-04    8\n",
      "2021-01-05    1\n",
      "2021-01-06    2\n",
      "2021-01-07    3\n",
      "dtype: int64\n"
     ]
    }
   ],
   "source": [
    "import pandas as pd\n",
    "\n",
    "dates= pd.date_range(\"2021-01-01\",\"2021-01-07\") # crea rangos de fecha\n",
    "print(dates)\n",
    "print(type(dates))\n",
    "\n",
    "s=pd.Series([5,6,7,8,1,2,3],index=[dates])\n",
    "print(s)"
   ]
  },
  {
   "cell_type": "code",
   "execution_count": 15,
   "id": "f8bed433",
   "metadata": {},
   "outputs": [
    {
     "name": "stdout",
     "output_type": "stream",
     "text": [
      "2021-01-01           iron man\n",
      "2021-01-02    capitan america\n",
      "2021-01-03               thor\n",
      "2021-01-04     winter soldier\n",
      "2021-01-05             ultron\n",
      "2021-01-06            ant-man\n",
      "2021-01-07           siperman\n",
      "Freq: D, dtype: object\n",
      "______________\n",
      "DatetimeIndex(['2021-01-01', '2021-01-02', '2021-01-03', '2021-01-04',\n",
      "               '2021-01-05', '2021-01-06', '2021-01-07'],\n",
      "              dtype='datetime64[ns]', freq='D')\n",
      "['iron man' 'capitan america' 'thor' 'winter soldier' 'ultron' 'ant-man'\n",
      " 'siperman']\n"
     ]
    }
   ],
   "source": [
    "import pandas as pd\n",
    "marvel=[\"iron man\",\"capitan america\",\"thor\",\"winter soldier\",\"ultron\",\"ant-man\",\"siperman\"] # por defecto el index es 0,1,2...\n",
    "dates= pd.date_range(\"2021-01-01\",\"2021-01-07\")\n",
    "s=pd.Series(marvel,index=dates)\n",
    "print(s)\n",
    "print(\"______________\")\n",
    "print(s.index)\n",
    "print(s.values)\n"
   ]
  },
  {
   "cell_type": "code",
   "execution_count": 20,
   "id": "2b6984ba",
   "metadata": {},
   "outputs": [
    {
     "name": "stdout",
     "output_type": "stream",
     "text": [
      "thor\n",
      "thor\n",
      "2021-01-05      ultron\n",
      "2021-01-07    siperman\n",
      "Freq: 2D, dtype: object\n",
      "______________\n",
      "2021-01-07    siperman\n",
      "2021-01-05      ultron\n",
      "dtype: object\n"
     ]
    },
    {
     "name": "stderr",
     "output_type": "stream",
     "text": [
      "C:\\Users\\joseb\\AppData\\Local\\Temp\\ipykernel_13124\\4074759141.py:9: FutureWarning: Passing a set as an indexer is deprecated and will raise in a future version. Use a list instead.\n",
      "  print(s[{4,6}])#imprime key y valor en un rango segun el index\n",
      "C:\\Users\\joseb\\AppData\\Local\\Temp\\ipykernel_13124\\4074759141.py:11: FutureWarning: Passing a set as an indexer is deprecated and will raise in a future version. Use a list instead.\n",
      "  print(s[{\"2021-01-05\",\"2021-01-07\"}])\n"
     ]
    }
   ],
   "source": [
    "import pandas as pd\n",
    "marvel=[\"iron man\",\"capitan america\",\"thor\",\"winter soldier\",\"ultron\",\"ant-man\",\"siperman\"] # por defecto el index es 0,1,2...\n",
    "dates= pd.date_range(\"2021-01-01\",\"2021-01-07\")\n",
    "s=pd.Series(marvel,index=dates)\n",
    "\n",
    "print(s[2])\n",
    "print(s[\"2021-01-03\"])\n",
    "\n",
    "print(s[{4,6}])#imprime key y valor en un rango segun el index\n",
    "print(\"______________\")\n",
    "print(s[{\"2021-01-05\",\"2021-01-07\"}])"
   ]
  },
  {
   "cell_type": "code",
   "execution_count": 26,
   "id": "f32dba74",
   "metadata": {},
   "outputs": [
    {
     "name": "stdout",
     "output_type": "stream",
     "text": [
      "0    1\n",
      "1    2\n",
      "2    3\n",
      "3    4\n",
      "4    5\n",
      "dtype: int64\n",
      "_________________\n",
      "0     1\n",
      "1     4\n",
      "2     9\n",
      "3    16\n",
      "4    25\n",
      "dtype: int64\n",
      "_________________\n",
      "0    10\n",
      "1    10\n",
      "2    10\n",
      "3    10\n",
      "4    10\n",
      "dtype: int64\n",
      "_________________\n",
      "0    10\n",
      "dtype: int64\n",
      "_________________\n"
     ]
    }
   ],
   "source": [
    "import pandas as pd\n",
    "\n",
    "s=[1,2,3,4,5]\n",
    "t=[9,8,7,6,5]\n",
    "serie1=pd.Series(s)\n",
    "serie2=pd.Series(t)\n",
    "\n",
    "serie3=serie1+serie2\n",
    "\n",
    "print(serie1)\n",
    "print(\"_________________\")\n",
    "print(serie1**2)\n",
    "print(\"_________________\")\n",
    "print(serie3)\n",
    "print(\"_________________\")\n",
    "print(serie3.mode())\n",
    "print(\"_________________\")"
   ]
  },
  {
   "cell_type": "code",
   "execution_count": 23,
   "id": "4eff793c",
   "metadata": {
    "scrolled": true
   },
   "outputs": [
    {
     "data": {
      "image/png": "[encoded data removed]",
      "text/plain": [
       "<IPython.core.display.Image object>"
      ]
     },
     "execution_count": 23,
     "metadata": {},
     "output_type": "execute_result"
    }
   ],
   "source": [
    "from IPython.display import Image #agregar una imagen en notebook desde la misma carpeta\n",
    "Image(\"metodos_estadisticos.png\")\n"
   ]
  },
  {
   "cell_type": "markdown",
   "id": "e7c3e4d0",
   "metadata": {},
   "source": [
    "# GRAFICAS "
   ]
  },
  {
   "cell_type": "code",
   "execution_count": 28,
   "id": "3be7077f",
   "metadata": {},
   "outputs": [
    {
     "data": {
      "image/png": "[encoded data removed]",
      "text/plain": [
       "<Figure size 432x288 with 1 Axes>"
      ]
     },
     "metadata": {
      "needs_background": "light"
     },
     "output_type": "display_data"
    }
   ],
   "source": [
    "import matplotlib.pyplot as plt\n",
    "\n",
    "plt.plot([0,1,2,3,4])# el argumento es lo que va a graficar\n",
    "plt.show()\n",
    "\n",
    "\n"
   ]
  },
  {
   "cell_type": "code",
   "execution_count": 29,
   "id": "fcc15774",
   "metadata": {},
   "outputs": [
    {
     "data": {
      "image/png": "[encoded data removed]",
      "text/plain": [
       "<Figure size 432x288 with 1 Axes>"
      ]
     },
     "metadata": {
      "needs_background": "light"
     },
     "output_type": "display_data"
    }
   ],
   "source": [
    "import matplotlib.pyplot as plt\n",
    "\n",
    "#puntos(     [x]    ,   [y])\n",
    "plt.plot([0,1,2,3,4],[0,1,4,9,16])# el argumento es lo que va a graficar\n",
    "plt.show()"
   ]
  },
  {
   "cell_type": "code",
   "execution_count": 33,
   "id": "fe5535e2",
   "metadata": {},
   "outputs": [
    {
     "data": {
      "image/png": "[encoded data removed]",
      "text/plain": [
       "<Figure size 432x288 with 1 Axes>"
      ]
     },
     "metadata": {
      "needs_background": "light"
     },
     "output_type": "display_data"
    }
   ],
   "source": [
    "import matplotlib.pyplot as plt\n",
    "\n",
    "x=range(100)\n",
    "\n",
    "#for i in range x        # es lo mismo que la linea 8\n",
    "#    value[i]=i**2\n",
    "\n",
    "y=[value**2 for value in x]\n",
    "\n",
    "plt.plot(x,y,linewidth=5.0,color=\"red\")\n",
    "plt.title(\"grafica de x^2\")\n",
    "plt.xlabel(\"entradas\")\n",
    "plt.ylabel(\"salidas\")\n",
    "\n",
    "plt.show()\n"
   ]
  },
  {
   "cell_type": "code",
   "execution_count": 36,
   "id": "d7e9906c",
   "metadata": {},
   "outputs": [
    {
     "data": {
      "image/png": "[encoded data removed]",
      "text/plain": [
       "<Figure size 432x288 with 1 Axes>"
      ]
     },
     "metadata": {
      "needs_background": "light"
     },
     "output_type": "display_data"
    }
   ],
   "source": [
    "from matplotlib import pyplot as plt\n",
    "edades=[16,17,20,22,25,28]\n",
    "plt.bar(range(len(edades)),edades)# me saca una lsita desde 0 hasta el numero de datos\n",
    "plt.show()"
   ]
  },
  {
   "cell_type": "code",
   "execution_count": 42,
   "id": "931093ea",
   "metadata": {},
   "outputs": [
    {
     "data": {
      "image/png": "[encoded data removed]",
      "text/plain": [
       "<Figure size 432x288 with 1 Axes>"
      ]
     },
     "metadata": {
      "needs_background": "light"
     },
     "output_type": "display_data"
    }
   ],
   "source": [
    "from matplotlib import pyplot as plt\n",
    "import pandas as pd\n",
    "edades={\"8\":16,\"6\":17,\"4\":20,\"5\":22,\"2\":25,\"1\":28}\n",
    "s_edades=pd.Series(edades)\n",
    "#print(s_edades)\n",
    "plt.bar(s_edades.index,s_edades.values)# x = index , y= values\n",
    "plt.show()"
   ]
  },
  {
   "cell_type": "markdown",
   "id": "a3720bdc",
   "metadata": {},
   "source": [
    "# definir diccionarios con zip"
   ]
  },
  {
   "cell_type": "code",
   "execution_count": 43,
   "id": "ec97bcaf",
   "metadata": {},
   "outputs": [
    {
     "name": "stdout",
     "output_type": "stream",
     "text": [
      "{'name': 'Johnny', 'age': '27', 'address': 'New York'}\n"
     ]
    }
   ],
   "source": [
    "key_list = ['name', 'age', 'address']\n",
    "value_list = ['Johnny', '27', 'New York']\n",
    "dict_from_list = dict(zip(key_list, value_list))\n",
    "print(dict_from_list)"
   ]
  }
 ],
 "metadata": {
  "kernelspec": {
   "display_name": "Python 3 (ipykernel)",
   "language": "python",
   "name": "python3"
  },
  "language_info": {
   "codemirror_mode": {
    "name": "ipython",
    "version": 3
   },
   "file_extension": ".py",
   "mimetype": "text/x-python",
   "name": "python",
   "nbconvert_exporter": "python",
   "pygments_lexer": "ipython3",
   "version": "3.9.12"
  }
 },
 "nbformat": 4,
 "nbformat_minor": 5
}
