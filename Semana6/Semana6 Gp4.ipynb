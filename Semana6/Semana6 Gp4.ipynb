{
 "cells": [
  {
   "cell_type": "markdown",
   "id": "8b0bf899",
   "metadata": {},
   "source": [
    "# LIBRERIA PANDAS\n",
    "# SERIES"
   ]
  },
  {
   "cell_type": "code",
   "execution_count": 3,
   "id": "d27af19e",
   "metadata": {},
   "outputs": [
    {
     "data": {
      "text/plain": [
       "'1.4.2'"
      ]
     },
     "execution_count": 3,
     "metadata": {},
     "output_type": "execute_result"
    }
   ],
   "source": [
    "import pandas as pd\n",
    "pd.__version__\n",
    "\n"
   ]
  },
  {
   "cell_type": "code",
   "execution_count": 6,
   "id": "2e17d7ed",
   "metadata": {},
   "outputs": [
    {
     "name": "stdout",
     "output_type": "stream",
     "text": [
      "0    5\n",
      "1    6\n",
      "2    7\n",
      "3    8\n",
      "dtype: int64\n",
      "_____________-\n",
      "relojes      5\n",
      "muebles      6\n",
      "vasos        7\n",
      "celulares    8\n",
      "dtype: int64\n"
     ]
    }
   ],
   "source": [
    "import pandas as pd\n",
    "s=pd.Series([5,6,7,8]) # por defecto el index van a ser numeros \n",
    "print(s)\n",
    "print(\"_____________\")\n",
    "h=pd.Series([5,6,7,8],index=[\"relojes\",\"muebles\",\"vasos\",\"celulares\"])\n",
    "print(h)"
   ]
  },
  {
   "cell_type": "code",
   "execution_count": 12,
   "id": "68938458",
   "metadata": {
    "scrolled": true
   },
   "outputs": [
    {
     "name": "stdout",
     "output_type": "stream",
     "text": [
      "2016           iron man\n",
      "2017    capitan america\n",
      "2018               thor\n",
      "2019     winter soldier\n",
      "2020             ultron\n",
      "2021            ant-man\n",
      "2022           siderman\n",
      "dtype: object\n",
      "_____________\n",
      "2016           iron man\n",
      "2017    capitan america\n",
      "2018               thor\n",
      "2019     winter soldier\n",
      "2020             ultron\n",
      "2021            ant-man\n",
      "2022          spiderman\n",
      "dtype: object\n"
     ]
    }
   ],
   "source": [
    "import pandas as pd\n",
    "\n",
    "marvel=[\"iron man\",\"capitan america\",\"thor\",\"winter soldier\",\"ultron\",\"ant-man\",\"siderman\"]\n",
    "index =[\"2016\",\"2017\",\"2018\",\"2019\",\"2020\",\"2021\",\"2022\"] \n",
    "#s=pd.Series(marvel,index=index)\n",
    "s=pd.Series(marvel,index)\n",
    "#f(x)-> y=mx+b  puntos(x,y)\n",
    "\n",
    "#      key :   value\n",
    "dic={\"2016\":\"iron man\",\"2017\":\"capitan america\",\"2018\":\"thor\",\"2019\":\"winter soldier\",\"2020\":\"ultron\",\"2021\":\"ant-man\",\"2022\":\"spiderman\"}\n",
    "\n",
    "h=pd.Series(dic)\n",
    "\n",
    "print(s)\n",
    "print(\"_____________\")\n",
    "print(h)"
   ]
  },
  {
   "cell_type": "code",
   "execution_count": 15,
   "id": "6995ef65",
   "metadata": {},
   "outputs": [
    {
     "name": "stdout",
     "output_type": "stream",
     "text": [
      "[10 11 12 13 14 15 16 17 18 19 20] <class 'numpy.ndarray'>\n",
      "0     10\n",
      "1     11\n",
      "2     12\n",
      "3     13\n",
      "4     14\n",
      "5     15\n",
      "6     16\n",
      "7     17\n",
      "8     18\n",
      "9     19\n",
      "10    20\n",
      "dtype: int32\n"
     ]
    }
   ],
   "source": [
    "import pandas as pd\n",
    "import numpy as np\n",
    "\n",
    "n=np.arange(10,21)\n",
    "print(n ,type(n))\n",
    "s=pd.Series(n)\n",
    "print(s)"
   ]
  },
  {
   "cell_type": "code",
   "execution_count": 33,
   "id": "eb4f9509",
   "metadata": {},
   "outputs": [
    {
     "name": "stdout",
     "output_type": "stream",
     "text": [
      "DatetimeIndex(['2022-09-01', '2022-09-02', '2022-09-03', '2022-09-04',\n",
      "               '2022-09-05', '2022-09-06', '2022-09-07'],\n",
      "              dtype='datetime64[ns]', freq='D')\n",
      "2022-09-01           iron man\n",
      "2022-09-02    capitan america\n",
      "2022-09-03               thor\n",
      "2022-09-04     winter soldier\n",
      "2022-09-05             ultron\n",
      "2022-09-06            ant-man\n",
      "2022-09-07           siderman\n",
      "Freq: D, dtype: object\n",
      "_________\n",
      "DatetimeIndex(['2022-09-01', '2022-09-02', '2022-09-03', '2022-09-04',\n",
      "               '2022-09-05', '2022-09-06', '2022-09-07'],\n",
      "              dtype='datetime64[ns]', freq='D')\n",
      "_________\n",
      "['iron man' 'capitan america' 'thor' 'winter soldier' 'ultron' 'ant-man'\n",
      " 'siderman']\n",
      "_________\n",
      "ultron\n",
      "_________\n",
      "ultron\n",
      "_________\n",
      "2022-09-03        thor\n",
      "2022-09-07    siderman\n",
      "Freq: 4D, dtype: object\n",
      "_________\n",
      "2022-09-03              thor\n",
      "2022-09-04    winter soldier\n",
      "2022-09-05            ultron\n",
      "2022-09-06           ant-man\n",
      "Freq: D, dtype: object\n"
     ]
    },
    {
     "name": "stderr",
     "output_type": "stream",
     "text": [
      "C:\\Users\\joseb\\AppData\\Local\\Temp\\ipykernel_2324\\2417873520.py:18: FutureWarning: Passing a set as an indexer is deprecated and will raise in a future version. Use a list instead.\n",
      "  print(s[{2,6}]) # imprime especificamente el 2 y el 6\n"
     ]
    }
   ],
   "source": [
    "import pandas as pd\n",
    "#  date_range(\"fecha inicial\",\"fecha final\")\n",
    "dates=pd.date_range(\"2022-09-01\",\"2022-09-7\", freq='D')# rango de fechas -> el paso es por dia,mes o año\n",
    "print(dates)\n",
    "\n",
    "marvel=[\"iron man\",\"capitan america\",\"thor\",\"winter soldier\",\"ultron\",\"ant-man\",\"siderman\"]\n",
    "s=pd.Series(marvel,dates)\n",
    "print(s)\n",
    "print(\"_________\")\n",
    "print(s.index)\n",
    "print(\"_________\")\n",
    "print(s.values)\n",
    "print(\"_________\")\n",
    "print(s[\"2022-09-05\"])\n",
    "print(\"_________\")\n",
    "print(s[4])\n",
    "print(\"_________\")\n",
    "print(s[{2,6}]) # imprime especificamente el 2 y el 6\n",
    "print(\"_________\")\n",
    "print(s[2:6])\n"
   ]
  },
  {
   "cell_type": "code",
   "execution_count": 43,
   "id": "f0a69cdd",
   "metadata": {},
   "outputs": [
    {
     "name": "stdout",
     "output_type": "stream",
     "text": [
      "0    1\n",
      "1    2\n",
      "2    3\n",
      "3    4\n",
      "dtype: int64\n",
      "____\n",
      "0    5\n",
      "1    6\n",
      "2    7\n",
      "3    8\n",
      "dtype: int64\n",
      "____\n",
      "0     6\n",
      "1     8\n",
      "2    10\n",
      "3    12\n",
      "dtype: int64\n",
      "____\n",
      "0     1\n",
      "1     4\n",
      "2     9\n",
      "3    16\n",
      "dtype: int64\n",
      "____\n",
      "0    3\n",
      "1    4\n",
      "2    5\n",
      "3    6\n",
      "dtype: int64\n"
     ]
    }
   ],
   "source": [
    "import pandas as pd\n",
    "\n",
    "s=[1,2,3,4]\n",
    "t=[5,6,7,8]\n",
    "\n",
    "serie_s=pd.Series(s)\n",
    "serie_t=pd.Series(t)\n",
    "serie_sum=serie_s+serie_t\n",
    "\n",
    "print(serie_s)\n",
    "print(\"____\")\n",
    "print(serie_t)\n",
    "print(\"____\")\n",
    "print(serie_sum)\n",
    "print(\"____\")\n",
    "print(serie_s**2)\n",
    "print(\"____\")\n",
    "print(serie_s+2)\n",
    "\n"
   ]
  },
  {
   "cell_type": "markdown",
   "id": "5091829d",
   "metadata": {},
   "source": [
    "# poner un grafico en jupyter"
   ]
  },
  {
   "cell_type": "code",
   "execution_count": 44,
   "id": "02249fdb",
   "metadata": {},
   "outputs": [
    {
     "data": {
      "image/png": "[encoded data removed]",
      "text/plain": [
       "<IPython.core.display.Image object>"
      ]
     },
     "execution_count": 44,
     "metadata": {},
     "output_type": "execute_result"
    }
   ],
   "source": [
    "from IPython.display import Image #agregar una imagen en notebook desde la misma carpeta\n",
    "Image(\"metodos_estadisticos.png\")"
   ]
  },
  {
   "cell_type": "markdown",
   "id": "59a2fbcc",
   "metadata": {},
   "source": [
    "# Defenir un diccionario con .zip()"
   ]
  },
  {
   "cell_type": "code",
   "execution_count": 46,
   "id": "f76ca68f",
   "metadata": {},
   "outputs": [
    {
     "name": "stdout",
     "output_type": "stream",
     "text": [
      "{'2016': 'iron man', '2017': 'capitan america', '2018': 'thor', '2019': 'winter soldier', '2020': 'ultron', '2021': 'ant-man', '2022': 'siderman'}\n"
     ]
    }
   ],
   "source": [
    "values=[\"iron man\",\"capitan america\",\"thor\",\"winter soldier\",\"ultron\",\"ant-man\",\"siderman\"]\n",
    "key =[\"2016\",\"2017\",\"2018\",\"2019\",\"2020\",\"2021\",\"2022\"] \n",
    "dic=dict(zip(key,values))\n",
    "print(dic)"
   ]
  },
  {
   "cell_type": "markdown",
   "id": "895402b1",
   "metadata": {},
   "source": [
    "# GRAFICOS"
   ]
  },
  {
   "cell_type": "code",
   "execution_count": 47,
   "id": "319037b6",
   "metadata": {},
   "outputs": [
    {
     "data": {
      "image/png": "[encoded data removed]",
      "text/plain": [
       "<Figure size 432x288 with 1 Axes>"
      ]
     },
     "metadata": {
      "needs_background": "light"
     },
     "output_type": "display_data"
    }
   ],
   "source": [
    "import matplotlib.pyplot as plt\n",
    "\n",
    "plt.plot([0,1,2,3,4,5])\n",
    "plt.show()"
   ]
  },
  {
   "cell_type": "code",
   "execution_count": 49,
   "id": "52381d90",
   "metadata": {},
   "outputs": [
    {
     "name": "stdout",
     "output_type": "stream",
     "text": [
      "0    0\n",
      "1    1\n",
      "2    2\n",
      "3    3\n",
      "4    4\n",
      "5    5\n",
      "dtype: int64\n"
     ]
    },
    {
     "data": {
      "image/png": "[encoded data removed]",
      "text/plain": [
       "<Figure size 432x288 with 1 Axes>"
      ]
     },
     "metadata": {
      "needs_background": "light"
     },
     "output_type": "display_data"
    }
   ],
   "source": [
    "import matplotlib.pyplot as plt\n",
    "import pandas as pd\n",
    "lst=[0,1,2,3,4,5]\n",
    "serie_t=pd.Series(lst)\n",
    "print(serie_t)\n",
    "plt.plot(serie_t)\n",
    "plt.show()"
   ]
  },
  {
   "cell_type": "code",
   "execution_count": 50,
   "id": "d8725cb8",
   "metadata": {},
   "outputs": [
    {
     "data": {
      "image/png": "[encoded data removed]",
      "text/plain": [
       "<Figure size 432x288 with 1 Axes>"
      ]
     },
     "metadata": {
      "needs_background": "light"
     },
     "output_type": "display_data"
    }
   ],
   "source": [
    "import matplotlib.pyplot as plt\n",
    "\n",
    "plt.plot([0,1,2,3,4,5],[6,9,3,8,0,1])\n",
    "plt.show()"
   ]
  },
  {
   "cell_type": "code",
   "execution_count": 51,
   "id": "90c5dc5f",
   "metadata": {},
   "outputs": [
    {
     "data": {
      "image/png": "[encoded data removed]",
      "text/plain": [
       "<Figure size 432x288 with 1 Axes>"
      ]
     },
     "metadata": {
      "needs_background": "light"
     },
     "output_type": "display_data"
    }
   ],
   "source": [
    "import matplotlib.pyplot as plt\n",
    "\n",
    "#puntos(     [x]    ,   [y])\n",
    "plt.plot([0,1,2,3,4],[0,1,4,9,16])# el argumento es lo que va a graficar\n",
    "plt.show()"
   ]
  },
  {
   "cell_type": "code",
   "execution_count": 57,
   "id": "5e3bdf13",
   "metadata": {},
   "outputs": [
    {
     "data": {
      "image/png": "[encoded data removed]",
      "text/plain": [
       "<Figure size 432x288 with 1 Axes>"
      ]
     },
     "metadata": {
      "needs_background": "light"
     },
     "output_type": "display_data"
    }
   ],
   "source": [
    "import matplotlib.pyplot as plt\n",
    "\n",
    "#puntos(     [x]    ,   [y])\n",
    "x=range(101) # lo mismo n=np.arange(0,101)\n",
    "\n",
    "#for i in range x: # esto me crea la lista donde y = x^2\n",
    "#    y[i]=i**2\n",
    "\n",
    "y=[contador**2 for contador in x]\n",
    "\n",
    "\n",
    "plt.plot(x,y,linewidth=5,color=\"red\")# el argumento es lo que va a graficar\n",
    "plt.title(\"grafica de y=x^2\")\n",
    "plt.xlabel(\"entradas\")\n",
    "plt.ylabel(\"salidas\")\n",
    "\n",
    "plt.show()"
   ]
  },
  {
   "cell_type": "code",
   "execution_count": 2,
   "id": "c7278ef7",
   "metadata": {},
   "outputs": [
    {
     "name": "stdout",
     "output_type": "stream",
     "text": [
      "jose       28\n",
      "luis       25\n",
      "jorge      21\n",
      "laurent    17\n",
      "javier     19\n",
      "dtype: int64\n"
     ]
    },
    {
     "data": {
      "image/png": "[encoded data removed]",
      "text/plain": [
       "<Figure size 432x288 with 1 Axes>"
      ]
     },
     "metadata": {
      "needs_background": "light"
     },
     "output_type": "display_data"
    },
    {
     "data": {
      "text/plain": [
       "jose       28\n",
       "luis       25\n",
       "jorge      21\n",
       "laurent    17\n",
       "javier     19\n",
       "dtype: int64"
      ]
     },
     "execution_count": 2,
     "metadata": {},
     "output_type": "execute_result"
    }
   ],
   "source": [
    "import matplotlib.pyplot as plt #lo mismo que : from matplotlib import pyplot as plt\n",
    "import pandas as pd\n",
    "\n",
    "edades={\"jose\":28,\"luis\":25,\"jorge\":21,\"laurent\":17,\"javier\":19}\n",
    "se=pd.Series(edades)\n",
    "print(se)\n",
    "\n",
    "plt.bah(se.index,se.values)\n",
    "plt.show()\n",
    "\n",
    "se"
   ]
  },
  {
   "cell_type": "code",
   "execution_count": null,
   "id": "3246df65",
   "metadata": {},
   "outputs": [],
   "source": []
  }
 ],
 "metadata": {
  "kernelspec": {
   "display_name": "Python 3 (ipykernel)",
   "language": "python",
   "name": "python3"
  },
  "language_info": {
   "codemirror_mode": {
    "name": "ipython",
    "version": 3
   },
   "file_extension": ".py",
   "mimetype": "text/x-python",
   "name": "python",
   "nbconvert_exporter": "python",
   "pygments_lexer": "ipython3",
   "version": "3.9.12"
  }
 },
 "nbformat": 4,
 "nbformat_minor": 5
}
