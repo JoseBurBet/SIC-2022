{
 "cells": [
  {
   "cell_type": "code",
   "execution_count": 9,
   "id": "6d3248b9",
   "metadata": {},
   "outputs": [
    {
     "name": "stdout",
     "output_type": "stream",
     "text": [
      " China                     1395261 000\n",
      " India                   1 375 898 000\n",
      " Estados Unidos            329 071 000\n",
      " Indonesia                 266 614 000\n",
      " Pakistán                  216 823 000\n",
      "                             ...      \n",
      " San Marino                     33 000\n",
      " Palaos                         18 000\n",
      " Nauru                          11 000\n",
      " Tuvalu                         10 000\n",
      " Ciudad del Vaticano               800\n",
      "Length: 194, dtype: object\n"
     ]
    }
   ],
   "source": [
    "#tomado de: https://www.saberespractico.com/demografia/paises-por-poblacion-2019/\n",
    "#https://www.saberespractico.com/demografia/paises-por-poblacion-2022/\n",
    "\n",
    "import numpy as np\n",
    "import pandas as pd\n",
    "import matplotlib.pyplot as plt\n",
    "\n",
    "def open_xlsx(file):\n",
    "    data=pd.read_excel(file) #abre y lee la informacion del archivo de excel\n",
    "    pais=data[\"PAIS\"]       #guarda toda la info en la variable data\n",
    "    a_2019=data[\"A_2019\"]   #busca la columna A_2019 y saca sus valores\n",
    "    a_2022=data[\"A_2022\"]\n",
    "    \n",
    "    lst_pais=list(pais)\n",
    "    lst_a_2019=list(a_2019)  #guardo los valores en una lista\n",
    "    lst_a_2022=list(a_2022)\n",
    "    \n",
    "    return lst_pais,lst_a_2019,lst_a_2022\n",
    "    \n",
    "\n",
    "##############################___MAIN____######################################\n",
    "\n",
    "file=\"data.xlsx\"\n",
    "\n",
    "pais,a_2019,a_2022=open_xlsx(file)\n",
    " \n",
    "#print(a_2022)    \n",
    "\n",
    "dict_2019 = dict(zip(pais,a_2019))\n",
    "dict_2022 = dict(zip(pais,a_2022))\n",
    "\n",
    "#print(dict_2019)\n",
    "\n",
    "s_2019=pd.Series(dict_2019) # lo mismo que s_2019=pd.Series(pais,a_2019)\n",
    "s_2022=pd.Series(dict_2022)\n",
    "\n",
    "print(s_2019)\n",
    "\n"
   ]
  },
  {
   "cell_type": "code",
   "execution_count": null,
   "id": "bf6109d3",
   "metadata": {},
   "outputs": [],
   "source": []
  }
 ],
 "metadata": {
  "kernelspec": {
   "display_name": "Python 3 (ipykernel)",
   "language": "python",
   "name": "python3"
  },
  "language_info": {
   "codemirror_mode": {
    "name": "ipython",
    "version": 3
   },
   "file_extension": ".py",
   "mimetype": "text/x-python",
   "name": "python",
   "nbconvert_exporter": "python",
   "pygments_lexer": "ipython3",
   "version": "3.9.12"
  }
 },
 "nbformat": 4,
 "nbformat_minor": 5
}
