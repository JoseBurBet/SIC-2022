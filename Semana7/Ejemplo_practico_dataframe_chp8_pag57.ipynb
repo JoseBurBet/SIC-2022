{
 "cells": [
  {
   "cell_type": "code",
   "execution_count": 28,
   "id": "ff238017",
   "metadata": {},
   "outputs": [
    {
     "name": "stdout",
     "output_type": "stream",
     "text": [
      "Collecting folium\n",
      "  Downloading folium-0.12.1.post1-py2.py3-none-any.whl (95 kB)\n",
      "Requirement already satisfied: jinja2>=2.9 in c:\\users\\joseb\\anaconda3\\lib\\site-packages (from folium) (2.11.3)\n",
      "Requirement already satisfied: numpy in c:\\users\\joseb\\anaconda3\\lib\\site-packages (from folium) (1.21.5)\n",
      "Requirement already satisfied: requests in c:\\users\\joseb\\anaconda3\\lib\\site-packages (from folium) (2.27.1)\n",
      "Collecting branca>=0.3.0\n",
      "  Downloading branca-0.5.0-py3-none-any.whl (24 kB)\n",
      "Requirement already satisfied: MarkupSafe>=0.23 in c:\\users\\joseb\\anaconda3\\lib\\site-packages (from jinja2>=2.9->folium) (2.0.1)\n",
      "Requirement already satisfied: idna<4,>=2.5 in c:\\users\\joseb\\anaconda3\\lib\\site-packages (from requests->folium) (3.3)\n",
      "Requirement already satisfied: charset-normalizer~=2.0.0 in c:\\users\\joseb\\anaconda3\\lib\\site-packages (from requests->folium) (2.0.4)\n",
      "Requirement already satisfied: urllib3<1.27,>=1.21.1 in c:\\users\\joseb\\anaconda3\\lib\\site-packages (from requests->folium) (1.26.9)\n",
      "Requirement already satisfied: certifi>=2017.4.17 in c:\\users\\joseb\\anaconda3\\lib\\site-packages (from requests->folium) (2021.10.8)\n",
      "Installing collected packages: branca, folium\n",
      "Successfully installed branca-0.5.0 folium-0.12.1.post1\n"
     ]
    }
   ],
   "source": [
    "import sys\n",
    "!{sys.executable} -m pip install folium  #folium para usar maps"
   ]
  },
  {
   "cell_type": "code",
   "execution_count": 40,
   "id": "d1a6693f",
   "metadata": {},
   "outputs": [
    {
     "data": {
      "text/html": [
       "<div style=\"width:100%;\"><div style=\"position:relative;width:100%;height:0;padding-bottom:60%;\"><span style=\"color:#565656\">Make this Notebook Trusted to load map: File -> Trust Notebook</span><iframe srcdoc=\"&lt;!DOCTYPE html&gt;\n",
       "&lt;head&gt;    \n",
       "    &lt;meta http-equiv=&quot;content-type&quot; content=&quot;text/html; charset=UTF-8&quot; /&gt;\n",
       "    \n",
       "        &lt;script&gt;\n",
       "            L_NO_TOUCH = false;\n",
       "            L_DISABLE_3D = false;\n",
       "        &lt;/script&gt;\n",
       "    \n",
       "    &lt;style&gt;html, body {width: 100%;height: 100%;margin: 0;padding: 0;}&lt;/style&gt;\n",
       "    &lt;style&gt;#map {position:absolute;top:0;bottom:0;right:0;left:0;}&lt;/style&gt;\n",
       "    &lt;script src=&quot;https://cdn.jsdelivr.net/npm/leaflet@1.6.0/dist/leaflet.js&quot;&gt;&lt;/script&gt;\n",
       "    &lt;script src=&quot;https://code.jquery.com/jquery-1.12.4.min.js&quot;&gt;&lt;/script&gt;\n",
       "    &lt;script src=&quot;https://maxcdn.bootstrapcdn.com/bootstrap/3.2.0/js/bootstrap.min.js&quot;&gt;&lt;/script&gt;\n",
       "    &lt;script src=&quot;https://cdnjs.cloudflare.com/ajax/libs/Leaflet.awesome-markers/2.0.2/leaflet.awesome-markers.js&quot;&gt;&lt;/script&gt;\n",
       "    &lt;link rel=&quot;stylesheet&quot; href=&quot;https://cdn.jsdelivr.net/npm/leaflet@1.6.0/dist/leaflet.css&quot;/&gt;\n",
       "    &lt;link rel=&quot;stylesheet&quot; href=&quot;https://maxcdn.bootstrapcdn.com/bootstrap/3.2.0/css/bootstrap.min.css&quot;/&gt;\n",
       "    &lt;link rel=&quot;stylesheet&quot; href=&quot;https://maxcdn.bootstrapcdn.com/bootstrap/3.2.0/css/bootstrap-theme.min.css&quot;/&gt;\n",
       "    &lt;link rel=&quot;stylesheet&quot; href=&quot;https://maxcdn.bootstrapcdn.com/font-awesome/4.6.3/css/font-awesome.min.css&quot;/&gt;\n",
       "    &lt;link rel=&quot;stylesheet&quot; href=&quot;https://cdnjs.cloudflare.com/ajax/libs/Leaflet.awesome-markers/2.0.2/leaflet.awesome-markers.css&quot;/&gt;\n",
       "    &lt;link rel=&quot;stylesheet&quot; href=&quot;https://cdn.jsdelivr.net/gh/python-visualization/folium/folium/templates/leaflet.awesome.rotate.min.css&quot;/&gt;\n",
       "    \n",
       "            &lt;meta name=&quot;viewport&quot; content=&quot;width=device-width,\n",
       "                initial-scale=1.0, maximum-scale=1.0, user-scalable=no&quot; /&gt;\n",
       "            &lt;style&gt;\n",
       "                #map_ebba59fe7b61eea800e963f2ca1898d8 {\n",
       "                    position: relative;\n",
       "                    width: 100.0%;\n",
       "                    height: 100.0%;\n",
       "                    left: 0.0%;\n",
       "                    top: 0.0%;\n",
       "                }\n",
       "            &lt;/style&gt;\n",
       "        \n",
       "&lt;/head&gt;\n",
       "&lt;body&gt;    \n",
       "    \n",
       "            &lt;div class=&quot;folium-map&quot; id=&quot;map_ebba59fe7b61eea800e963f2ca1898d8&quot; &gt;&lt;/div&gt;\n",
       "        \n",
       "&lt;/body&gt;\n",
       "&lt;script&gt;    \n",
       "    \n",
       "            var map_ebba59fe7b61eea800e963f2ca1898d8 = L.map(\n",
       "                &quot;map_ebba59fe7b61eea800e963f2ca1898d8&quot;,\n",
       "                {\n",
       "                    center: [9.035826922785125, -79.46946110623047],\n",
       "                    crs: L.CRS.EPSG3857,\n",
       "                    zoom: 13,\n",
       "                    zoomControl: true,\n",
       "                    preferCanvas: false,\n",
       "                }\n",
       "            );\n",
       "\n",
       "            \n",
       "\n",
       "        \n",
       "    \n",
       "            var tile_layer_626b61c1cd2358fbc203bc523f2e5222 = L.tileLayer(\n",
       "                &quot;https://stamen-tiles-{s}.a.ssl.fastly.net/terrain/{z}/{x}/{y}.jpg&quot;,\n",
       "                {&quot;attribution&quot;: &quot;Map tiles by \\u003ca href=\\&quot;http://stamen.com\\&quot;\\u003eStamen Design\\u003c/a\\u003e, under \\u003ca href=\\&quot;http://creativecommons.org/licenses/by/3.0\\&quot;\\u003eCC BY 3.0\\u003c/a\\u003e. Data by \\u0026copy; \\u003ca href=\\&quot;http://openstreetmap.org\\&quot;\\u003eOpenStreetMap\\u003c/a\\u003e, under \\u003ca href=\\&quot;http://creativecommons.org/licenses/by-sa/3.0\\&quot;\\u003eCC BY SA\\u003c/a\\u003e.&quot;, &quot;detectRetina&quot;: false, &quot;maxNativeZoom&quot;: 18, &quot;maxZoom&quot;: 18, &quot;minZoom&quot;: 0, &quot;noWrap&quot;: false, &quot;opacity&quot;: 1, &quot;subdomains&quot;: &quot;abc&quot;, &quot;tms&quot;: false}\n",
       "            ).addTo(map_ebba59fe7b61eea800e963f2ca1898d8);\n",
       "        \n",
       "&lt;/script&gt;\" style=\"position:absolute;width:100%;height:100%;left:0;top:0;border:none !important;\" allowfullscreen webkitallowfullscreen mozallowfullscreen></iframe></div></div>"
      ],
      "text/plain": [
       "<folium.folium.Map at 0x19df3cc5b80>"
      ]
     },
     "execution_count": 40,
     "metadata": {},
     "output_type": "execute_result"
    }
   ],
   "source": [
    "import folium\n",
    "#map=folium.Map(location=[9.016858437114168, -79.50022848301313],zoom_start=13)\n",
    "map=folium.Map(location=[9.035826922785125, -79.46946110623047]\n",
    "               ,zoom_start=13\n",
    "               ,tiles=\"stamen terrain\"\n",
    "              )\n",
    "\n",
    "#centra el mapa en la coordenada,entre mas grande el zoom mas acercamiento\n",
    "\n",
    "map"
   ]
  },
  {
   "cell_type": "markdown",
   "id": "3cc53f43",
   "metadata": {},
   "source": [
    "# QUEDA PENDIENTE: DISPOSITIVA 78(PROFE)/82(ESTUDIANTES) HACER EL EJEMPLO CON MAPAS DE CALOR"
   ]
  },
  {
   "cell_type": "code",
   "execution_count": 49,
   "id": "4bedc141",
   "metadata": {},
   "outputs": [
    {
     "name": "stdout",
     "output_type": "stream",
     "text": [
      "235\n",
      "archivo guardado\n"
     ]
    }
   ],
   "source": [
    "#Ejemplo practico\n",
    "\n",
    "# data sobre las vacunas del covid tomado de https://github.com/owid/covid-19-data/tree/master/public/data/vaccinations\n",
    "\n",
    "import numpy as np\n",
    "import pandas as pd\n",
    "import matplotlib.pyplot as plt\n",
    "from datetime import date,datetime,time,timezone\n",
    "\n",
    "def write_csv(df):\n",
    "    df.to_csv('data_depurada.csv', header=True, index=True)\n",
    "    print(\"archivo guardado\")\n",
    "\n",
    "def open_csv(file):\n",
    "    data=pd.read_csv(file)\n",
    "    #print(type(data))\n",
    "    return data\n",
    "\n",
    "\n",
    "file=\"vaccinations.csv\"\n",
    "df=open_csv(file)\n",
    "\n",
    "\n",
    "#df.drop([\"Survived\",\"Pclass\"],axis=1, inplace =True) #colunmas son axis =1 #eliminar columnas\n",
    "# no lo hago con drop porque en vez de eliminar 12 columnas es mas facil crear un nuevo dt con las 4 que requiero\n",
    "\n",
    "s_date_aux=df[\"date\"]\n",
    "s_entity=df[\"location\"]\n",
    "s_code=df[\"iso_code\"]\n",
    "s_d_v=df[\"daily_vaccinations\"]\n",
    "\n",
    "s_date=pd.to_datetime=(s_date_aux) # convierto date en formato datetime\n",
    "\n",
    "#creo el diccionario de series\n",
    "data={\"date\":s_date,\"entity\":s_entity,\"code\":s_code,\"daily_vaccinations\":s_d_v}\n",
    "\n",
    "#convierto el diccionario en dataframe\n",
    "dt=pd.DataFrame(data)\n",
    "dt.set_index(\"date\",inplace=True) # movimos la columna date para que ahora sea el index\n",
    "\n",
    "print(len(dt[\"entity\"].unique())) #descartamos los valores repetidos y los contamos una sola vez\n",
    "#osea, que 235 son el numero de paises que aparecen en la base de data\n",
    "\n",
    "covid_c=dt.groupby([\"entity\"])#creo grupos para cada pais\n",
    "\n",
    "\n",
    "################################# print de ejemplo, prueba de escritorio###################\n",
    "#for key,group in covid_c:\n",
    "    \n",
    "#    print(\"+key \", key)\n",
    "#    print(\"+number \", len(group))\n",
    "    #print(group.head())\n",
    "#    print(\"\\n\")\n",
    "\n",
    "\n",
    "total_dt=covid_c.sum() #sumo el total de daily_vaccinations de cada pais, osea que el resultado\n",
    "#es el numero total de personas vacunadas\n",
    "\n",
    "total_dt.head() #print de seguimiento \n",
    "\n",
    "\n",
    "#como vamos a usar maps utilizamos la libreria folium -> https://python-visualization.github.io/folium/\n",
    "\n",
    "\n",
    "\n",
    "\n",
    "### ACORDARNOS CAMBIAR EL NOMBRE DE LA COLUMNA VACCCINATIONS \n",
    "write_csv(total_dt)\n",
    "\n",
    "\n",
    "    \n",
    "#dt\n",
    "\n"
   ]
  },
  {
   "cell_type": "code",
   "execution_count": 46,
   "id": "106ba4a4",
   "metadata": {},
   "outputs": [],
   "source": [
    "#COMO CREAR UN ARCHIVO CSV\n",
    "\n",
    "import pandas as pd\n",
    "\n",
    "# Definición diccionario:\n",
    "diccionario = {'pares': [0, 2, 4, 6], 'impares': [1, 3, 5, 7]}\n",
    "\n",
    "# Creación DataFrame:\n",
    "df_numeros = pd.DataFrame(diccionario)\n",
    "\n",
    "# Guarda datos en CSV:\n",
    "df_numeros.to_csv('numeros.csv', header=True, index=False)"
   ]
  },
  {
   "cell_type": "code",
   "execution_count": null,
   "id": "e17f1cd5",
   "metadata": {},
   "outputs": [],
   "source": []
  }
 ],
 "metadata": {
  "kernelspec": {
   "display_name": "Python 3 (ipykernel)",
   "language": "python",
   "name": "python3"
  },
  "language_info": {
   "codemirror_mode": {
    "name": "ipython",
    "version": 3
   },
   "file_extension": ".py",
   "mimetype": "text/x-python",
   "name": "python",
   "nbconvert_exporter": "python",
   "pygments_lexer": "ipython3",
   "version": "3.9.12"
  }
 },
 "nbformat": 4,
 "nbformat_minor": 5
}
