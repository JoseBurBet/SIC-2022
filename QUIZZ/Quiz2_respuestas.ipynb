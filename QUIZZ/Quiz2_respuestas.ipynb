{
 "cells": [
  {
   "cell_type": "markdown",
   "id": "fb27dd15",
   "metadata": {},
   "source": [
    "# Respuestas Quiz 02\n",
    "### recuerden que maneras de programar hay muchas, estos son ejemplos de como podria\n",
    "### haberse resuelto este quiz, recuerden que su calificacion depende de la manera como lo hicieron\n",
    "### y el docente que les evalue"
   ]
  },
  {
   "cell_type": "markdown",
   "id": "70b53426",
   "metadata": {},
   "source": [
    "# Q 2-01"
   ]
  },
  {
   "cell_type": "code",
   "execution_count": 1,
   "id": "9d919194",
   "metadata": {},
   "outputs": [
    {
     "name": "stdout",
     "output_type": "stream",
     "text": [
      "i like pancake\n",
      "i like kiwi juice\n",
      "i like espresso\n",
      "i love pancake\n",
      "i love kiwi juice\n",
      "i love espresso\n"
     ]
    }
   ],
   "source": [
    "l1=[\"i like\",\"i love\"]\n",
    "l2=[\"pancake\",\"kiwi juice\",\"espresso\"]\n",
    "\n",
    "for i in l1:\n",
    "    for j in l2:\n",
    "        print(i,j)"
   ]
  },
  {
   "cell_type": "markdown",
   "id": "ebcfc8cb",
   "metadata": {},
   "source": [
    "# Q 2-02"
   ]
  },
  {
   "cell_type": "code",
   "execution_count": 2,
   "id": "f0e873f9",
   "metadata": {},
   "outputs": [
    {
     "name": "stdout",
     "output_type": "stream",
     "text": [
      "{'Name': 'David Doe', 'Age': 26, 'Weight': 82, 'Job': 'Data Scientist', 'Father': 'John Doe'}\n"
     ]
    }
   ],
   "source": [
    "person={\"Name\":\"David Doe\",\"Age\":26,\"Weight\":82,\"Job\":\"Data Scientist\"}\n",
    "person[\"Father\"]=\"John Doe\"\n",
    "print(person)"
   ]
  },
  {
   "cell_type": "markdown",
   "id": "0e2ee5a7",
   "metadata": {},
   "source": [
    "# Q 2-03"
   ]
  },
  {
   "cell_type": "code",
   "execution_count": 3,
   "id": "4730d9e7",
   "metadata": {},
   "outputs": [
    {
     "name": "stdout",
     "output_type": "stream",
     "text": [
      "lista dada:  [5, 6, 3, 9, 2, 12, 3, 8, 7]\n",
      "se mueve el 12 al ultimo lugar:  [5, 3, 6, 2, 9, 3, 8, 7, 12]\n"
     ]
    }
   ],
   "source": [
    "list=[5,6,3,9,2,12,3,8,7]\n",
    "print(\"lista dada: \", list)\n",
    "\n",
    "for i in range(0,len(list)-1):\n",
    "    if list[i]>list[i+1]:\n",
    "        list[i], list[i+1]=list[i+1] ,list[i]\n",
    "\n",
    "print(\"se mueve el 12 al ultimo lugar: \", list)"
   ]
  },
  {
   "cell_type": "markdown",
   "id": "1c36d8c4",
   "metadata": {},
   "source": [
    "# Q 2-04"
   ]
  },
  {
   "cell_type": "code",
   "execution_count": 4,
   "id": "5eecc825",
   "metadata": {},
   "outputs": [
    {
     "name": "stdout",
     "output_type": "stream",
     "text": [
      "antes del cambio:  [[1, 2], [3, 4], [5, 6]]\n",
      "despues del cambio:  [1, 2, 3, 4, 5, 6]\n"
     ]
    }
   ],
   "source": [
    "my_list=[[1,2],[3,4],[5,6]]\n",
    "print(\"antes del cambio: \",my_list)\n",
    "respuesta=[]\n",
    "for element in my_list:\n",
    "    respuesta+=element\n",
    "print(\"despues del cambio: \" , respuesta)"
   ]
  },
  {
   "cell_type": "markdown",
   "id": "106388e7",
   "metadata": {},
   "source": [
    "# Q 2-05"
   ]
  },
  {
   "cell_type": "code",
   "execution_count": 5,
   "id": "194fc047",
   "metadata": {},
   "outputs": [
    {
     "name": "stdout",
     "output_type": "stream",
     "text": [
      "89.25\n"
     ]
    }
   ],
   "source": [
    "maria={\"korean\":94,\"english\":91,\"matemathics\":89,\"science\":83}\n",
    "average=sum(maria.values())/len(maria)\n",
    "print(average)"
   ]
  },
  {
   "cell_type": "markdown",
   "id": "e9424dac",
   "metadata": {},
   "source": [
    "# Q2-06"
   ]
  },
  {
   "cell_type": "code",
   "execution_count": 6,
   "id": "547ebaa3",
   "metadata": {},
   "outputs": [
    {
     "name": "stdout",
     "output_type": "stream",
     "text": [
      "False\n"
     ]
    }
   ],
   "source": [
    "import copy\n",
    "school={\"kim\":{\"age\":16,\"hei\":170,\"grade\":3},\"lee\":{\"age\":15,\"hei\":168,\"grade\":2},\"choi\":{\"age\":14,\"hei\":173,\"grade\":1}}\n",
    "\n",
    "school2=copy.deepcopy(school)\n",
    "print(school is school2)"
   ]
  },
  {
   "cell_type": "markdown",
   "id": "89794f8c",
   "metadata": {},
   "source": [
    "# Q 2-07"
   ]
  },
  {
   "cell_type": "code",
   "execution_count": 7,
   "id": "45fd50c2",
   "metadata": {},
   "outputs": [
    {
     "name": "stdout",
     "output_type": "stream",
     "text": [
      "(('china', 1391), ('india', 1364), ('estados unidos', 327), ('indonesia', 264))\n"
     ]
    }
   ],
   "source": [
    "paises=(\"china\",\"india\",\"estados unidos\",\"indonesia\")\n",
    "poblaciones=(1391,1364,327,264)\n",
    "tupla_paises = tuple(zip(paises,poblaciones))\n",
    "print(tupla_paises)"
   ]
  }
 ],
 "metadata": {
  "kernelspec": {
   "display_name": "Python 3 (ipykernel)",
   "language": "python",
   "name": "python3"
  },
  "language_info": {
   "codemirror_mode": {
    "name": "ipython",
    "version": 3
   },
   "file_extension": ".py",
   "mimetype": "text/x-python",
   "name": "python",
   "nbconvert_exporter": "python",
   "pygments_lexer": "ipython3",
   "version": "3.9.12"
  }
 },
 "nbformat": 4,
 "nbformat_minor": 5
}
