{
 "cells": [
  {
   "cell_type": "markdown",
   "id": "39a853be",
   "metadata": {},
   "source": [
    "# Respuestas Quiz 3 & 4\n",
    "### recuerden que maneras de programar hay muchas, estos son ejemplos de como podria\n",
    "### haberse resuelto este quiz, recuerden que su calificacion depende de la manera como lo hicieron\n",
    "### y el docente que les evalue"
   ]
  },
  {
   "cell_type": "markdown",
   "id": "d8390a88",
   "metadata": {},
   "source": [
    "# Q 03-01"
   ]
  },
  {
   "cell_type": "code",
   "execution_count": 3,
   "id": "b2c51b31",
   "metadata": {},
   "outputs": [
    {
     "name": "stdout",
     "output_type": "stream",
     "text": [
      "ingrese la coordenada x1: 0\n",
      "ingrese la coordenada y1: 0\n",
      "ingrese la coordenada x2: 3\n",
      "ingrese la coordenada y2: 4\n",
      "la distancia entre los 2 puntos es:  5.0\n"
     ]
    }
   ],
   "source": [
    "def distance(x1,y1,x2,y2):\n",
    "    return((x2-x1)**2+(y2-y1)**2)**0.5\n",
    "x1=int(input(\"ingrese la coordenada x1: \"))\n",
    "y1=int(input(\"ingrese la coordenada y1: \"))\n",
    "x2=int(input(\"ingrese la coordenada x2: \"))\n",
    "y2=int(input(\"ingrese la coordenada y2: \"))\n",
    "\n",
    "print(\"la distancia entre los 2 puntos es: \",distance(x1,y1,x2,y2))"
   ]
  },
  {
   "cell_type": "code",
   "execution_count": null,
   "id": "cf348886",
   "metadata": {},
   "outputs": [],
   "source": []
  }
 ],
 "metadata": {
  "kernelspec": {
   "display_name": "Python 3 (ipykernel)",
   "language": "python",
   "name": "python3"
  },
  "language_info": {
   "codemirror_mode": {
    "name": "ipython",
    "version": 3
   },
   "file_extension": ".py",
   "mimetype": "text/x-python",
   "name": "python",
   "nbconvert_exporter": "python",
   "pygments_lexer": "ipython3",
   "version": "3.9.12"
  }
 },
 "nbformat": 4,
 "nbformat_minor": 5
}
