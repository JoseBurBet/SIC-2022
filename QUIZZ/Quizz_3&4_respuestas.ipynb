{
 "cells": [
  {
   "cell_type": "markdown",
   "id": "39a853be",
   "metadata": {},
   "source": [
    "# Respuestas Quiz 3 & 4\n",
    "### recuerden que maneras de programar hay muchas, estos son ejemplos de como podria\n",
    "### haberse resuelto este quiz, recuerden que su calificacion depende de la manera como lo hicieron\n",
    "### y el docente que les evalue"
   ]
  },
  {
   "cell_type": "markdown",
   "id": "d8390a88",
   "metadata": {},
   "source": [
    "# Q 03-01"
   ]
  },
  {
   "cell_type": "code",
   "execution_count": 1,
   "id": "b2c51b31",
   "metadata": {},
   "outputs": [
    {
     "name": "stdout",
     "output_type": "stream",
     "text": [
      "ingrese la coordenada x1: 3\n",
      "ingrese la coordenada y1: 2\n",
      "ingrese la coordenada x2: 5\n",
      "ingrese la coordenada y2: 6\n",
      "la distancia entre los 2 puntos es:  4.47213595499958\n"
     ]
    }
   ],
   "source": [
    "def distance(x1,y1,x2,y2):\n",
    "    return((x2-x1)**2+(y2-y1)**2)**0.5\n",
    "x1=int(input(\"ingrese la coordenada x1: \"))\n",
    "y1=int(input(\"ingrese la coordenada y1: \"))\n",
    "x2=int(input(\"ingrese la coordenada x2: \"))\n",
    "y2=int(input(\"ingrese la coordenada y2: \"))\n",
    "\n",
    "print(\"la distancia entre los 2 puntos es: \",distance(x1,y1,x2,y2))"
   ]
  },
  {
   "cell_type": "markdown",
   "id": "4a7fb543",
   "metadata": {},
   "source": [
    "# Q 03-02"
   ]
  },
  {
   "cell_type": "code",
   "execution_count": 2,
   "id": "af26272e",
   "metadata": {},
   "outputs": [
    {
     "name": "stdout",
     "output_type": "stream",
     "text": [
      "ingrese una palabra : radar\n",
      "es palindromo\n"
     ]
    }
   ],
   "source": [
    "def is_palindrome(word):\n",
    "    if len(word)<2:\n",
    "        print(\"es palindromo\")\n",
    "        return\n",
    "    if word[0] != word[-1]:\n",
    "        print(\"no es palindromo\")\n",
    "        return\n",
    "    return is_palindrome(word[1:-1])\n",
    "\n",
    "str1=input(\"ingrese una palabra : \")\n",
    "#print(str1[1:-1])\n",
    "is_palindrome(str1)\n",
    "        \n",
    "        "
   ]
  },
  {
   "cell_type": "markdown",
   "id": "3a885d7e",
   "metadata": {},
   "source": [
    "# Q 03-03"
   ]
  },
  {
   "cell_type": "code",
   "execution_count": 3,
   "id": "fd288611",
   "metadata": {},
   "outputs": [
    {
     "name": "stdout",
     "output_type": "stream",
     "text": [
      "elementos duplicados      :  [20, 40, 60]\n",
      "elementos triplicados     :  [30, 60, 90]\n",
      "elementos cuadruplicados  :  [40, 80, 120]\n"
     ]
    }
   ],
   "source": [
    "n_list=[10,20,30]\n",
    "twice_list=list(map(lambda x: x*2,n_list))\n",
    "triple_list=list(map(lambda x: x*3,n_list))\n",
    "cuadra_list=list(map(lambda x: x*4,n_list))\n",
    "print(\"elementos duplicados      : \",twice_list)\n",
    "print(\"elementos triplicados     : \",triple_list)\n",
    "print(\"elementos cuadruplicados  : \",cuadra_list)\n"
   ]
  },
  {
   "cell_type": "markdown",
   "id": "7b8d52b4",
   "metadata": {},
   "source": [
    "# Q 03-04"
   ]
  },
  {
   "cell_type": "code",
   "execution_count": 4,
   "id": "6758634c",
   "metadata": {},
   "outputs": [
    {
     "name": "stdout",
     "output_type": "stream",
     "text": [
      "num vale: 1\n",
      "final vale: <function calc_digit.<locals>.final at 0x000001F13270D1F0>\n",
      "final en el for es : <function calc_digit.<locals>.final at 0x000001F13270D1F0>\n",
      "digit vale: 1\n",
      "1\n",
      "num vale: 2\n",
      "final vale: <function calc_digit.<locals>.final at 0x000001F13270D790>\n",
      "final en el for es : <function calc_digit.<locals>.final at 0x000001F13270D790>\n",
      "digit vale: 4\n",
      "4\n",
      "num vale: 3\n",
      "final vale: <function calc_digit.<locals>.final at 0x000001F13270C280>\n",
      "final en el for es : <function calc_digit.<locals>.final at 0x000001F13270C280>\n",
      "digit vale: 27\n",
      "27\n",
      "num vale: 4\n",
      "final vale: <function calc_digit.<locals>.final at 0x000001F13270CD30>\n",
      "final en el for es : <function calc_digit.<locals>.final at 0x000001F13270CD30>\n",
      "digit vale: 256\n",
      "256\n",
      "num vale: 5\n",
      "final vale: <function calc_digit.<locals>.final at 0x000001F13270E820>\n",
      "final en el for es : <function calc_digit.<locals>.final at 0x000001F13270E820>\n",
      "digit vale: 3125\n",
      "3125\n",
      "_________________-\n",
      "[<function calc_digit.<locals>.final at 0x000001F13270D1F0>, <function calc_digit.<locals>.final at 0x000001F13270D790>, <function calc_digit.<locals>.final at 0x000001F13270C280>, <function calc_digit.<locals>.final at 0x000001F13270CD30>, <function calc_digit.<locals>.final at 0x000001F13270E820>]\n"
     ]
    }
   ],
   "source": [
    "def calc_digit(n):  \n",
    "    def final(digit):  #se define y se llama la funcion final que eleva el numero n^n\n",
    "        print(\"digit vale:\",digit**n)\n",
    "        return digit**n \n",
    "    print(\"final vale:\",final)  #retorna n^n\n",
    "    return final \n",
    "\n",
    "num_list=[] #crea una lista vacia\n",
    "for num in range(1,6): #recorre los posibles valores[1,2,3,4,5]\n",
    "    print(\"num vale:\",num)\n",
    "    num_list.append(calc_digit(num)) #agrega uno a uno los resultados de n^n a la lista\n",
    "    print(\"final en el for es :\",num_list[num-1] )\n",
    "    \n",
    "    print(num_list[num-1](num)) # es lo mismo que print(final(num)) # proceso= function calc_digit.<locals>.final at 0x000001E8395028B0(num)\n",
    "                                # se llama un proceso de manera recursiva\n",
    "    \n",
    "print(\"_________________-\")\n",
    "print(num_list)\n",
    "    \n",
    "#prueba de escritorio:\n",
    "\n",
    "#el programa da los resultados de una lista de valores n^n\n",
    "#agrego prints para ir haciendo seguimeinto al codigo\n",
    "#viendo los print me doy cuenta en que orden se ejecuta el codigo, de manera que\n",
    "#puedo observar que es una llamada recursiva a un proceso\n"
   ]
  },
  {
   "cell_type": "markdown",
   "id": "186cce55",
   "metadata": {},
   "source": [
    "# Q 03-05"
   ]
  },
  {
   "cell_type": "code",
   "execution_count": 5,
   "id": "4f83bacf",
   "metadata": {},
   "outputs": [
    {
     "name": "stdout",
     "output_type": "stream",
     "text": [
      "v1*v2 =  300,800\n",
      "v1/v2 =  3.0,2.0\n"
     ]
    }
   ],
   "source": [
    "class vector2D:\n",
    "    def __init__(self,x,y):\n",
    "        self.x=x\n",
    "        self.y=y\n",
    "    def __str__(self):\n",
    "        return \"{},{}\".format(self.x,self.y)\n",
    "    def __mul__(self,other):\n",
    "        return vector2D(self.x*other.x,self.y*other.y)\n",
    "    def __truediv__(self,other):\n",
    "        return vector2D(self.x/other.x,self.y/other.y)\n",
    "\n",
    "v1= vector2D(30,40)\n",
    "v2= vector2D(10,20)\n",
    "v3= v1*v2 # V3=v3.__mul__(v1,v2)\n",
    "v4= v1/v2\n",
    "print(\"v1*v2 = \",v3)\n",
    "print(\"v1/v2 = \",v4)\n"
   ]
  },
  {
   "cell_type": "markdown",
   "id": "ab91c1ee",
   "metadata": {},
   "source": [
    "# Q 04-01"
   ]
  },
  {
   "cell_type": "code",
   "execution_count": null,
   "id": "3e32f0c1",
   "metadata": {},
   "outputs": [],
   "source": [
    "Antes de comenzar les dejo 2 links para aprender sobre stack()\n",
    "#LINK 1 : https://www.geeksforgeeks.org/stack-in-python/#:~:text=A%20stack%20is%20a%20linear,often%20called%20push%20and%20pop.\n",
    "#LINK 2 : https://realpython.com/how-to-implement-python-stack/\n",
    "\n",
    "NO ejecuto el codigo, se que no va a funcionar porque  Stack() no esta definido\n",
    "\n",
    "stack= Stack()\n",
    "stack.push(\"banana\")\n",
    "stack.push(\"apple\")\n",
    "stack.push(\"tomato\")\n",
    "stack.pop()\n",
    "stack.push(\"strawberry\")\n",
    "stack.push(\"grapes\")\n",
    "stack.pop()\n",
    "print(stack.stack)\n",
    "\n",
    "#______________________________________Solucion________________________________\n",
    "\n",
    "#_____________investigacion___________\n",
    "\n",
    "en el link1 pueden encontrar estas funciones, escribi en google stack() y es de los primeros \n",
    "ejemplos que encontre, aqui se ejemplifica una funcion push y una funcion pop\n",
    "\n",
    "\n",
    "# Push a value into the stack.\n",
    "    def push(self, value):\n",
    "        node = Node(value)\n",
    "        node.next = self.head.next\n",
    "        self.head.next = node\n",
    "        self.size += 1\n",
    " \n",
    "    # Remove a value from the stack and return.\n",
    "    def pop(self):\n",
    "        if self.isEmpty():\n",
    "            raise Exception(\"Popping from an empty stack\")\n",
    "        remove = self.head.next\n",
    "        self.head.next = self.head.next.next\n",
    "        self.size -= 1\n",
    "        return remove.value\n",
    "\n",
    "viendo estas dos funciones me puedo dar cuenta que push agrega values y pop los elimina\n",
    "    \n",
    "    \n",
    "#_____________prueba de escritorio___________\n",
    "\n",
    "stack= Stack() #crea un objeto de la clase Stack\n",
    "stack.push(\"banana\") #agrega el nuevo item\n",
    "stack.push(\"apple\") #agrega el nuevo item\n",
    "stack.push(\"tomato\") #agrega el nuevo item\n",
    "stack.pop() # elimina el ultimo item\n",
    "stack.push(\"strawberry\") #agrega el nuevo item\n",
    "stack.push(\"grapes\") #agrega el nuevo item\n",
    "stack.pop() # elimina el ultimo item\n",
    "print(stack.stack) # imprime el stack\n",
    "\n",
    "entonces seria algo como esto (viendolo como una lista) -> en el link 2 hay un ejemplo de push y pop\n",
    "\n",
    "banana\n",
    "banana,apple\n",
    "banana,apple,tomato\n",
    "banana,apple\n",
    "banana,apple,strawberry\n",
    "banana,apple,strawberry,grapes\n",
    "banana,apple,strawberry"
   ]
  },
  {
   "cell_type": "markdown",
   "id": "a7944ae5",
   "metadata": {},
   "source": [
    "# Q 04-02"
   ]
  },
  {
   "cell_type": "code",
   "execution_count": 6,
   "id": "8f2f6ca6",
   "metadata": {},
   "outputs": [
    {
     "name": "stdout",
     "output_type": "stream",
     "text": [
      "[10, 20, 30, 40, 50, 60, 70, 80, 90]\n",
      "agrego  10\n",
      "agrego  20\n",
      "elimino  20\n",
      "agrego  30\n",
      "agrego  40\n",
      "elimino  40\n",
      "agrego  50\n",
      "agrego  60\n",
      "elimino  60\n",
      "agrego  70\n",
      "agrego  80\n",
      "elimino  80\n",
      "agrego  90\n"
     ]
    }
   ],
   "source": [
    "#como prueba de escritorio hago una prueba como si fuera lista, para ver que hace mi codigo\n",
    "\n",
    "items=[10 *i for i in range(1,10)]\n",
    "print(items)\n",
    "\n",
    "for item in items:\n",
    "    #stack.push(item) #agrega item\n",
    "    print(\"agrego \",item) \n",
    "    if(item//10)%2==0:\n",
    "        #stack.pop() #si el item es multiplo de 20 lo elimina\n",
    "        print(\"elimino \",item)\n",
    "\n",
    "# puedo observar que agrega los elementos de la lista pero elimina los multiplos de 20"
   ]
  },
  {
   "cell_type": "code",
   "execution_count": null,
   "id": "89470439",
   "metadata": {},
   "outputs": [],
   "source": [
    "# entonces el resultado del problema es:\n",
    "\n",
    "stack=Stack()\n",
    "items=[10 *i for i in range(1,10)]\n",
    "for item in items:\n",
    "    stack.push(item) #Agrega el item\n",
    "    if(item//10)%2==0:\n",
    "        stack.pop()  #elimina el ultimo item!!! ->OJO!! IMPORTANTE\n",
    "print(stack.stack) \n",
    "\n",
    "# EL STACK ES = 10,30,50,70,90"
   ]
  },
  {
   "cell_type": "markdown",
   "id": "75702ff5",
   "metadata": {},
   "source": [
    "# Q 04-03"
   ]
  },
  {
   "cell_type": "code",
   "execution_count": null,
   "id": "74b45d51",
   "metadata": {},
   "outputs": [],
   "source": [
    "NO ejecuto el codigo, se que no va a funcionar porque  Queue() no esta definido\n",
    "\n",
    "# investigo sobre queue: https://www.geeksforgeeks.org/queue-in-python/\n",
    "#alli observo que :\n",
    "\n",
    "# **Enqueue: Adds an item to the queue.\n",
    "# **Dequeue: Removes an item from the queue. \n",
    "#            The items are popped in the same order in which they are pushed\n",
    "\n",
    "\n",
    "\n",
    "queue=Queue()\n",
    "items=[10 *i for i in range(1,11)]\n",
    "for item in items:\n",
    "    queue.enqueue(item) #Agrega el item\n",
    "    if(item//10)%2==0:\n",
    "        queue.dequeue() #Elimina el primer item!! ->OJO!! IMPORTANTE\n",
    "print(queue.queue)\n",
    "\n",
    "#_______________\n",
    "quedaria entonces esto: (similar al punto 04-02)\n",
    "\n",
    "[10, 20, 30, 40, 50, 60, 70, 80, 90] #lista original\n",
    "agrego  10             #10\n",
    "agrego  20             #10,20\n",
    "elimino  10            #20\n",
    "agrego  30             #20,30\n",
    "agrego  40             #20,30,40\n",
    "elimino  20            #30,40\n",
    "agrego  50             #30,40,50\n",
    "agrego  60             #30,40,50,60\n",
    "elimino  30            #40,50,60\n",
    "agrego  70             #40,50,60,70\n",
    "agrego  80             #40,50,60,70,80\n",
    "elimino  40            #50,60,70,80\n",
    "agrego  90             #50,60,70,80,90\n",
    "agrego  100            #50,60,70,80,90,100 \n",
    "elimino  50            #60,70,80,90,100 \n",
    "\n",
    "# EL QUEUE ES = 60,70,80,90,100"
   ]
  },
  {
   "cell_type": "markdown",
   "id": "4e660c77",
   "metadata": {},
   "source": [
    "# RESUMEN DE STACK Y QUEUE"
   ]
  },
  {
   "cell_type": "code",
   "execution_count": null,
   "id": "96020f91",
   "metadata": {},
   "outputs": [],
   "source": [
    "#Tomado de: \n",
    "# http://profesores.elo.utfsm.cl/~agv/elo320/01and02/dataStructures/stacksQueueListTree.pdf\n",
    "\n",
    "Stacks y Queues\n",
    "• Los stacks y las queues son conjuntos dinámicos en los que el elemento removido por\n",
    "    Delete está predefinido.\n",
    "#______________________________DIFERENCIA!!!!!_______________________________________\n",
    "\n",
    "• En stacks sólo se puede remover el elemento más recientemente insertado. Implementa\n",
    "    así una política last-in, first-out o LIFO.\n",
    "• Las queues sólo pueden remover el elemento más antiguo del conjunto. Implementa una\n",
    "    política first-in, first-out o FIFO.\n",
    "#______________________________________________________________________________________\n",
    "    \n",
    "    \n",
    "    • Stacks\n",
    "        – La operación Insert es llamada aquí PUSH.\n",
    "        – La operación Delete es llamada POP.\n",
    "        – Si se hace un pop de un stack vacío, decimos que hay un underflow, \n",
    "            lo cual es un error de programa.\n",
    "        – Si la implementación de el stack posee un límite para el número de elementos \n",
    "            y éste se excede, decimos que hay un overflow. También es un error.\n",
    "        – Se incorpora la función TOP que retorna el valor más reciente sin modificar el stack.\n",
    "\n",
    "        \n",
    "    • Queues\n",
    "        – La operación Insert es llamada Enqueue.\n",
    "        – La operación Delete es llamada Dequeue.\n",
    "        – Cada queue tiene una head (cabeza) y una tail (cola).\n",
    "        – También se pueden producir las condiciones de overflow y underflow cuando la\n",
    "            implementación tiene capacidad limitada.\n",
    "        – Se incorpora la función Head que retorna el valor más antiguo de la cola."
   ]
  },
  {
   "cell_type": "markdown",
   "id": "7459ba04",
   "metadata": {},
   "source": [
    "# Q 04-04"
   ]
  },
  {
   "cell_type": "code",
   "execution_count": 7,
   "id": "f9836c94",
   "metadata": {},
   "outputs": [
    {
     "name": "stdout",
     "output_type": "stream",
     "text": [
      "59 11\n"
     ]
    }
   ],
   "source": [
    "def find_two(nums):\n",
    "    x=y=0  #son las posiciones para comparar\n",
    "    for i in range(1,len(nums)):\n",
    "        if nums[x]<nums[i]: #compara si el numero en la posicion x es menor que los otros\n",
    "            x=i             #guarda el index de la ubicacion de ese numero\n",
    "        elif nums[y]>nums[i]: #compara si el numero en la posicion x es mayor que los otros\n",
    "            y=i             #guarda el index de la ubicacion de ese numero\n",
    "    return x,y\n",
    "nums=[11,37,45,26,59,28,17,53]\n",
    "i,j=find_two(nums)\n",
    "print(nums[i],nums[j]) #imprime los valores segun la posicion que guardo anteriormente\n",
    "\n",
    "#al ejecutar se puede observar que entrega los numeros mayor y menor respectivamente,\n",
    "#donde:\n",
    "#    i corresponde a la posicion del numero mayor\n",
    "#    j corresponde a la posicion del numero menor\n"
   ]
  },
  {
   "cell_type": "markdown",
   "id": "552cdbed",
   "metadata": {},
   "source": [
    "# Q 04-05"
   ]
  },
  {
   "cell_type": "code",
   "execution_count": null,
   "id": "ed7ea997",
   "metadata": {},
   "outputs": [],
   "source": [
    "def find_two(nums):\n",
    "    x=y=0  \n",
    "    for i in range(1,len(nums)):\n",
    "        if nums[x]<nums[i]: #------> comparacion 1\n",
    "            x=i             \n",
    "        elif nums[y]>nums[i]: #------> comparacion 2\n",
    "            y=i             \n",
    "    return x,y\n",
    "nums=[11,37,45,26,59,28,17,53]\n",
    "i,j=find_two(nums)\n",
    "print(nums[i],nums[j])\n",
    "\n",
    "\n",
    "¿Cuántas comparaciones debe realizar\n",
    "la función find_two() implementada en la pregunta anterior (Q.04-04)?\n",
    "\n",
    "El algoritmo anterior compara n-1 elementos, dado que hace 2 comparaciones \n",
    "para cada contador el numero total de comparaciones viene dado por:\n",
    "2*(n-1) =2n-2\n",
    "la lista tiene 8 elementos -> n=8\n",
    "osea que en total compara 2*8-2 = 14 veces"
   ]
  },
  {
   "cell_type": "markdown",
   "id": "f6c8beae",
   "metadata": {},
   "source": [
    "# Q 04-06"
   ]
  },
  {
   "cell_type": "code",
   "execution_count": 10,
   "id": "437b145b",
   "metadata": {},
   "outputs": [
    {
     "name": "stdout",
     "output_type": "stream",
     "text": [
      "ingrese el numero maximo: 100\n",
      "ingrese el numero a adivinar: 51\n",
      "tu numero es 51.\n",
      "se buscaron 6 veces.\n"
     ]
    }
   ],
   "source": [
    "from random import randint\n",
    "\n",
    "maximum=int(input(\"ingrese el numero maximo: \"))\n",
    "number=int(input(\"ingrese el numero a adivinar: \"))\n",
    "count=0\n",
    "low,high=1,maximum\n",
    "while low<high:\n",
    "    mid=(low+high)//2\n",
    "    count+=1\n",
    "    if mid==number:\n",
    "        print(f\"tu numero es {number}.\")\n",
    "        break\n",
    "    elif mid>number:\n",
    "        high = mid-1\n",
    "    else:\n",
    "        low=mid+1\n",
    "print(f\"se buscaron {count} veces.\")"
   ]
  },
  {
   "cell_type": "markdown",
   "id": "dfb946bd",
   "metadata": {},
   "source": [
    "# Q 04-07"
   ]
  },
  {
   "cell_type": "code",
   "execution_count": 11,
   "id": "13094eb8",
   "metadata": {},
   "outputs": [
    {
     "name": "stdout",
     "output_type": "stream",
     "text": [
      "ingrese el numero maximo: 100\n",
      "ingrese el numero a adivinar: 25\n",
      "tu numero es 25.\n",
      "se buscaron 2 veces.\n"
     ]
    }
   ],
   "source": [
    "maximum=int(input(\"ingrese el numero maximo: \"))\n",
    "number=int(input(\"ingrese el numero a adivinar: \"))\n",
    "count=0\n",
    "low,high=1,maximum\n",
    "while low<high:\n",
    "    mid=(low+high)//2\n",
    "    count+=1\n",
    "    if mid==number:\n",
    "        print(f\"tu numero es {number}.\")\n",
    "        break\n",
    "    elif mid>number:\n",
    "        high = mid-1\n",
    "    else:\n",
    "        low=mid+1\n",
    "print(f\"se buscaron {count} veces.\")"
   ]
  },
  {
   "cell_type": "markdown",
   "id": "681dd320",
   "metadata": {},
   "source": [
    "# Q 04-08"
   ]
  },
  {
   "cell_type": "code",
   "execution_count": 37,
   "id": "c67404ff",
   "metadata": {},
   "outputs": [
    {
     "name": "stdout",
     "output_type": "stream",
     "text": [
      "0x1f1350e73b0\n"
     ]
    }
   ],
   "source": [
    "# toda la informacion neccesaria se encuentra en \n",
    "# https://pythondiario.com/2018/06/tabla-hash-en-python.html \n",
    "\n",
    "#Basado en el ejemplo de hash_table encontrado en el link, \n",
    "#se construye la solucion al problema de la sigueinte manera:\n",
    "\n",
    "#copio, pego y ENTIENDO como funciona\n",
    "\n",
    "class hash_table:\n",
    "    def __init__(self): # constructor\n",
    "        self.table = [None] * 127\n",
    "    \n",
    "    # Función hash\n",
    "    def Hash_func(self, value): #crea la clave\n",
    "        key = 0\n",
    "        for i in range(0,len(value)):\n",
    "            key += ord(value[i])\n",
    "        return key % 127\n",
    "\n",
    "    def Insert(self, value): # Metodo para ingresar elementos\n",
    "        hash = self.Hash_func(value)\n",
    "        if self.table[hash] is None:\n",
    "            self.table[hash] = value\n",
    "   \n",
    "    def Search(self,value): # Metodo para buscar elementos\n",
    "        hash = self.Hash_func(value);\n",
    "        if self.table[hash] is None:\n",
    "            return None\n",
    "        else:\n",
    "            return hex(id(self.table[hash]))\n",
    "  \n",
    "    def Remove(self,value): # Metodo para eleminar elementos\n",
    "        hash = self.Hash_func(value);\n",
    "        if self.table[hash] is None:\n",
    "            print(\"No hay elementos con ese valor\", value)\n",
    "        else:\n",
    "            print(\"Elemento con valor\", value, \"eliminado\")\n",
    "            self.table[hash] is None;\n",
    "        \n",
    "        \n",
    "H = hash_table() # creo la tabla\n",
    "#H.Insert(\"A\")\n",
    "#H.Insert(\"B\")\n",
    "#H.Insert(\"C\")\n",
    "#print(H.Search(\"B\"))\n",
    "\n",
    "#ingreso la clave \"Alicia en el país de las maravillas\"\n",
    "H.Insert(\"Alicia en el país de las maravillas\")\n",
    "\n",
    "#obtengo la clave hash al buscar\n",
    "print(H.Search(\"Alicia en el país de las maravillas\"))\n",
    "\n",
    "\n"
   ]
  },
  {
   "cell_type": "markdown",
   "id": "11c25733",
   "metadata": {},
   "source": [
    "# Q 04-09"
   ]
  },
  {
   "cell_type": "code",
   "execution_count": null,
   "id": "41880faa",
   "metadata": {},
   "outputs": [],
   "source": [
    "# hago prueba de escritorio, miro que hace cada linea\n",
    "\n",
    "table =HashTable(10) #crea la tabla con 10 elementos\n",
    "books=[\n",
    "    \"the little prince\",\n",
    "    \"the old man and the sea\",\n",
    "    \"the little mermaid\",\n",
    "    \"beauty and the beast\",\n",
    "    \"the last leaf\",\n",
    "    \"alice in wonderland\" ] \n",
    "#crea la lista de libros que se guardaran en la tabla, hay menos libros que espacios en la tabla\n",
    "\n",
    "for book in books:\n",
    "    key=sum(map(ord,book)) #define la key y el lugar donde se guarda\n",
    "    table.put(key,book)    #asigna lso pares key,book en la tabla\n",
    "for key in table.table.keys(): #para todas las posibles key imprime que libro hay\n",
    "                                #recordemos que hay espacios vacios\n",
    "    print(key,table.table[key]) #imprime la key y el libro si es que hay"
   ]
  },
  {
   "cell_type": "code",
   "execution_count": 42,
   "id": "97dbc7c9",
   "metadata": {},
   "outputs": [
    {
     "name": "stdout",
     "output_type": "stream",
     "text": [
      "0 ['the little prince']\n",
      "1 ['beauty and the beast']\n",
      "2 []\n",
      "3 []\n",
      "4 ['the little mermaid']\n",
      "5 []\n",
      "6 []\n",
      "7 ['the old man and the sea']\n",
      "8 []\n",
      "9 ['the last leaf', 'alice in wonderland']\n"
     ]
    }
   ],
   "source": [
    "#chp 4 page 247 modulo c&p\n",
    "\n",
    "class HashTable:\n",
    "    \n",
    "    def __init__(self,size):\n",
    "        self.size=size\n",
    "        self.table={}\n",
    "        for i in range(size):\n",
    "            self.table[i]=[]\n",
    "    \n",
    "    def hash(self,key):\n",
    "        return key % self.size\n",
    "    \n",
    "    def get(self,key):\n",
    "        return self.table[self.hash(key)]\n",
    "    \n",
    "    def put(self,key,value):\n",
    "        bucket=self.table[self.hash(key)]\n",
    "        if value not in bucket:\n",
    "            bucket.append(value)\n",
    "            \n",
    "            \n",
    "table =HashTable(10) #crea la tabla con 10 elementos\n",
    "books=[\n",
    "    \"the little prince\",\n",
    "    \"the old man and the sea\",\n",
    "    \"the little mermaid\",\n",
    "    \"beauty and the beast\",\n",
    "    \"the last leaf\",\n",
    "    \"alice in wonderland\" ] \n",
    "#crea la lista de libros que se guardaran en la tabla, hay menos libros que espacios en la tabla\n",
    "\n",
    "for book in books:\n",
    "    key=sum(map(ord,book)) #define la key y el lugar donde se guarda\n",
    "    table.put(key,book)    #asigna lso pares key,book en la tabla\n",
    "for key in table.table.keys(): #para todas las posibles key imprime que libro hay\n",
    "                                #recordemos que hay espacios vacios\n",
    "    print(key,table.table[key]) #imprime la key y el libro si es que hay    \n",
    "\n"
   ]
  },
  {
   "cell_type": "code",
   "execution_count": null,
   "id": "9a5a982d",
   "metadata": {},
   "outputs": [],
   "source": []
  }
 ],
 "metadata": {
  "kernelspec": {
   "display_name": "Python 3 (ipykernel)",
   "language": "python",
   "name": "python3"
  },
  "language_info": {
   "codemirror_mode": {
    "name": "ipython",
    "version": 3
   },
   "file_extension": ".py",
   "mimetype": "text/x-python",
   "name": "python",
   "nbconvert_exporter": "python",
   "pygments_lexer": "ipython3",
   "version": "3.9.12"
  }
 },
 "nbformat": 4,
 "nbformat_minor": 5
}
