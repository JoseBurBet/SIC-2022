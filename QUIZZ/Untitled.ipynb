{
 "cells": [
  {
   "cell_type": "code",
   "execution_count": 37,
   "id": "27148407",
   "metadata": {},
   "outputs": [
    {
     "name": "stdout",
     "output_type": "stream",
     "text": [
      "Ingrese una cadena: radar\n",
      "La cadena es Palindroma\n"
     ]
    }
   ],
   "source": [
    "\n",
    "def is_palindrome(text):\n",
    "  text = text.replace(\" \", \"\")\n",
    "  if len(text) < 1:\n",
    "    return True\n",
    "  else:\n",
    "    if text[0] == text[-1]:\n",
    "      return is_palindrome(text[1:-1])\n",
    "    else: return False\n",
    "\n",
    "texto=str(input(\"Ingrese una cadena: \"))\n",
    "\n",
    "if(is_palindrome(texto)==True):\n",
    "  print(\"La cadena es Palindroma\")\n",
    "else: print(\"La cadena no es Palindroma\")\n",
    "\n"
   ]
  },
  {
   "cell_type": "code",
   "execution_count": null,
   "id": "a3806b2b",
   "metadata": {},
   "outputs": [],
   "source": [
    "#Q05-03 pendiente ejemplo\n",
    "\n",
    "\n",
    "# MergeSort in Python\n",
    "# https://www.programiz.com/dsa/merge-sort\n",
    "\n",
    "def mergeSort(array):\n",
    "    if len(array) > 1:\n",
    "\n",
    "        #  r is the point where the array is divided into two subarrays\n",
    "        r = len(array)//2\n",
    "        L = array[:r]\n",
    "        M = array[r:]\n",
    "\n",
    "        # Sort the two halves\n",
    "        mergeSort(L)\n",
    "        mergeSort(M)\n",
    "\n",
    "        i = j = k = 0\n",
    "\n",
    "        # Until we reach either end of either L or M, pick larger among\n",
    "        # elements L and M and place them in the correct position at A[p..r]\n",
    "        while i < len(L) and j < len(M):\n",
    "            if L[i] < M[j]:\n",
    "                array[k] = L[i]\n",
    "                i += 1\n",
    "            else:\n",
    "                array[k] = M[j]\n",
    "                j += 1\n",
    "            k += 1\n",
    "\n",
    "        # When we run out of elements in either L or M,\n",
    "        # pick up the remaining elements and put in A[p..r]\n",
    "        while i < len(L):\n",
    "            array[k] = L[i]\n",
    "            i += 1\n",
    "            k += 1\n",
    "\n",
    "        while j < len(M):\n",
    "            array[k] = M[j]\n",
    "            j += 1\n",
    "            k += 1\n",
    "\n",
    "\n",
    "# Print the array\n",
    "def printList(array):\n",
    "    for i in range(len(array)):\n",
    "        print(array[i], end=\" \")\n",
    "    print()\n",
    "\n",
    "    # _________________________________MAIN________________________\n",
    "\n",
    "# Driver program\n",
    "if __name__ == '__main__':\n",
    "    array = [6, 5, 12, 10, 9, 1]\n",
    "\n",
    "    mergeSort(array)\n",
    "\n",
    "    print(\"Sorted array is: \")\n",
    "    printList(array)"
   ]
  }
 ],
 "metadata": {
  "kernelspec": {
   "display_name": "Python 3 (ipykernel)",
   "language": "python",
   "name": "python3"
  },
  "language_info": {
   "codemirror_mode": {
    "name": "ipython",
    "version": 3
   },
   "file_extension": ".py",
   "mimetype": "text/x-python",
   "name": "python",
   "nbconvert_exporter": "python",
   "pygments_lexer": "ipython3",
   "version": "3.9.12"
  }
 },
 "nbformat": 4,
 "nbformat_minor": 5
}
