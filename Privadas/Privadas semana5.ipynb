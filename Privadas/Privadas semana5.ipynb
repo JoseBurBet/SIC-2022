{
 "cells": [
  {
   "cell_type": "markdown",
   "id": "29801ffd",
   "metadata": {},
   "source": [
    "# maneras de importar librerias o funciones de librerias"
   ]
  },
  {
   "cell_type": "code",
   "execution_count": null,
   "id": "874dc700",
   "metadata": {},
   "outputs": [],
   "source": [
    "import math # de esta manera llamo toda la libreria \n",
    "math.factorial(5)\n",
    "math.sin(1234)\n",
    "\n",
    "\n"
   ]
  },
  {
   "cell_type": "code",
   "execution_count": null,
   "id": "26bba1b0",
   "metadata": {},
   "outputs": [],
   "source": [
    "import math as m\n",
    "m.sin(1234)"
   ]
  },
  {
   "cell_type": "code",
   "execution_count": null,
   "id": "38710efd",
   "metadata": {},
   "outputs": [],
   "source": [
    "from math import sin , cos, tan\n",
    "\n",
    "sin(1234)\n",
    "factorial(5)"
   ]
  },
  {
   "cell_type": "code",
   "execution_count": 2,
   "id": "1a50d622",
   "metadata": {},
   "outputs": [
    {
     "name": "stdout",
     "output_type": "stream",
     "text": [
      "la prueba funciona\n"
     ]
    }
   ],
   "source": [
    "#manera de importar funciones desde una libreria\n",
    "from test import saludo # asi llamo funciones de archivos que yo haya creado \n",
    "\n",
    "saludo()"
   ]
  },
  {
   "cell_type": "markdown",
   "id": "8254ecfe",
   "metadata": {},
   "source": [
    "# libreria time"
   ]
  },
  {
   "cell_type": "code",
   "execution_count": 4,
   "id": "90772842",
   "metadata": {},
   "outputs": [
    {
     "name": "stdout",
     "output_type": "stream",
     "text": [
      "segundos =  0\n",
      "segundos =  1\n",
      "segundos =  2\n",
      "segundos =  3\n",
      "segundos =  4\n",
      "segundos =  5\n",
      "segundos =  6\n",
      "segundos =  7\n",
      "segundos =  8\n",
      "segundos =  9\n"
     ]
    }
   ],
   "source": [
    "import time \n",
    "\n",
    "for i in range(10):\n",
    "    print(\"segundos = \", i)\n",
    "    time.sleep(1) # delay, un tiempo de espera en segundos"
   ]
  },
  {
   "cell_type": "code",
   "execution_count": 5,
   "id": "38457c18",
   "metadata": {},
   "outputs": [
    {
     "name": "stdout",
     "output_type": "stream",
     "text": [
      "Fri Sep 16 19:40:28 2022\n",
      "Fri Sep 16 19:40:29 2022\n",
      "Fri Sep 16 19:40:30 2022\n",
      "Fri Sep 16 19:40:31 2022\n",
      "Fri Sep 16 19:40:32 2022\n",
      "Fri Sep 16 19:40:33 2022\n",
      "Fri Sep 16 19:40:34 2022\n",
      "Fri Sep 16 19:40:35 2022\n",
      "Fri Sep 16 19:40:36 2022\n",
      "Fri Sep 16 19:40:37 2022\n"
     ]
    }
   ],
   "source": [
    "import time\n",
    "\n",
    "for i in range (10):\n",
    "    time.sleep(1)\n",
    "    print(time.ctime())"
   ]
  },
  {
   "cell_type": "code",
   "execution_count": 19,
   "id": "aec087cd",
   "metadata": {},
   "outputs": [
    {
     "name": "stdout",
     "output_type": "stream",
     "text": [
      "00:54:19 2022-09-17 \n",
      "2022-09-16 19:54:19\n",
      "['2022-09-16', '19:54:19']\n",
      "['2022', '09', '16']\n",
      "['19', '54', '19']\n"
     ]
    }
   ],
   "source": [
    "from time import gmtime, strftime, localtime \n",
    "\n",
    "print(strftime(\"%H:%M:%S %Y-%m-%d \",gmtime()))\n",
    "print(strftime(\"%Y-%m-%d %H:%M:%S\",localtime()))\n",
    "\n",
    "transferencia=str(strftime(\"%Y-%m-%d %H:%M:%S\",localtime()))\n",
    "\n",
    "tra=transferencia.split(sep=\" \")\n",
    "print(tra)\n",
    "\n",
    "hora=tra[1].split(sep=\":\")\n",
    "fecha=tra[0].split(sep=\"-\")\n",
    "print(fecha)\n",
    "print(hora)\n",
    "\n"
   ]
  },
  {
   "cell_type": "code",
   "execution_count": 22,
   "id": "763fa503",
   "metadata": {},
   "outputs": [
    {
     "name": "stdout",
     "output_type": "stream",
     "text": [
      "2022-09-16 19:57:46.837606\n",
      "19\n",
      "16\n",
      "<class 'datetime.datetime'>\n"
     ]
    }
   ],
   "source": [
    "from datetime import datetime\n",
    "\n",
    "actual=datetime.now()\n",
    "print(actual)\n",
    "print(actual.hour)\n",
    "print(actual.day)\n",
    "\n",
    "print(type(actual))"
   ]
  },
  {
   "cell_type": "markdown",
   "id": "4a2937cf",
   "metadata": {},
   "source": [
    "# os"
   ]
  },
  {
   "cell_type": "code",
   "execution_count": 24,
   "id": "54713160",
   "metadata": {},
   "outputs": [
    {
     "data": {
      "text/plain": [
       "'C:\\\\Users\\\\joseb\\\\SIC 2022\\\\Privadas'"
      ]
     },
     "execution_count": 24,
     "metadata": {},
     "output_type": "execute_result"
    }
   ],
   "source": [
    "import os\n",
    "os.getcwd() # ruta de donde esta guardando las cosas mi jupyter\n",
    "#os.listdir() # lista los archivos dentro del directorio"
   ]
  }
 ],
 "metadata": {
  "kernelspec": {
   "display_name": "Python 3 (ipykernel)",
   "language": "python",
   "name": "python3"
  },
  "language_info": {
   "codemirror_mode": {
    "name": "ipython",
    "version": 3
   },
   "file_extension": ".py",
   "mimetype": "text/x-python",
   "name": "python",
   "nbconvert_exporter": "python",
   "pygments_lexer": "ipython3",
   "version": "3.9.12"
  }
 },
 "nbformat": 4,
 "nbformat_minor": 5
}
