{
 "cells": [
  {
   "cell_type": "code",
   "execution_count": null,
   "id": "c201e734",
   "metadata": {},
   "outputs": [],
   "source": [
    "#Recursividad\n",
    "#Llamar a una funcion dentro de si misma\n",
    "#Se usa para repetir, sin usar bucles!!!!!!!\n",
    "# los bucles(ciclos) consumen recursos de la maquina y si son demasiados pueden hacer el proceso lento\n",
    "# lo hacemos para mejorar la OPTIMIZACION\n",
    "\n",
    "#para que???????????\n",
    "#para no tener que poner for\n",
    "\n",
    "\n",
    "\n",
    "#######################################EJEMPLO SIN RECURSIVIDAD -> bucle for\n",
    "def imprimir(x):\n",
    "    \n",
    "    if x>0:\n",
    "        print(x)\n",
    "\n",
    "n=int(input(\"por favor ingrese un numero : \"))\n",
    "\n",
    "for i in range(n+1):\n",
    "    \n",
    "    imprimir(i) # SE LLAMA LA FUNCION N-VECES\n",
    "    \n",
    "    "
   ]
  },
  {
   "cell_type": "code",
   "execution_count": null,
   "id": "0cde5216",
   "metadata": {},
   "outputs": [],
   "source": [
    "#######################################EJEMPLO CON RECURSIVIDAD \n",
    "def imprimir(x):\n",
    "        \n",
    "    if x>0:\n",
    "          \n",
    "        imprimir(x-1)  # esto es recursividad , llamar la funcion dentro de si misma\n",
    "        print(x)      \n",
    "    \n",
    "        \n",
    "n=int(input(\"por favor ingrese un numero : \"))\n",
    "imprimir(n) #hago el llamado una sola vez\n",
    "        "
   ]
  },
  {
   "cell_type": "code",
   "execution_count": 1,
   "id": "dfe2ef69",
   "metadata": {},
   "outputs": [
    {
     "name": "stdout",
     "output_type": "stream",
     "text": [
      "por favor ingrese un numero : 4\n",
      "4\n",
      "3\n",
      "2\n",
      "1\n",
      "0\n",
      "24\n"
     ]
    }
   ],
   "source": [
    "#5! = 5*4*3*2*1\n",
    "#Definir la funcion factorial usando recursividad\n",
    "\n",
    "def factorial(n):\n",
    "    print(n)\n",
    "    if n>0:\n",
    "        valor=n*factorial(n-1)\n",
    "        return valor\n",
    "    else:\n",
    "        return 1\n",
    "\n",
    "n=int(input(\"por favor ingrese un numero : \"))\n",
    "fac=factorial(n)\n",
    "print(fac)\n",
    "\n",
    "\n"
   ]
  },
  {
   "cell_type": "code",
   "execution_count": null,
   "id": "9e66a7d5",
   "metadata": {},
   "outputs": [],
   "source": [
    "#Queda pendiente \n",
    "# MEMOIZACION\n",
    "\n",
    "#sirve para que guarde en memoria un resultado y no lo tenga que hacer otra vez\n",
    "\n",
    "\n",
    "1*1\n",
    "2*1*1\n",
    "3*2*1*1\n",
    "4*3*2*1*1\n",
    "5*4*3*2*1*1\n",
    "\n",
    "z1=1*1\n",
    "z2=2*1*1\n",
    "z3=3*2*1*1\n",
    "z4=4*3*2*1*1\n",
    "z5=5*4*3*2*1*1\n",
    "\n",
    "z4=4*z3\n",
    "z5=5*z4 #5*24"
   ]
  }
 ],
 "metadata": {
  "kernelspec": {
   "display_name": "Python 3 (ipykernel)",
   "language": "python",
   "name": "python3"
  },
  "language_info": {
   "codemirror_mode": {
    "name": "ipython",
    "version": 3
   },
   "file_extension": ".py",
   "mimetype": "text/x-python",
   "name": "python",
   "nbconvert_exporter": "python",
   "pygments_lexer": "ipython3",
   "version": "3.9.12"
  }
 },
 "nbformat": 4,
 "nbformat_minor": 5
}
