{
 "cells": [
  {
   "cell_type": "code",
   "execution_count": 40,
   "id": "8ca0c005",
   "metadata": {},
   "outputs": [
    {
     "name": "stdout",
     "output_type": "stream",
     "text": [
      "[0, 1, 2, 3, 4, 5, 6]\n",
      "leche\n",
      "pan\n",
      "8\n",
      "huevos\n",
      "5\n",
      "6\n",
      "7\n",
      "0\n",
      "1\n",
      "2\n",
      "3\n",
      "4\n",
      "5\n",
      "6\n"
     ]
    }
   ],
   "source": [
    "lstMercado=[\"leche\",\"pan\",8,\"huevos\",5,6,7] \n",
    "print(list(range(len(lstMercado))))\n",
    "\n",
    "for i in range(len(lstMercado)):\n",
    "    print(i)    \n",
    "print(\"________________________________________\")    \n",
    "for i in lstMercado:\n",
    "    print(i)    "
   ]
  },
  {
   "cell_type": "code",
   "execution_count": 12,
   "id": "5e870f8e",
   "metadata": {},
   "outputs": [
    {
     "name": "stdout",
     "output_type": "stream",
     "text": [
      "['cancion1', 'cancion2', 'cancion3', 'cancion4', 'cancion5', 'cancion6', 'cancion7', ['cancion7', 'cancion8'], 'cancion7', 'cancion8', 'c', 'a', 'n', 'c', 'i', 'o', 'n', '8']\n"
     ]
    }
   ],
   "source": [
    "rock=[\"cancion1\",\"cancion2\",\"cancion3\"]\n",
    "bachata=[\"cancion4\",\"cancion5\",\"cancion6\"]\n",
    "pop=[\"cancion7\",\"cancion8\"]\n",
    "\n",
    "playlist=rock+bachata\n",
    "playlist.append(\"cancion7\") #append agrega un nuevo item al final de la lista\n",
    "#playlist.append(pop)\n",
    "playlist.extend(pop)\n",
    "playlist.extend(\"cancion8\")\n",
    "print(playlist)"
   ]
  },
  {
   "cell_type": "code",
   "execution_count": 37,
   "id": "3d608973",
   "metadata": {},
   "outputs": [
    {
     "name": "stdout",
     "output_type": "stream",
     "text": [
      "{'jose': {'nombre': 'jose', 'edad': '28', 'codigo': '3'}, 'rafa': {'nombre': 'rafa', 'edad': '30', 'codigo': '7'}}\n",
      "________________________________________________\n",
      "nombre jose\n",
      "edad 28\n",
      "codigo 3\n",
      "________________________________________________\n",
      "jose {'nombre': 'jose', 'edad': '28', 'codigo': '3'}\n",
      "jose {'nombre': 'jose', 'edad': '28', 'codigo': '3'}\n",
      "jose {'nombre': 'jose', 'edad': '28', 'codigo': '3'}\n",
      "\n",
      "rafa {'nombre': 'rafa', 'edad': '30', 'codigo': '7'}\n",
      "rafa {'nombre': 'rafa', 'edad': '30', 'codigo': '7'}\n",
      "rafa {'nombre': 'rafa', 'edad': '30', 'codigo': '7'}\n",
      "\n"
     ]
    }
   ],
   "source": [
    "#diccionario={\"key\":\"valor\"}\n",
    "#profe1=[jose,28,234234]\n",
    "#profe1[0]==jose\n",
    "        \n",
    "profe1={\"nombre\":\"jose\",\"edad\":\"28\",\"codigo\":\"3\"}\n",
    "profe2={\"nombre\":\"rafa\",\"edad\":\"30\",\"codigo\":\"7\"}\n",
    "#print(profe1[\"nombre\"])\n",
    "datos_profes={\"jose\":profe1,\"rafa\":profe2}\n",
    "\n",
    "#PROGRAMACION ORIENTADA A OBJETOS -> POO\n",
    "#print(datos_profes[\"rafa\"])\n",
    "print(datos_profes)\n",
    "\n",
    "print(\"________________________________________________\")\n",
    "\n",
    "for key,value in profe1.items():\n",
    "        print(key,value)\n",
    "    \n",
    "\n",
    "print(\"________________________________________________\")\n",
    "\n",
    "for key,value in datos_profes.items():\n",
    "    for i,j in datos_profes[key].items():\n",
    "        print(key,value)\n",
    "    print()\n",
    "    \n"
   ]
  }
 ],
 "metadata": {
  "kernelspec": {
   "display_name": "Python 3 (ipykernel)",
   "language": "python",
   "name": "python3"
  },
  "language_info": {
   "codemirror_mode": {
    "name": "ipython",
    "version": 3
   },
   "file_extension": ".py",
   "mimetype": "text/x-python",
   "name": "python",
   "nbconvert_exporter": "python",
   "pygments_lexer": "ipython3",
   "version": "3.9.12"
  }
 },
 "nbformat": 4,
 "nbformat_minor": 5
}
