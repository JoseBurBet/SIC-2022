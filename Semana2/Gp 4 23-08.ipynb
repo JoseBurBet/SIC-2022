{
 "cells": [
  {
   "cell_type": "code",
   "execution_count": 6,
   "id": "44ab12cb",
   "metadata": {},
   "outputs": [
    {
     "name": "stdout",
     "output_type": "stream",
     "text": [
      "[3, 2, 1]\n",
      "ingrese su contraseña: python\n",
      "0\n",
      "loging success\n",
      "close program\n"
     ]
    }
   ],
   "source": [
    "#while -> mientras : es un bucle que se repite infinitamente\n",
    "\n",
    "#for -> para : es un bucle que se repite un numero especifico de veces\n",
    "\n",
    "password=\"python\"\n",
    "pas=\"\"\n",
    "#while pas!= password and contador<3 :# mientras ->repite mientras la condicion se cumpla\n",
    "print(list(range(3,0,-1)))\n",
    "for contador in range(0,3,1): # range(incio,final,paso)\n",
    "    pas=input(\"ingrese su contraseña: \")\n",
    "    #contador=contador+1 # los contadores se usan como variables auxiliares, es una variable que se actualiza y aumenta en cada repetición\n",
    "    print(contador)\n",
    "    \n",
    "    #contador+=1 #otra opcion que hace lo mismo\n",
    "    if pas!= password:\n",
    "        print(\"loging failed\")\n",
    "    else:\n",
    "        print(\"loging success\")\n",
    "        #contador=4\n",
    "        break #interrupcion del codigo\n",
    "print(\"close program\")\n",
    "\n",
    "\n",
    "        \n"
   ]
  },
  {
   "cell_type": "code",
   "execution_count": 8,
   "id": "96dd54ec",
   "metadata": {},
   "outputs": [
    {
     "name": "stdout",
     "output_type": "stream",
     "text": [
      "[7, 9, 11, 13]\n",
      "[7, 10, 13]\n"
     ]
    }
   ],
   "source": [
    "print(list(range(7,15,2)))\n",
    "print(list(range(7,15,3)))"
   ]
  },
  {
   "cell_type": "code",
   "execution_count": 81,
   "id": "6d3849d5",
   "metadata": {},
   "outputs": [
    {
     "name": "stdout",
     "output_type": "stream",
     "text": [
      "0.978823524287079\n",
      "4\n",
      "[0, 2, 4, 6, 8]\n"
     ]
    }
   ],
   "source": [
    "import random as rd\n",
    "print(rd.random())\n",
    "print(rd.randrange(0,10,2))\n",
    "print(list(range(0,10,2)))\n"
   ]
  },
  {
   "cell_type": "code",
   "execution_count": 99,
   "id": "6a490193",
   "metadata": {},
   "outputs": [
    {
     "name": "stdout",
     "output_type": "stream",
     "text": [
      "La constante pi es: 3.141592654\n",
      "La constante pi es:  3.141592654 y e es:  0.213123\n",
      "La constante pi es: 3.1416 \n",
      "La constante pi es: 0.213123 y e es : 3.141593 \n",
      "La constante pi es: 3.141593 y e es : 0.213123 \n"
     ]
    }
   ],
   "source": [
    "pi=3.141592654\n",
    "e=0.213123\n",
    "print(\"La constante pi es: \" + str(pi))\n",
    "print(\"La constante pi es: \",pi,\"y e es: \",e)\n",
    "print(\"La constante pi es: {0:.4f} \".format(pi))\n",
    "print(\"La constante pi es: {0:.4f} y e es : {1:.4f} \".format(e,pi)) \n",
    "#el numero antes de : hace referencia al orden de las variables dentro de format\n",
    "print(\"La constante pi es: {1:.4f} y e es : {0:.4f} \".format(e,pi))"
   ]
  },
  {
   "cell_type": "code",
   "execution_count": 101,
   "id": "a415491c",
   "metadata": {
    "scrolled": true
   },
   "outputs": [
    {
     "name": "stdout",
     "output_type": "stream",
     "text": [
      "  1    1     1\n",
      "  2    4     8\n",
      "  3    9    27\n",
      "  4   16    64\n",
      "  5   25   125\n",
      "  6   36   216\n",
      "  7   49   343\n",
      "  8   64   512\n",
      "  9   81   729\n"
     ]
    }
   ],
   "source": [
    "for i in range (1,10,1):\n",
    "    print(\"{0:3d} {1:4d} {2:5d}\".format(i,i*i,i**3))"
   ]
  },
  {
   "cell_type": "code",
   "execution_count": 128,
   "id": "45435c76",
   "metadata": {},
   "outputs": [
    {
     "name": "stdout",
     "output_type": "stream",
     "text": [
      "[3, 2, 1]\n",
      "huevos\n",
      "queso\n",
      "['leche', 'pan', 8, 'queso', 5, 6, 7]\n",
      "huevos\n",
      "huevos\n",
      "('leche', 'pan', 8, 'huevos', 5, 6, 7)\n",
      "[[1, 2, 3], [4, 5, 6], [7, 8, 9]]\n",
      "5\n",
      "[[1, 2, 3], [4, 5, 6], [7, 8, 9]]\n"
     ]
    }
   ],
   "source": [
    "#maneras de almacenar data\n",
    "\n",
    "# LISTAS -> conjunto de datos separados por una coma, con [], SI se puede modificar\n",
    "print(list(range(3,0,-1)))\n",
    "\n",
    "lstMercado=[\"leche\",\"pan\",8,\"huevos\",5,6,7] \n",
    "print(lstMercado[3])\n",
    "lstMercado[3]=\"queso\"\n",
    "print(lstMercado[3])\n",
    "print(lstMercado)\n",
    "\n",
    "for i in range(lstMercado):\n",
    "    print((lstMercado[i]))\n",
    "\n",
    "\n",
    "#TUPLAS -> conjunto de datos separados por una coma, con (), NO se puede modificar\n",
    "tMercado=(\"leche\",\"pan\",8,\"huevos\",5,6,7)\n",
    "print(tMercado[3])\n",
    "#tMercado[3]=\"queso\"\n",
    "print(tMercado[3])\n",
    "print(tMercado)\n",
    "t_datos_de_usuario_bancario=(\"jose\",\"132412564\",\"300\")\n",
    "\n",
    "#MATRICES -> lista de listas, [], SI se puede modificar\n",
    "m_teclado=[[1,2,3],[4,5,6],[7,8,9]]\n",
    "print(m_teclado)\n",
    "print(m_teclado[1][1])\n",
    "#m_teclado[1][2]=27\n",
    "print(m_teclado)\n",
    "\n",
    "\n",
    "\n"
   ]
  },
  {
   "cell_type": "code",
   "execution_count": 127,
   "id": "51ed9e75",
   "metadata": {
    "scrolled": true
   },
   "outputs": [
    {
     "name": "stdout",
     "output_type": "stream",
     "text": [
      "1 2 3 \n",
      "4 5 6 \n",
      "7 8 9 \n"
     ]
    }
   ],
   "source": [
    "m_teclado=[[1,2,3],[4,5,6],[7,8,9]]\n",
    "\n",
    "#len() -> lenght -> longitud\n",
    "#print(len(m_teclado))\n",
    "#print(len(m_teclado[0]))\n",
    "#print(len(m_teclado[1]))\n",
    "\n",
    "for filas in range(len(m_teclado)):\n",
    "    for columnas in range(len(m_teclado[filas])):\n",
    "        print(m_teclado[filas][columnas],end=\" \")\n",
    "    print() # -> print(\"\\n\")"
   ]
  },
  {
   "cell_type": "code",
   "execution_count": 39,
   "id": "10a13694",
   "metadata": {},
   "outputs": [
    {
     "ename": "IndentationError",
     "evalue": "unindent does not match any outer indentation level (<tokenize>, line 13)",
     "output_type": "error",
     "traceback": [
      "\u001b[1;36m  File \u001b[1;32m<tokenize>:13\u001b[1;36m\u001b[0m\n\u001b[1;33m    print()\u001b[0m\n\u001b[1;37m    ^\u001b[0m\n\u001b[1;31mIndentationError\u001b[0m\u001b[1;31m:\u001b[0m unindent does not match any outer indentation level\n"
     ]
    }
   ],
   "source": [
    "m_teclado=[[1,[3,7,8],3],[4,[2]],[7,[2,1],9]]\n",
    "#print(len(m_teclado))\n",
    "#print(len(m_teclado[0]))\n",
    "print(m_teclado)\n",
    "\n",
    "for filas in range(len(m_teclado)):\n",
    "    #print(\"la fila es: {}\".format(filas))\n",
    "    for columnas in range(len(m_teclado[filas])):\n",
    "        for k in range(len(m_teclado[k]))\n",
    "            #print(\"la columna es: {}\".format(columnas))\n",
    "            print(m_teclado[filas][columnas][k],end=\" \")\n",
    "        print() # -> print(\"\\n\")\n",
    "     print()"
   ]
  },
  {
   "cell_type": "code",
   "execution_count": 33,
   "id": "57937f56",
   "metadata": {
    "scrolled": true
   },
   "outputs": [
    {
     "name": "stdout",
     "output_type": "stream",
     "text": [
      "el primer numero es : 8 y el segundo numero es : 7\n",
      "ingrese un numero \n",
      "\n",
      "hello\n",
      "world\n"
     ]
    }
   ],
   "source": [
    "num1=7\n",
    "numero2=8\n",
    "#print(\"el primer numero es :\",numero1 ,\"el segundo numero es :\",numero1)\n",
    "#print(\"el primer numero es : \" + str(numero1) + \" el segundo numero es : \" + str (numero2))\n",
    "print(\"el primer numero es : {1} y el segundo numero es : {0}\".format(num1,numero2))\n",
    "print(\"ingrese un numero \\n\")\n",
    "print(\"hello\" )\n",
    "print(\"world\")"
   ]
  },
  {
   "cell_type": "code",
   "execution_count": 44,
   "id": "8f15c6ad",
   "metadata": {},
   "outputs": [
    {
     "name": "stdout",
     "output_type": "stream",
     "text": [
      "leche\n",
      "pan\n",
      "8\n",
      "huevos\n",
      "5\n",
      "6\n",
      "7\n"
     ]
    }
   ],
   "source": [
    "lstMercado=[\"leche\",\"pan\",8,\"huevos\",5,6,7] \n",
    "\n",
    "for i in lstMercado:\n",
    "    print(i)\n"
   ]
  }
 ],
 "metadata": {
  "kernelspec": {
   "display_name": "Python 3 (ipykernel)",
   "language": "python",
   "name": "python3"
  },
  "language_info": {
   "codemirror_mode": {
    "name": "ipython",
    "version": 3
   },
   "file_extension": ".py",
   "mimetype": "text/x-python",
   "name": "python",
   "nbconvert_exporter": "python",
   "pygments_lexer": "ipython3",
   "version": "3.9.12"
  }
 },
 "nbformat": 4,
 "nbformat_minor": 5
}
