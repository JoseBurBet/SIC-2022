{
 "cells": [
  {
   "cell_type": "code",
   "execution_count": 5,
   "id": "52095bd5",
   "metadata": {},
   "outputs": [
    {
     "name": "stdout",
     "output_type": "stream",
     "text": [
      "el contador es0\n",
      "el valor de i es1\n",
      "el contador es2\n",
      "el valor de i es2\n",
      "el contador es4\n",
      "el valor de i es3\n",
      "el contador es6\n",
      "el valor de i es4\n",
      "el contador es8\n",
      "el valor de i es5\n"
     ]
    }
   ],
   "source": [
    "#bucle que se repite un numero limitado de veces\n",
    "i=0\n",
    "contador=80\n",
    "for contador in range(0,10,2): #range (inicio,final,paso)\n",
    "    i+=1 # i=i+1\n",
    "    print(\"el contador es\" + str(contador))\n",
    "    print(\"el valor de i es\" + str(i))\n",
    "    #print(\"hello world \\n\")"
   ]
  },
  {
   "cell_type": "code",
   "execution_count": 48,
   "id": "69d839ff",
   "metadata": {},
   "outputs": [
    {
     "name": "stdout",
     "output_type": "stream",
     "text": [
      "[0, 1, 2]\n",
      "ingrese su contraseña: python\n",
      "0\n",
      "loging success\n"
     ]
    }
   ],
   "source": [
    "password=\"python\"\n",
    "pas=\"\"\n",
    "contador = 0 #i, j,k\n",
    "#while pas!= password and contador<3 :# mientras ->repite mientras la condicion se cumpla\n",
    "print(list(range(0,3,1)))\n",
    "for contador in range(0,3,1): \n",
    "    pas=input(\"ingrese su contraseña: \")\n",
    "    #contador=contador+1\n",
    "    print(contador)\n",
    "    #contador+=1 #otra opcion que hace lo mismo\n",
    "    if pas!= password:\n",
    "        print(\"loging failed\")\n",
    "    else:\n",
    "        print(\"loging success\")\n",
    "        break\n",
    "        #contador=4\n",
    "\n",
    "        \n"
   ]
  },
  {
   "cell_type": "code",
   "execution_count": 47,
   "id": "b5f463f5",
   "metadata": {},
   "outputs": [
    {
     "name": "stdout",
     "output_type": "stream",
     "text": [
      "1\n"
     ]
    }
   ],
   "source": [
    "import random  as rd # importo una libreria que se llama random\n",
    "\n",
    "print(rd.randrange(1,7,2))\n",
    "\n",
    "\n"
   ]
  },
  {
   "cell_type": "code",
   "execution_count": 53,
   "id": "52f94ec6",
   "metadata": {},
   "outputs": [
    {
     "name": "stdout",
     "output_type": "stream",
     "text": [
      "el valor de pi es : 3.141592654\n",
      "el valor de pi es : 3.141592654\n",
      "el valor de pi es : 3.141592654 y el valor de lamda es :1.123 \n",
      "el valor de pi es : 3.142 \n",
      "[2, 4, 6, 8, 10]\n",
      "2 4 8 \n",
      "4 16 64 \n",
      "6 36 216 \n",
      "8 64 512 \n",
      "10 100 1000 \n"
     ]
    }
   ],
   "source": [
    "pi=3.141592654\n",
    "lamda=1.123\n",
    "texto=\"el valor de pi es : \"\n",
    "print(texto + str(pi))\n",
    "print(\"el valor de pi es : \" + str(pi)) \n",
    "print(\"el valor de pi es : {} y el valor de lamda es :{} \".format(pi,lamda))\n",
    "print(\"el valor de pi es : {0:.3f} \".format(pi))\n",
    "\n",
    "print(list(range(2,11,2)))\n",
    "for i  in range (2,11,2):\n",
    "    print(\"{0:3d} {1:4d} {2:5d} \".format(i,i*i,i*i*i))"
   ]
  },
  {
   "cell_type": "code",
   "execution_count": 56,
   "id": "ac6b949b",
   "metadata": {},
   "outputs": [
    {
     "name": "stdout",
     "output_type": "stream",
     "text": [
      "[2, 4, 6, 8, 10]\n",
      "  2    4     8 \n",
      "  4   16    64 \n",
      "  6   36   216 \n",
      "  8   64   512 \n",
      " 10  100  1000 \n"
     ]
    }
   ],
   "source": [
    "print(list(range(2,11,2)))\n",
    "for i  in range (2,11,2):\n",
    "    print(\"{0:3d} {1:4d} {2:5d} \".format(i,i*i,i*i*i))"
   ]
  },
  {
   "cell_type": "code",
   "execution_count": 87,
   "id": "100d9474",
   "metadata": {},
   "outputs": [
    {
     "name": "stdout",
     "output_type": "stream",
     "text": [
      "carne\n",
      "pescado\n",
      "['leche', 'pan', 'pescado', 8]\n",
      "________________________________________\n",
      "1234\n",
      "1234\n",
      "('jose', 1234)\n",
      "['jose', 1234]\n",
      "[[1, 2, 3], [4, 5, 6], [7, 8, 9]]\n",
      "5\n",
      "________________________________________\n",
      "3\n",
      "1 2 3 \n",
      "4 5 6 \n",
      "7 8 9 \n"
     ]
    }
   ],
   "source": [
    "#MANERAS DE ALMACENAR DATOS\n",
    "#LISTAS!!!!!!!! # CONJUNTO DE DATOS SEPARADOS POR UNA , SE PUEDEN EDITAR, SE DEFINEN CON []\n",
    "\n",
    "lst_super=[\"leche\",\"pan\",\"carne\",8]\n",
    "print(lst_super[2])\n",
    "lst_super[2]=\"pescado\"\n",
    "print(lst_super[2])\n",
    "print(lst_super)\n",
    "\n",
    "#TUPLAS!!!!!!!# CONJUNTO DE DATOS SEPARADOS POR UNA , NO SE PUEDEN EDITAR, SE DEFINEN CON ()\n",
    "print(\"________________________________________\")\n",
    "tupla_banco=(\"jose\",1234)\n",
    "print(tupla_banco[1])\n",
    "#tupla_banco[1]=9876 # no se puede !!!  porque no puedo permitir que el usuario modifique ese valor\n",
    "print(tupla_banco[1])\n",
    "print(tupla_banco)\n",
    "\n",
    "lst_banco=list(tupla_banco) # puedo convertir de un tipo al otro\n",
    "print(lst_banco)\n",
    "\n",
    "\n",
    "#MATRICES!!!!!!!!!! # es una lista de listas\n",
    "M_teclado_telefono=[[1,2,3],[4,5,6],[7,8,9]] #matriz simetrica\n",
    "print(M_teclado_telefono)\n",
    "print(M_teclado_telefono[1][1])\n",
    "\n",
    "print(\"________________________________________\")\n",
    "\n",
    "print(len(M_teclado_telefono)) #len = lenght\n",
    "\n",
    "for fila in range(len(M_teclado_telefono)): #len te dice la longitud de las filas\n",
    "    for columna in range(len(M_teclado_telefono[fila])):# len te dice la longitud de las columnas [i]\n",
    "        print(M_teclado_telefono[fila][columna], end=\" \") # el end evita el salto de linea\n",
    "        #print(\"fila {} \\n \".format(fila))\n",
    "        #print(\"columna {} \\n \".format(columna))\n",
    "    print()# =  print(\"\\n\"), lo ponemos para generar el salto de linea\n",
    "    "
   ]
  },
  {
   "cell_type": "code",
   "execution_count": 84,
   "id": "2a2a5399",
   "metadata": {},
   "outputs": [
    {
     "name": "stdout",
     "output_type": "stream",
     "text": [
      "bla bla sadfasdf\n"
     ]
    }
   ],
   "source": [
    "print(\"bla bla\", end=\" \") # el end evita el salto de linea\n",
    "print(\"sadfasdf\")"
   ]
  }
 ],
 "metadata": {
  "kernelspec": {
   "display_name": "Python 3 (ipykernel)",
   "language": "python",
   "name": "python3"
  },
  "language_info": {
   "codemirror_mode": {
    "name": "ipython",
    "version": 3
   },
   "file_extension": ".py",
   "mimetype": "text/x-python",
   "name": "python",
   "nbconvert_exporter": "python",
   "pygments_lexer": "ipython3",
   "version": "3.9.12"
  }
 },
 "nbformat": 4,
 "nbformat_minor": 5
}
