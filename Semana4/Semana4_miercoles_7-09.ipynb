{
 "cells": [
  {
   "cell_type": "code",
   "execution_count": 43,
   "id": "9d329e4e",
   "metadata": {},
   "outputs": [
    {
     "name": "stdout",
     "output_type": "stream",
     "text": [
      "Que raza quieres ser?: \n",
      " 1. humanos \n",
      " 2. orcos \n",
      "\n",
      "\n",
      "humanos\n",
      "Que clase quieres ser?: \n",
      " 1. guerrero \n",
      " 2. cazador \n",
      " 3. druida \n",
      "\n",
      "\n",
      "3\n",
      "Adalid! , como deseas ser llamado : \n",
      "shigueru\n",
      "El personaje shigueru ha sido creado y guardado satisfactoriamente\n"
     ]
    }
   ],
   "source": [
    "#codigo de un constructor de pantalla de inicio de un juego\n",
    "\n",
    "# creo un diccionario con todos los posibles personajes que puede tener mi juego\n",
    "\n",
    "#diccionario={\"key1\":\"valor1\",\"key2\":\"valor2\"}\n",
    "\n",
    "personajes = {\n",
    "    \"raza\":{\n",
    "        \"humanos\":{\n",
    "            \"clase\":{\n",
    "                \"gerreros\":{\n",
    "                    \"stats\":{\n",
    "                        \"vida\":\"1200\",\n",
    "                        \"mana\":\"850\"\n",
    "                    }\n",
    "                },\n",
    "                \"cazador\":{\n",
    "                    \"stats\":{\n",
    "                        \"vida\":\"800\",\n",
    "                        \"mana\":\"900\"\n",
    "                    }             \n",
    "                },\n",
    "                \"druida\":{\n",
    "                    \"stats\":{\n",
    "                        \"vida\":\"1000\",\n",
    "                        \"mana\":\"1200\"\n",
    "                    }             \n",
    "                }\n",
    "                           \n",
    "            }\n",
    "            \n",
    "        },\n",
    "        \n",
    "        \"orcos\":{\n",
    "            \"clase\":{\n",
    "                \"gerreros\":{\n",
    "                    \"stats\":{\n",
    "                        \"vida\":\"1200\",\n",
    "                        \"mana\":\"850\"\n",
    "                    }\n",
    "                },\n",
    "                \"cazador\":{\n",
    "                    \"stats\":{\n",
    "                        \"vida\":\"800\",\n",
    "                        \"mana\":\"900\"\n",
    "                    }             \n",
    "                },\n",
    "                \"chaman\":{\n",
    "                    \"stats\":{\n",
    "                        \"vida\":\"1000\",\n",
    "                        \"mana\":\"1200\"\n",
    "                    }             \n",
    "                }\n",
    "                           \n",
    "            }\n",
    "            \n",
    "        }\n",
    "        \n",
    "    }\n",
    "}\n",
    "\n",
    "#print(personajes[\"raza\"][\"humanos\"][\"clase\"][\"cazador\"][\"stats\"][\"mana\"])\n",
    "\n",
    "import uuid\n",
    "import json\n",
    "import time\n",
    "\n",
    "\n",
    "class personaje():\n",
    "    \n",
    "    def __init__(self,nombre,raza,clase,vida,mana):\n",
    "        self.nombre=nombre\n",
    "        self.raza=raza\n",
    "        self.clase=clase\n",
    "        self.vida=vida\n",
    "        self.mana=mana\n",
    "    \n",
    "    def configurar_personaje(self):\n",
    "        \n",
    "        print(\"Que raza quieres ser?: \\n 1. humanos \\n 2. orcos \\n\")\n",
    "        raza=input(\"\\n\")\n",
    "        \n",
    "        if raza==\"1\" or raza==\"humanos\":\n",
    "            raza=\"humanos\"\n",
    "            \n",
    "            print(\"Que clase quieres ser?: \\n 1. guerrero \\n 2. cazador \\n 3. druida \\n\")\n",
    "            clase=input(\"\\n\")\n",
    "            \n",
    "            if clase==\"1\" or clase==\"guerrero\":\n",
    "                clase=\"guerrero\"\n",
    "                \n",
    "                #aqui llamamos un metodo que cree al personaje\n",
    "                self.crear_personaje(raza,clase)\n",
    "                \n",
    "            elif clase==\"2\" or clase==\"cazador\":\n",
    "                clase=\"cazador\"\n",
    "                \n",
    "                #aqui llamamos un metodo que cree al personaje\n",
    "                self.crear_personaje(raza,clase)\n",
    "                \n",
    "            elif clase==\"3\" or clase==\"druida\":\n",
    "                clase=\"druida\"\n",
    "                \n",
    "                #aqui llamamos un metodo que cree al personaje\n",
    "                self.crear_personaje(raza,clase)\n",
    "            \n",
    "            else:\n",
    "                print(\"clase no valida\")\n",
    "                #control de errores\n",
    "        \n",
    "        elif raza==\"2\" or raza==\"orcos\":\n",
    "            raza=\"orcos\"\n",
    "            \n",
    "            print(\"Que clase quieres ser?: \\n 1. guerrero \\n 2. cazador \\n 3. chaman \\n\")\n",
    "            clase=input(\"\\n\")\n",
    "            \n",
    "            if clase==\"1\" or clase==\"guerrero\":\n",
    "                clase=\"guerrero\"\n",
    "                \n",
    "                #aqui llamamos un metodo que cree al personaje\n",
    "                self.crear_personaje(raza,clase)\n",
    "                \n",
    "            elif clase==\"2\" or clase==\"cazador\":\n",
    "                clase=\"cazador\"\n",
    "                \n",
    "                #aqui llamamos un metodo que cree al personaje\n",
    "                self.crear_personaje(raza,clase)\n",
    "                \n",
    "            elif clase==\"3\" or clase==\"chaman\":\n",
    "                clase=\"chaman\"\n",
    "                \n",
    "                #aqui llamamos un metodo que cree al personaje\n",
    "                self.crear_personaje(raza,clase)\n",
    "            \n",
    "            else:\n",
    "                print(\"clase no valida\")\n",
    "                #control de errores\n",
    "                \n",
    "        else:\n",
    "            print(\"raza no valida\")\n",
    "                #control de errores\n",
    "                \n",
    "    def crear_personaje(self,raza,clase):\n",
    "        #accedo al diccionario\n",
    "        vida=personajes[\"raza\"][raza][\"clase\"][clase][\"stats\"][\"vida\"] \n",
    "        mana=personajes[\"raza\"][raza][\"clase\"][clase][\"stats\"][\"mana\"]\n",
    "        \n",
    "        nombre = input(\"Adalid! , como deseas ser llamado : \\n\")\n",
    "        #llamo al constructor\n",
    "        nuevo_pj=personaje(nombre=nombre,raza=raza,clase=clase,vida=vida,mana=mana)\n",
    "        \n",
    "        #creo un diccionario para guardar la info de mi personaje creado\n",
    "        datos={\n",
    "            \"id\":str(uuid.uuid1()),\n",
    "            \"nombre\":nuevo_pj.nombre,\n",
    "            \"raza\":nuevo_pj.raza,\n",
    "            \"clase\":nuevo_pj.clase,\n",
    "            \"vida\":nuevo_pj.vida,\n",
    "            \"mana\":nuevo_pj.mana\n",
    "        }\n",
    "        \n",
    "        #aqui tenemos que llamar un metodo para guardar al personaje\n",
    "        print(\"El personaje {} ha sido creado y guardado satisfactoriamente\".format(nuevo_pj.nombre))\n",
    "        \n",
    "pj=personaje(\"Shigueru\",\"humano\",\"druida\",\"1000\",\"1200\") \n",
    "pj.configurar_personaje()\n",
    "        \n",
    "        \n",
    "    "
   ]
  },
  {
   "cell_type": "code",
   "execution_count": 18,
   "id": "41325deb",
   "metadata": {},
   "outputs": [
    {
     "name": "stdout",
     "output_type": "stream",
     "text": [
      "06f23768-2f09-11ed-aa32-cf4bf1144f19\n",
      "06f23769-2f09-11ed-be73-cf4bf1144f19\n",
      "06f2376a-2f09-11ed-a407-cf4bf1144f19\n"
     ]
    }
   ],
   "source": [
    "import uuid\n",
    "\n",
    "u1 = uuid.uuid1() #me otorga un codigo unico de identificacion\n",
    "u2 = uuid.uuid1()\n",
    "u3 = uuid.uuid1()\n",
    "print(u1)\n",
    "print(u2)\n",
    "print(u3)"
   ]
  },
  {
   "cell_type": "code",
   "execution_count": 21,
   "id": "4e20ca0e",
   "metadata": {},
   "outputs": [
    {
     "name": "stdout",
     "output_type": "stream",
     "text": [
      "{\n",
      "    \"4\": 5,\n",
      "    \"6\": 7\n",
      "}\n"
     ]
    },
    {
     "data": {
      "text/plain": [
       "{'4': 5, '6': 7}"
      ]
     },
     "execution_count": 21,
     "metadata": {},
     "output_type": "execute_result"
    }
   ],
   "source": [
    "import json # es un formato para guardar datos, como archivo\n",
    "print(json.dumps({'4': 5, '6': 7}, sort_keys=True, indent=4))\n",
    "{\n",
    "    \"4\": 5,\n",
    "    \"6\": 7\n",
    "}"
   ]
  },
  {
   "cell_type": "code",
   "execution_count": 24,
   "id": "5db4f66e",
   "metadata": {
    "scrolled": true
   },
   "outputs": [
    {
     "name": "stdout",
     "output_type": "stream",
     "text": [
      "07:11:34 PM\n",
      "07:11:35 PM\n",
      "07:11:36 PM\n",
      "07:11:37 PM\n",
      "07:11:38 PM\n",
      "07:11:39 PM\n"
     ]
    },
    {
     "ename": "KeyboardInterrupt",
     "evalue": "",
     "output_type": "error",
     "traceback": [
      "\u001b[1;31m---------------------------------------------------------------------------\u001b[0m",
      "\u001b[1;31mKeyboardInterrupt\u001b[0m                         Traceback (most recent call last)",
      "Input \u001b[1;32mIn [24]\u001b[0m, in \u001b[0;36m<cell line: 4>\u001b[1;34m()\u001b[0m\n\u001b[0;32m      5\u001b[0m result \u001b[38;5;241m=\u001b[39m time\u001b[38;5;241m.\u001b[39mstrftime(\u001b[38;5;124m\"\u001b[39m\u001b[38;5;124m%\u001b[39m\u001b[38;5;124mI:\u001b[39m\u001b[38;5;124m%\u001b[39m\u001b[38;5;124mM:\u001b[39m\u001b[38;5;124m%\u001b[39m\u001b[38;5;124mS \u001b[39m\u001b[38;5;124m%\u001b[39m\u001b[38;5;124mp\u001b[39m\u001b[38;5;124m\"\u001b[39m, localtime)\n\u001b[0;32m      6\u001b[0m \u001b[38;5;28mprint\u001b[39m(result)\n\u001b[1;32m----> 7\u001b[0m \u001b[43mtime\u001b[49m\u001b[38;5;241;43m.\u001b[39;49m\u001b[43msleep\u001b[49m\u001b[43m(\u001b[49m\u001b[38;5;241;43m1\u001b[39;49m\u001b[43m)\u001b[49m\n",
      "\u001b[1;31mKeyboardInterrupt\u001b[0m: "
     ]
    }
   ],
   "source": [
    "import time\n",
    "\n",
    "while True:\n",
    "  localtime = time.localtime()\n",
    "  result = time.strftime(\"%I:%M:%S %p\", localtime)\n",
    "  print(result)\n",
    "  time.sleep(1) # es un delay,un retraso temporal en la ejecucion del loop"
   ]
  },
  {
   "cell_type": "code",
   "execution_count": 36,
   "id": "467cc9e0",
   "metadata": {},
   "outputs": [],
   "source": [
    "raza=\"elfo\";"
   ]
  }
 ],
 "metadata": {
  "kernelspec": {
   "display_name": "Python 3 (ipykernel)",
   "language": "python",
   "name": "python3"
  },
  "language_info": {
   "codemirror_mode": {
    "name": "ipython",
    "version": 3
   },
   "file_extension": ".py",
   "mimetype": "text/x-python",
   "name": "python",
   "nbconvert_exporter": "python",
   "pygments_lexer": "ipython3",
   "version": "3.9.12"
  }
 },
 "nbformat": 4,
 "nbformat_minor": 5
}
