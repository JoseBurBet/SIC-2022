{
 "cells": [
  {
   "cell_type": "code",
   "execution_count": 5,
   "id": "fc314f93",
   "metadata": {},
   "outputs": [
    {
     "name": "stdout",
     "output_type": "stream",
     "text": [
      "1\n",
      "2\n",
      "3\n",
      "4\n",
      "5\n"
     ]
    }
   ],
   "source": [
    "#ejm recursividad\n",
    "def imprimir(x):\n",
    "    if x>0:\n",
    "        imprimir(x-1)\n",
    "        print(x)\n",
    "\n",
    "imprimir(5)  "
   ]
  },
  {
   "cell_type": "code",
   "execution_count": 6,
   "id": "dcb4c483",
   "metadata": {},
   "outputs": [
    {
     "name": "stdout",
     "output_type": "stream",
     "text": [
      "El factorial de 4 es 24\n"
     ]
    }
   ],
   "source": [
    "def factorial(fact):\n",
    "    if fact>0:\n",
    "        valor=fact*factorial(fact-1)\n",
    "        return valor\n",
    "    else:\n",
    "        return 1;\n",
    "\n",
    "print(f\"El factorial de 4 es {factorial(4)}\")   "
   ]
  },
  {
   "cell_type": "code",
   "execution_count": 27,
   "id": "8d0637a6",
   "metadata": {},
   "outputs": [
    {
     "name": "stdout",
     "output_type": "stream",
     "text": [
      "[60, 44, 22, 33, 2]\n",
      "[2, 22, 33, 44, 60]\n",
      "[2, 22, 33, 44, 60]\n"
     ]
    }
   ],
   "source": [
    "def ordenar(lista, cant):\n",
    "    if cant>1:\n",
    "        for f in range(0, cant-1):\n",
    "            if lista[f]>lista[f + 1]:\n",
    "                aux=lista[f]\n",
    "                lista[f]=lista[f + 1]\n",
    "                lista[f + 1] = aux\n",
    "            ordenar(lista, cant - 1)\n",
    "\n",
    "datos=[60,44,22,33,2]\n",
    "print(datos)\n",
    "ordenar(datos, len(datos))\n",
    "print(datos)\n",
    "\n",
    "\n",
    "print(\"_________________\")\n",
    "mi_lista = [60,44,22,33,2]\n",
    "mi_lista.sort()\n",
    "print(mi_lista)"
   ]
  },
  {
   "cell_type": "code",
   "execution_count": 2,
   "id": "a3d9a7be",
   "metadata": {},
   "outputs": [
    {
     "name": "stdout",
     "output_type": "stream",
     "text": [
      "The minimum number in the array is:  1\n",
      "The maximum number in the array is:  90\n"
     ]
    }
   ],
   "source": [
    "#ejemplo divide and conqer\n",
    "\n",
    "\n",
    "def divideAndConquer_Max(arr, ind, len):\n",
    "    maximum = -1;\n",
    "\n",
    "    if (ind >= len - 2):\n",
    "        if (arr[ind] > arr[ind + 1]):\n",
    "            return arr[ind];\n",
    "        else:\n",
    "            return arr[ind + 1];\n",
    "\n",
    "\n",
    "    maximum = divideAndConquer_Max(arr, ind + 1, len);\n",
    "\n",
    "    if (arr[ind] > maximum):\n",
    "        return arr[ind];\n",
    "    else:\n",
    "        return maximum;\n",
    "\n",
    "\n",
    "def divideAndConquer_Min(arr, ind, len):\n",
    "    minimum = 0;\n",
    "    if (ind >= len - 2):\n",
    "        if (arr[ind] < arr[ind + 1]):\n",
    "            return arr[ind];\n",
    "        else:\n",
    "            return arr[ind + 1];\n",
    "\n",
    "    minimum = divideAndConquer_Min(arr, ind + 1, len);\n",
    "\n",
    "    if (arr[ind] < minimum):\n",
    "        return arr[ind];\n",
    "    else:\n",
    "        return minimum;\n",
    "\n",
    "\n",
    "if __name__ == '__main__':\n",
    "\n",
    "    minimum, maximum = 0, -1;\n",
    "\n",
    "    # array initialization\n",
    "    arr = [6, 4, 8, 90, 12, 56, 7, 1, 63];\n",
    "\n",
    "    maximum = divideAndConquer_Max(arr, 0, 9);\n",
    "    minimum = divideAndConquer_Min(arr, 0, 9);\n",
    "\n",
    "    print(\"The minimum number in the array is: \", minimum);\n",
    "    print(\"The maximum number in the array is: \", maximum);"
   ]
  },
  {
   "cell_type": "code",
   "execution_count": null,
   "id": "a785f530",
   "metadata": {},
   "outputs": [],
   "source": []
  }
 ],
 "metadata": {
  "kernelspec": {
   "display_name": "Python 3 (ipykernel)",
   "language": "python",
   "name": "python3"
  },
  "language_info": {
   "codemirror_mode": {
    "name": "ipython",
    "version": 3
   },
   "file_extension": ".py",
   "mimetype": "text/x-python",
   "name": "python",
   "nbconvert_exporter": "python",
   "pygments_lexer": "ipython3",
   "version": "3.9.12"
  }
 },
 "nbformat": 4,
 "nbformat_minor": 5
}
