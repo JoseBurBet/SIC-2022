{
 "cells": [
  {
   "cell_type": "code",
   "execution_count": null,
   "id": "e2770bef",
   "metadata": {},
   "outputs": [],
   "source": [
    "#import math  \n",
    "#import math as m \n",
    "\n",
    "from math import sin as s, cos as c, factorial as f\n",
    "#sin(1)\n",
    "#cos(1)\n",
    "#factorial(5)\n",
    "fac=f(5)\n",
    "print(fac)\n"
   ]
  },
  {
   "cell_type": "code",
   "execution_count": null,
   "id": "22538c52",
   "metadata": {},
   "outputs": [],
   "source": [
    "import math \n",
    "math.factorial(6)"
   ]
  },
  {
   "cell_type": "code",
   "execution_count": null,
   "id": "93796e3c",
   "metadata": {
    "scrolled": true
   },
   "outputs": [],
   "source": [
    "import math as m\n",
    "m.factorial(6)"
   ]
  },
  {
   "cell_type": "markdown",
   "id": "d3d8fa3c",
   "metadata": {},
   "source": [
    "# LIBRERIA RANDOM"
   ]
  },
  {
   "cell_type": "code",
   "execution_count": null,
   "id": "e42c269e",
   "metadata": {},
   "outputs": [],
   "source": [
    "import random \n",
    "\n",
    "a=random.random() # retorna un numero decimal alatorio entre 0 y 1\n",
    "print(a)\n"
   ]
  },
  {
   "cell_type": "code",
   "execution_count": null,
   "id": "c65bfcc5",
   "metadata": {},
   "outputs": [],
   "source": [
    "import random \n",
    "lst_enemys=[\"orco\",\"dragon\",\"tortuga\",\"via libre\",\"slime\",\"47 withers\"]\n",
    "#enemy=random.choice(lst_enemys)\n",
    "#print(enemy)\n",
    "\n",
    "for i in range(20):\n",
    "    enemy=random.choice(lst_enemys) # retorna un elemento de la lista\n",
    "    print(enemy)"
   ]
  },
  {
   "cell_type": "code",
   "execution_count": null,
   "id": "01978073",
   "metadata": {},
   "outputs": [],
   "source": [
    "import random\n",
    "\n",
    "a=random.randint(1,100)# retorna un numero entero aleatorio entre 0 y 100\n",
    "print(a)"
   ]
  },
  {
   "cell_type": "code",
   "execution_count": null,
   "id": "c71d100f",
   "metadata": {},
   "outputs": [],
   "source": [
    "import random\n",
    "print(list(range(1,10,2)))\n",
    "a=random.randrange(1,10,2) #numero aleatorio impar\n",
    "print(a)\n",
    "print(\"__________________\")\n",
    "print(list(range(2,11,2)))\n",
    "b=random.randrange(2,11,2) #numero aleatorio par\n",
    "print(b)"
   ]
  },
  {
   "cell_type": "markdown",
   "id": "b6fd0757",
   "metadata": {},
   "source": [
    "# LIBRERIA TIME"
   ]
  },
  {
   "cell_type": "code",
   "execution_count": null,
   "id": "935dce14",
   "metadata": {},
   "outputs": [],
   "source": [
    "import time\n",
    "\n",
    "for i in range(10):\n",
    "    print(\"hello world \",i+1)\n",
    "    time.sleep(1) # cantidad de segundos que espera para repetir el for\n",
    "    "
   ]
  },
  {
   "cell_type": "code",
   "execution_count": null,
   "id": "69591c4c",
   "metadata": {},
   "outputs": [],
   "source": [
    "#relog digital\n",
    "import time\n",
    "\n",
    "\n",
    "for i in range(10):\n",
    "    \n",
    "    time.sleep(1) # cantidad de segundos que espera para repetir el for\n",
    "    print(time.ctime())"
   ]
  },
  {
   "cell_type": "code",
   "execution_count": null,
   "id": "1d929f10",
   "metadata": {},
   "outputs": [],
   "source": [
    "#time.strftime(\"formato\",time object)\n",
    "from time import gmtime , strftime ,localtime\n",
    "\n",
    "print(strftime(\"%a-%d-%b %Y %H:%M:%S \",gmtime())) # hora 0, gm 00:00, greenwich\n",
    "print(strftime(\"%d-%m-%Y %H:%M:%S \",localtime()))"
   ]
  },
  {
   "cell_type": "code",
   "execution_count": null,
   "id": "01c624f8",
   "metadata": {},
   "outputs": [],
   "source": [
    "from datetime import datetime\n",
    "\n",
    "now=datetime.now()\n",
    "\n",
    "print(now)\n",
    "print(now.day)\n",
    "print(now.second)\n",
    "print(now.hour)\n",
    "replace_time=now.replace(year= 2077) #cambia un valor\n",
    "print(replace_time)"
   ]
  },
  {
   "cell_type": "code",
   "execution_count": null,
   "id": "62cbf146",
   "metadata": {},
   "outputs": [],
   "source": [
    "from test import saludo # si funciona importar un metodo de un archivo.py\n",
    "\n",
    "saludo()"
   ]
  },
  {
   "cell_type": "code",
   "execution_count": null,
   "id": "e69c59e6",
   "metadata": {
    "scrolled": true
   },
   "outputs": [],
   "source": [
    "#from Semana5Gp4 import factorial # no funciona porque es un archivo . ipynb\n",
    "#factorial(5)"
   ]
  },
  {
   "cell_type": "markdown",
   "id": "10439e43",
   "metadata": {},
   "source": [
    "# OS , operating system"
   ]
  },
  {
   "cell_type": "code",
   "execution_count": 2,
   "id": "032f6af9",
   "metadata": {},
   "outputs": [
    {
     "data": {
      "text/plain": [
       "['.ipynb_checkpoints',\n",
       " 'chp6.ipynb',\n",
       " 'Semana5 Gp3.ipynb',\n",
       " 'Semana5 miercoles 14-09.ipynb',\n",
       " 'Semana5Gp4.ipynb',\n",
       " 'test.py',\n",
       " '__pycache__']"
      ]
     },
     "execution_count": 2,
     "metadata": {},
     "output_type": "execute_result"
    }
   ],
   "source": [
    "import os\n",
    "os.getcwd() # ruta de donde esta guardando las cosas mi jupyter\n",
    "os.listdir() # lista los archivos dentro del directorio"
   ]
  },
  {
   "cell_type": "code",
   "execution_count": 3,
   "id": "3f8cb698",
   "metadata": {},
   "outputs": [
    {
     "data": {
      "text/plain": [
       "'1.4.2'"
      ]
     },
     "execution_count": 3,
     "metadata": {},
     "output_type": "execute_result"
    }
   ],
   "source": [
    "import pandas as pd\n",
    "pd.__version__"
   ]
  }
 ],
 "metadata": {
  "kernelspec": {
   "display_name": "Python 3 (ipykernel)",
   "language": "python",
   "name": "python3"
  },
  "language_info": {
   "codemirror_mode": {
    "name": "ipython",
    "version": 3
   },
   "file_extension": ".py",
   "mimetype": "text/x-python",
   "name": "python",
   "nbconvert_exporter": "python",
   "pygments_lexer": "ipython3",
   "version": "3.9.12"
  }
 },
 "nbformat": 4,
 "nbformat_minor": 5
}
