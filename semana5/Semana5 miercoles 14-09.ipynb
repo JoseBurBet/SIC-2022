{
 "cells": [
  {
   "cell_type": "code",
   "execution_count": 1,
   "id": "457a9df3",
   "metadata": {},
   "outputs": [
    {
     "name": "stdout",
     "output_type": "stream",
     "text": [
      "120\n"
     ]
    }
   ],
   "source": [
    "#import math  \n",
    "#import math as m \n",
    "\n",
    "from math import sin as s, cos as c, factorial as f\n",
    "#sin(1)\n",
    "#cos(1)\n",
    "#factorial(5)\n",
    "fac=f(5)\n",
    "print(fac)\n"
   ]
  },
  {
   "cell_type": "code",
   "execution_count": 2,
   "id": "3fb54d9f",
   "metadata": {},
   "outputs": [
    {
     "data": {
      "text/plain": [
       "720"
      ]
     },
     "execution_count": 2,
     "metadata": {},
     "output_type": "execute_result"
    }
   ],
   "source": [
    "import math \n",
    "math.factorial(6)"
   ]
  },
  {
   "cell_type": "code",
   "execution_count": 3,
   "id": "da5cfd75",
   "metadata": {
    "scrolled": true
   },
   "outputs": [
    {
     "data": {
      "text/plain": [
       "720"
      ]
     },
     "execution_count": 3,
     "metadata": {},
     "output_type": "execute_result"
    }
   ],
   "source": [
    "import math as m\n",
    "m.factorial(6)"
   ]
  },
  {
   "cell_type": "markdown",
   "id": "fd7eef4d",
   "metadata": {},
   "source": [
    "# LIBRERIA RANDOM"
   ]
  },
  {
   "cell_type": "code",
   "execution_count": 4,
   "id": "0d5a206e",
   "metadata": {},
   "outputs": [
    {
     "name": "stdout",
     "output_type": "stream",
     "text": [
      "0.7461946214305251\n"
     ]
    }
   ],
   "source": [
    "import random \n",
    "\n",
    "a=random.random() # retorna un numero decimal alatorio entre 0 y 1\n",
    "print(a)\n"
   ]
  },
  {
   "cell_type": "code",
   "execution_count": 5,
   "id": "fca478cc",
   "metadata": {},
   "outputs": [
    {
     "name": "stdout",
     "output_type": "stream",
     "text": [
      "orco\n",
      "tortuga\n",
      "tortuga\n",
      "orco\n",
      "via libre\n",
      "orco\n",
      "tortuga\n",
      "via libre\n",
      "47 withers\n",
      "dragon\n",
      "orco\n",
      "slime\n",
      "tortuga\n",
      "slime\n",
      "orco\n",
      "via libre\n",
      "tortuga\n",
      "dragon\n",
      "tortuga\n",
      "slime\n"
     ]
    }
   ],
   "source": [
    "import random \n",
    "lst_enemys=[\"orco\",\"dragon\",\"tortuga\",\"via libre\",\"slime\",\"47 withers\"]\n",
    "#enemy=random.choice(lst_enemys)\n",
    "#print(enemy)\n",
    "\n",
    "for i in range(20):\n",
    "    enemy=random.choice(lst_enemys) # retorna un elemento de la lista\n",
    "    print(enemy)"
   ]
  },
  {
   "cell_type": "code",
   "execution_count": 6,
   "id": "0f6ce2ed",
   "metadata": {},
   "outputs": [
    {
     "name": "stdout",
     "output_type": "stream",
     "text": [
      "80\n"
     ]
    }
   ],
   "source": [
    "import random\n",
    "\n",
    "a=random.randint(1,100)# retorna un numero entero aleatorio entre 0 y 100\n",
    "print(a)"
   ]
  },
  {
   "cell_type": "code",
   "execution_count": 7,
   "id": "5b7f1da7",
   "metadata": {},
   "outputs": [
    {
     "name": "stdout",
     "output_type": "stream",
     "text": [
      "[1, 3, 5, 7, 9]\n",
      "5\n",
      "__________________\n",
      "[2, 4, 6, 8, 10]\n",
      "6\n"
     ]
    }
   ],
   "source": [
    "import random\n",
    "print(list(range(1,10,2)))\n",
    "a=random.randrange(1,10,2) #numero aleatorio impar\n",
    "print(a)\n",
    "print(\"__________________\")\n",
    "print(list(range(2,11,2)))\n",
    "b=random.randrange(2,11,2) #numero aleatorio par\n",
    "print(b)"
   ]
  },
  {
   "cell_type": "markdown",
   "id": "7c20942a",
   "metadata": {},
   "source": [
    "# LIBRERIA TIME"
   ]
  },
  {
   "cell_type": "code",
   "execution_count": 8,
   "id": "17fdf70c",
   "metadata": {},
   "outputs": [
    {
     "name": "stdout",
     "output_type": "stream",
     "text": [
      "hello world  1\n",
      "hello world  2\n",
      "hello world  3\n",
      "hello world  4\n",
      "hello world  5\n",
      "hello world  6\n",
      "hello world  7\n",
      "hello world  8\n",
      "hello world  9\n",
      "hello world  10\n"
     ]
    }
   ],
   "source": [
    "import time\n",
    "\n",
    "for i in range(10):\n",
    "    print(\"hello world \",i+1)\n",
    "    time.sleep(1) # cantidad de segundos que espera para repetir el for\n",
    "    "
   ]
  },
  {
   "cell_type": "code",
   "execution_count": 9,
   "id": "bf93edca",
   "metadata": {},
   "outputs": [
    {
     "name": "stdout",
     "output_type": "stream",
     "text": [
      "Wed Sep 14 19:58:41 2022\n",
      "Wed Sep 14 19:58:42 2022\n",
      "Wed Sep 14 19:58:43 2022\n",
      "Wed Sep 14 19:58:44 2022\n",
      "Wed Sep 14 19:58:45 2022\n",
      "Wed Sep 14 19:58:46 2022\n",
      "Wed Sep 14 19:58:47 2022\n",
      "Wed Sep 14 19:58:48 2022\n",
      "Wed Sep 14 19:58:49 2022\n",
      "Wed Sep 14 19:58:50 2022\n"
     ]
    }
   ],
   "source": [
    "#relog digital\n",
    "import time\n",
    "\n",
    "\n",
    "for i in range(10):\n",
    "    \n",
    "    time.sleep(1) # cantidad de segundos que espera para repetir el for\n",
    "    print(time.ctime())"
   ]
  },
  {
   "cell_type": "code",
   "execution_count": 10,
   "id": "74cbcd11",
   "metadata": {},
   "outputs": [
    {
     "name": "stdout",
     "output_type": "stream",
     "text": [
      "Thu-15-Sep 2022 00:58:50 \n",
      "14-09-2022 19:58:50 \n"
     ]
    }
   ],
   "source": [
    "#time.strftime(\"formato\",time object)\n",
    "from time import gmtime , strftime ,localtime\n",
    "\n",
    "print(strftime(\"%a-%d-%b %Y %H:%M:%S \",gmtime())) # hora 0, gm 00:00, greenwich\n",
    "print(strftime(\"%d-%m-%Y %H:%M:%S \",localtime()))"
   ]
  },
  {
   "cell_type": "code",
   "execution_count": 11,
   "id": "907ce231",
   "metadata": {},
   "outputs": [
    {
     "name": "stdout",
     "output_type": "stream",
     "text": [
      "2022-09-14 19:58:50.200831\n",
      "14\n",
      "50\n",
      "19\n",
      "2077-09-14 19:58:50.200831\n"
     ]
    }
   ],
   "source": [
    "from datetime import datetime\n",
    "\n",
    "now=datetime.now()\n",
    "\n",
    "print(now)\n",
    "print(now.day)\n",
    "print(now.second)\n",
    "print(now.hour)\n",
    "replace_time=now.replace(year= 2077) #cambia un valor\n",
    "print(replace_time)"
   ]
  },
  {
   "cell_type": "code",
   "execution_count": 12,
   "id": "8d55735a",
   "metadata": {},
   "outputs": [
    {
     "name": "stdout",
     "output_type": "stream",
     "text": [
      "la prueba funciona\n"
     ]
    }
   ],
   "source": [
    "from test import saludo # si funciona importar un metodo de un archivo.py\n",
    "\n",
    "saludo()"
   ]
  },
  {
   "cell_type": "code",
   "execution_count": 13,
   "id": "e6703acd",
   "metadata": {
    "scrolled": true
   },
   "outputs": [],
   "source": [
    "#from Semana5Gp4 import factorial # no funciona porque es un archivo . ipynb\n",
    "#factorial(5)"
   ]
  },
  {
   "cell_type": "markdown",
   "id": "8cab775f",
   "metadata": {},
   "source": [
    "# OS , operating system"
   ]
  },
  {
   "cell_type": "code",
   "execution_count": 14,
   "id": "d4e23406",
   "metadata": {},
   "outputs": [
    {
     "data": {
      "text/plain": [
       "['.ipynb_checkpoints',\n",
       " 'chp6.ipynb',\n",
       " 'Semana5 Gp3.ipynb',\n",
       " 'Semana5 miercoles 14-09.ipynb',\n",
       " 'Semana5Gp4.ipynb',\n",
       " 'test.py',\n",
       " '__pycache__']"
      ]
     },
     "execution_count": 14,
     "metadata": {},
     "output_type": "execute_result"
    }
   ],
   "source": [
    "import os\n",
    "os.getcwd() # ruta de donde esta guardando las cosas mi jupyter\n",
    "os.listdir() # lista los archivos dentro del directorio"
   ]
  },
  {
   "cell_type": "code",
   "execution_count": 15,
   "id": "cef0cce6",
   "metadata": {},
   "outputs": [
    {
     "data": {
      "text/plain": [
       "'1.4.2'"
      ]
     },
     "execution_count": 15,
     "metadata": {},
     "output_type": "execute_result"
    }
   ],
   "source": [
    "import pandas as pd\n",
    "pd.__version__"
   ]
  }
 ],
 "metadata": {
  "kernelspec": {
   "display_name": "Python 3 (ipykernel)",
   "language": "python",
   "name": "python3"
  },
  "language_info": {
   "codemirror_mode": {
    "name": "ipython",
    "version": 3
   },
   "file_extension": ".py",
   "mimetype": "text/x-python",
   "name": "python",
   "nbconvert_exporter": "python",
   "pygments_lexer": "ipython3",
   "version": "3.9.12"
  }
 },
 "nbformat": 4,
 "nbformat_minor": 5
}
