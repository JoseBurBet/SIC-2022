{
 "cells": [
  {
   "cell_type": "code",
   "execution_count": null,
   "id": "c9a22ca4",
   "metadata": {},
   "outputs": [],
   "source": [
    "#recursividad \n",
    "#memoizacion\n",
    "#iteracion"
   ]
  },
  {
   "cell_type": "code",
   "execution_count": null,
   "id": "e3c12e35",
   "metadata": {},
   "outputs": [],
   "source": [
    "#Recursividad\n",
    "#Llamar a una funcion dentro de si misma\n",
    "#Se usa para repetir, sin usar bucles!!!!!!!\n",
    "# los bucles(ciclos) consumen recursos de la maquina y si son demasiados pueden hacer el proceso lento\n",
    "# lo hacemos para mejorar la OPTIMIZACION\n",
    "\n",
    "#para que???????????\n",
    "#para no tener que poner for"
   ]
  },
  {
   "cell_type": "code",
   "execution_count": 3,
   "id": "56ac26a4",
   "metadata": {},
   "outputs": [
    {
     "name": "stdout",
     "output_type": "stream",
     "text": [
      "ingrese un numero : 5\n",
      "1\n",
      "2\n",
      "3\n",
      "4\n",
      "5\n"
     ]
    }
   ],
   "source": [
    "## ejemplo SIN RECURSIVIDAD ## utilizando bucles\n",
    "\n",
    "#crear una funcion que imprima los numeros del 1 al 5\n",
    "\n",
    "def imprimir(x):\n",
    "    \n",
    "    if x>0:\n",
    "        print(x)\n",
    "\n",
    "n=int(input(\"ingrese un numero : \"))\n",
    "\n",
    "for i in range(n+1):\n",
    "    imprimir(i)\n",
    "    \n",
    "    "
   ]
  },
  {
   "cell_type": "code",
   "execution_count": 7,
   "id": "e0858fc2",
   "metadata": {},
   "outputs": [
    {
     "name": "stdout",
     "output_type": "stream",
     "text": [
      "ingrese un numero : 0\n",
      "0\n"
     ]
    }
   ],
   "source": [
    "## ejemplo CON RECURSIVIDAD ## \n",
    "\n",
    "#crear una funcion que imprima los numeros del 1 al 5\n",
    "\n",
    "def imprimir(x):\n",
    "    #print(x)\n",
    "    if x>0:\n",
    "        imprimir(x-1)\n",
    "        print(x)\n",
    "\n",
    "        \n",
    "n=int(input(\"ingrese un numero : \"))\n",
    "imprimir(n)"
   ]
  },
  {
   "cell_type": "code",
   "execution_count": null,
   "id": "5c1abc31",
   "metadata": {},
   "outputs": [],
   "source": [
    "#Memoizacion\n",
    "\n",
    "5! = 5*4*3*2*1\n",
    "1! = 1*0 = 1\n",
    "\n",
    "5! = 5*4*3*2*1\n",
    "5! = 5*4!\n",
    "4! = 4*3*2*1"
   ]
  }
 ],
 "metadata": {
  "kernelspec": {
   "display_name": "Python 3 (ipykernel)",
   "language": "python",
   "name": "python3"
  },
  "language_info": {
   "codemirror_mode": {
    "name": "ipython",
    "version": 3
   },
   "file_extension": ".py",
   "mimetype": "text/x-python",
   "name": "python",
   "nbconvert_exporter": "python",
   "pygments_lexer": "ipython3",
   "version": "3.9.12"
  }
 },
 "nbformat": 4,
 "nbformat_minor": 5
}
