{
 "cells": [
  {
   "cell_type": "code",
   "execution_count": null,
   "id": "58c62dd2",
   "metadata": {},
   "outputs": [],
   "source": [
    "#Recursividad\n",
    "#Llamar a una funcion dentro de si misma\n",
    "#Se usa para repetir, sin usar bucles!!!!!!!\n",
    "# los bucles(ciclos) consumen recursos de la maquina y si son demasiados pueden hacer el proceso lento\n",
    "# lo hacemos para mejorar la OPTIMIZACION"
   ]
  },
  {
   "cell_type": "code",
   "execution_count": null,
   "id": "61e9d108",
   "metadata": {},
   "outputs": [],
   "source": [
    "## ejemplo SIN RECURSIVIDAD ## utilizando bucles\n",
    "\n",
    "#crear una funcion que imprima los numeros del 1 al n\n",
    "\n",
    "def imprimir(x):\n",
    "    \n",
    "    if x>0:\n",
    "        print(x)\n",
    "\n",
    "n=int(input(\"ingrese un numero\"))\n",
    "\n",
    "for i in range(n+1): #repetir\n",
    "\n",
    "    imprimir(i)"
   ]
  },
  {
   "cell_type": "code",
   "execution_count": null,
   "id": "a84e33f0",
   "metadata": {},
   "outputs": [],
   "source": [
    "## ejemplo RECURSIVIDAD ## \n",
    "#crear una funcion que imprima los numeros del 1 al n\n",
    "\n",
    "def imprimir(x):\n",
    "    #print(x)\n",
    "    if x>0:\n",
    "        imprimir(x-1)\n",
    "        #print(\"___________________\")\n",
    "        print(x)\n",
    "\n",
    "n=int(input(\"ingrese un numero : \"))\n",
    "imprimir(n)"
   ]
  },
  {
   "cell_type": "code",
   "execution_count": 1,
   "id": "a0931ffd",
   "metadata": {},
   "outputs": [
    {
     "name": "stdout",
     "output_type": "stream",
     "text": [
      "ingrese un numero : 3\n",
      "numero vale:  1 resultado es:  1\n",
      "numero vale:  2 resultado es:  2\n",
      "numero vale:  3 resultado es:  6\n",
      "3! = 6\n"
     ]
    }
   ],
   "source": [
    "#5! = 5*4*3*2*1*0  #1*0 =1 =240\n",
    "#5! = 5*4!\n",
    "#4! = 4*3!\n",
    "#1! = 1*0!\n",
    "#0! = 1\n",
    "\n",
    "def factorial(numero):\n",
    "    \n",
    "    if numero>0:\n",
    "        resultado=numero*factorial(numero-1)\n",
    "        print(\"numero vale: \",numero ,\"resultado es: \",resultado)\n",
    "        return resultado\n",
    "    else:\n",
    "        return 1\n",
    "    \n",
    "n=int(input(\"ingrese un numero : \"))\n",
    "print(\"{}! = {}\".format(n,factorial(n)))    \n",
    "    "
   ]
  },
  {
   "cell_type": "code",
   "execution_count": null,
   "id": "2863fb38",
   "metadata": {},
   "outputs": [],
   "source": [
    "#MEMOIZACION\n",
    "\n",
    "#5! = 5*4*3*2*1*0  #1*0 =1 =240\n",
    "#5! = 5*4!\n",
    "#4! = 4*3!\n",
    "#1! = 1*0!\n",
    "#0! = 1"
   ]
  },
  {
   "cell_type": "code",
   "execution_count": 20,
   "id": "5d994039",
   "metadata": {},
   "outputs": [
    {
     "name": "stdout",
     "output_type": "stream",
     "text": [
      "ingrese un numero : 3\n",
      "6\n"
     ]
    }
   ],
   "source": [
    "def factorial_1(n):\n",
    "    ''' Factorial memoizado manualmente.\n",
    "    Los factoriales ya calculados se guardan en __dict__\n",
    "    '''\n",
    "    if n in factorial_1.__dict__:\n",
    "        return factorial_1.__dict__[n]\n",
    "\n",
    "    if n > 1:\n",
    "        fac = n * factorial_1(n - 1)\n",
    "    else:\n",
    "        fac = 1\n",
    "\n",
    "    factorial_1.__dict__[n] = fac\n",
    "    return fac\n",
    "\n",
    "n=int(input(\"ingrese un numero : \"))\n",
    "print(factorial_1(n))\n",
    "\n"
   ]
  },
  {
   "cell_type": "code",
   "execution_count": null,
   "id": "54a299c8",
   "metadata": {},
   "outputs": [],
   "source": []
  }
 ],
 "metadata": {
  "kernelspec": {
   "display_name": "Python 3 (ipykernel)",
   "language": "python",
   "name": "python3"
  },
  "language_info": {
   "codemirror_mode": {
    "name": "ipython",
    "version": 3
   },
   "file_extension": ".py",
   "mimetype": "text/x-python",
   "name": "python",
   "nbconvert_exporter": "python",
   "pygments_lexer": "ipython3",
   "version": "3.9.12"
  }
 },
 "nbformat": 4,
 "nbformat_minor": 5
}
