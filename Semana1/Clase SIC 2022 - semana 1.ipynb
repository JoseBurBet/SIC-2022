{
 "cells": [
  {
   "cell_type": "code",
   "execution_count": 2,
   "id": "cf513c6e",
   "metadata": {},
   "outputs": [
    {
     "name": "stdout",
     "output_type": "stream",
     "text": [
      "ingrese dos numeros separados por un espacio \n",
      "10 3\n",
      "la suma es:  13\n",
      "la suma es: 13\n",
      "la resta es: 7\n",
      "la division es: 3.3333333333333335\n",
      "la multiplicacion es: 30\n",
      "la potencia es: 1000\n",
      "la modulo es: 1\n",
      "la cocienteExacto es: 3\n",
      "la raiz es: 2.154434690031884\n"
     ]
    }
   ],
   "source": [
    "# Calculadora\n",
    "# Profe Jose\n",
    "# clase 1 17/08/2022\n",
    "\n",
    "try: # try ejecuta el codigo hasta que salga un error, en este ejemplo\n",
    "     # un error seria no ingresar un numero sino letras\n",
    "    #dato1=input(\"mensaje\") \n",
    "    #dato2=input(\"mensaje\") \n",
    "    #tipo int ->numeros enteros\n",
    "    #tipo string -> cadenas de texto (letras)\n",
    "    dato1,dato2=input(\"ingrese dos numeros separados por un espacio \\n\").split() #la función split separa cada entrada para asignarla a cada variable\n",
    "    suma=int(dato1)+int(dato2)\n",
    "    resta=int(dato1)-int(dato2)\n",
    "    division=int(dato1)/int(dato2)\n",
    "    multiplicacion=int(dato1)*int(dato2)\n",
    "    potencia=int(dato1)**int(dato2)\n",
    "    modulo=int(dato1)%int(dato2)\n",
    "    cocienteExacto=int(dato1)//int(dato2)\n",
    "    raiz=int(dato1)**(1/int(dato2))\n",
    "    print(\"la suma es: \" ,suma) # dos maneras de imprimir\n",
    "    print(\"la suma es: \" + str(suma))\n",
    "    print(\"la resta es: \" + str(resta))\n",
    "    print(\"la division es: \" + str(division))\n",
    "    print(\"la multiplicacion es: \" + str(multiplicacion))\n",
    "    print(\"la potencia es: \" + str(potencia))\n",
    "    print(\"la modulo es: \" + str(modulo))\n",
    "    print(\"la cocienteExacto es: \" + str(cocienteExacto))\n",
    "    print(\"la raiz es: \" + str(raiz))\n",
    "    \n",
    "except: # cuando el try detecta el error se activa este código y saca este mensaje \n",
    "    print(\"verifica si lo ingresado si es un numero\")\n",
    "  "
   ]
  },
  {
   "cell_type": "code",
   "execution_count": 4,
   "id": "4bbe20be",
   "metadata": {},
   "outputs": [
    {
     "name": "stdout",
     "output_type": "stream",
     "text": [
      " \t ingrese un numero \n",
      " 3\n",
      "dato\n",
      "3\n",
      "el dato es: 3\n",
      "6.140000000000001\n"
     ]
    }
   ],
   "source": [
    "#int(palabra) -> convertir un tipo string en tipo numero = int\n",
    "#str(numero) -> convertir un tipo numero a string \n",
    "\n",
    "dato=input(\" \\t ingrese un numero \\n \") # \\t añade una tabulación , \\n añade un salto de linea\n",
    "datoInt=int(dato)\n",
    "print(\"dato\")\n",
    "print(dato)\n",
    "print(\"el dato es: \" + str(datoInt))\n",
    "\n",
    "v1= 3\n",
    "v2= 3.14 # no tipo int sino tipo float\n",
    "suma= v1+v2\n",
    "print(suma)\n"
   ]
  },
  {
   "cell_type": "code",
   "execution_count": 26,
   "id": "36c87ae5",
   "metadata": {},
   "outputs": [
    {
     "name": "stdout",
     "output_type": "stream",
     "text": [
      "ingrese 2 numeros separados por espacio : \n",
      "3 4\n",
      "el numero mayor es: 4\n"
     ]
    }
   ],
   "source": [
    "#ejemplo de condicional con if -> si\n",
    "#dato1=input(\"ingrese un numero\")\n",
    "#dato2=input(\"ingrese otro numero\")\n",
    "#En el if, si se cumple una condicion ejecuta ese codigo e ignora \n",
    "    #todo lo demas\n",
    "\n",
    "dato1,dato2=input(\"ingrese 2 numeros separados por espacio : \\n\").split() # recordemos que el split hace lo mismo que las lineas 2 y 3\n",
    "\n",
    "if int(dato1)>int(dato2): # si?\n",
    "    print(\"el numero mayor es: \" + dato1)\n",
    "    \n",
    "    #else if -> si no entonces\n",
    "elif int(dato1)<int(dato2): # si no otra opcion\n",
    "    print(\"el numero mayor es: \" + dato2)\n",
    "#elif int(dato1)==int(dato2): #sino\n",
    "#    print(\"los numeros son iguales\")\n",
    "else: #cualqueir otra opcion de descarte\n",
    "    print(\"los numeros son iguales\")\n",
    "    \n",
    "#< menor que ,> mayor que ,<= menor o igual que , >= mayor o igual que\n",
    "# == pregunta si son iguales ,!= pregunta si son diferentes \n",
    "    "
   ]
  },
  {
   "cell_type": "code",
   "execution_count": 6,
   "id": "43925769",
   "metadata": {},
   "outputs": [
    {
     "name": "stdout",
     "output_type": "stream",
     "text": [
      "ingrese 2 numeros separados por espacio : \n",
      "3 3\n",
      "los numeros son iguales\n"
     ]
    }
   ],
   "source": [
    "dato1,dato2=input(\"ingrese 2 numeros separados por espacio : \\n\").split()\n",
    "\n",
    "# operador lógico or , se cumple si cualquiera de las 2 se cumple\n",
    "\n",
    "if int(dato1)>int(dato2) or int(dato1)<int(dato2): #sino    \n",
    "    #or permite que si se cumple alguna de las 2 condiciones ejecute el codigo \n",
    "    print(\"no me interesa\")\n",
    "else:\n",
    "    print(\"los numeros son iguales\")\n",
    "    "
   ]
  },
  {
   "cell_type": "code",
   "execution_count": 9,
   "id": "b1e748b1",
   "metadata": {},
   "outputs": [
    {
     "name": "stdout",
     "output_type": "stream",
     "text": [
      "ingrese su usuario: jose\n",
      "ingrese su contraseña: wr3werwr\n",
      "contraseña incorrecta\n"
     ]
    }
   ],
   "source": [
    "user=\"jose\" \n",
    "password=\"python\"\n",
    "us=input(\"ingrese su usuario: \")\n",
    "pas=input(\"ingrese su contraseña: \")\n",
    "\n",
    "# operador logico and , solo se cumple cuando ambas cosas se cumplen\n",
    "if user==us and password==pas:\n",
    "    print(\"logueado\")\n",
    "elif user==us and password!=pas: \n",
    "    print(\"contraseña incorrecta\")\n",
    "else:\n",
    "    print(\"datos incorrectos\")\n"
   ]
  },
  {
   "cell_type": "code",
   "execution_count": 11,
   "id": "d0237f8c",
   "metadata": {},
   "outputs": [
    {
     "name": "stdout",
     "output_type": "stream",
     "text": [
      "ingrese su contraseña: etrert\n",
      "1\n",
      "loging failed\n",
      "ingrese su contraseña: python\n",
      "2\n",
      "loging success\n",
      "fin del programa\n"
     ]
    }
   ],
   "source": [
    "password=\"python\"\n",
    "pas=\"\"\n",
    "contador = 0 #i, j,k\n",
    "\n",
    "# while(mientras) es un bucle que se repite infinitamente hasta que se cumpla la condición, si le añado un contador se convierte en un for\n",
    "while pas!= password and contador<3 :# mientras ->repite mientras la condicion se cumpla\n",
    "    pas=input(\"ingrese su contraseña: \")\n",
    "    contador=contador+1 # los contadores se usan como variables auxiliares, es una variable que se actualiza y aumenta en cada repetición\n",
    "    print(contador)\n",
    "    #contador+=1 #otra opcion que hace lo mismo\n",
    "    if pas!= password:\n",
    "        print(\"loging failed\")\n",
    "    else:\n",
    "        print(\"loging success\")\n",
    "        #contador=4\n",
    "        break\n",
    "print(\"fin del programa\")"
   ]
  },
  {
   "cell_type": "code",
   "execution_count": null,
   "id": "e8ce0ceb",
   "metadata": {},
   "outputs": [],
   "source": []
  }
 ],
 "metadata": {
  "kernelspec": {
   "display_name": "Python 3 (ipykernel)",
   "language": "python",
   "name": "python3"
  },
  "language_info": {
   "codemirror_mode": {
    "name": "ipython",
    "version": 3
   },
   "file_extension": ".py",
   "mimetype": "text/x-python",
   "name": "python",
   "nbconvert_exporter": "python",
   "pygments_lexer": "ipython3",
   "version": "3.9.12"
  }
 },
 "nbformat": 4,
 "nbformat_minor": 5
}
